{
 "cells": [
  {
   "cell_type": "code",
   "execution_count": 2,
   "metadata": {
    "collapsed": false
   },
   "outputs": [
    {
     "data": {
      "text/plain": [
       "43"
      ]
     },
     "execution_count": 2,
     "metadata": {},
     "output_type": "execute_result"
    }
   ],
   "source": [
    "class Counter:\n",
    "    \"\"\"I count. This is all\"\"\"\n",
    "    def __init__(self, initial=0):\n",
    "        self.value = initial\n",
    "        \n",
    "    def increment(self):\n",
    "        self.value += 1\n",
    "        \n",
    "    def get(self): \n",
    "        return self.value\n",
    "    \n",
    "c = Counter(42)\n",
    "c.increment()\n",
    "c.get()"
   ]
  },
  {
   "cell_type": "markdown",
   "metadata": {},
   "source": [
    "* Нет ключевого слова **this**. Первый аргумент конструктора __init__ и всех остальных методов - это и есть экземпляр класса. Его принято называть **self**. \n",
    "* Синтаксис не запрещает называть экземпляр класса по-другому, но это не рекомендуется делать. \n",
    "* Python разделяет атрибуты класса и атрибуты экземпляра.\n",
    "* Атрибуты экземпляра добавляются с помощью присваивания к self.\n",
    "* Атрибуты класса добавляются в теле класса или прямым присваиванием к классу\n",
    "* В Python нет модификаторов доступа к трибутам и методам\n",
    "* Визуально публичные и внутренние атрибуты разделяют с помощью символа подчеркивания.\n",
    "\n",
    "* Все классы неявно наследуются от **object**"
   ]
  },
  {
   "cell_type": "code",
   "execution_count": 7,
   "metadata": {
    "collapsed": false
   },
   "outputs": [
    {
     "name": "stdout",
     "output_type": "stream",
     "text": [
      "I count. This is all\n",
      "Counter\n",
      "__main__\n",
      "(<class 'object'>,)\n",
      "<class 'type'>\n",
      "{'__doc__': 'I count. This is all', '__dict__': <attribute '__dict__' of 'Counter' objects>, '__weakref__': <attribute '__weakref__' of 'Counter' objects>, '__module__': '__main__', 'increment': <function Counter.increment at 0x105b71d08>, '__init__': <function Counter.__init__ at 0x105b71c80>, 'get': <function Counter.get at 0x105b71d90>}\n",
      "{'value': 0}\n"
     ]
    }
   ],
   "source": [
    "print(Counter.__doc__)\n",
    "print(Counter.__name__)\n",
    "print(Counter.__module__)\n",
    "print(Counter.__bases__)\n",
    "print(Counter.__class__)\n",
    "print(Counter.__dict__)\n",
    "print(Counter().__dict__)"
   ]
  },
  {
   "cell_type": "markdown",
   "metadata": {},
   "source": [
    "* Все атрибуты доступны в виде словаря\n",
    "* Добавление и изменение атрибутов - это фактически операция со словарем\n",
    "* Поиск значения атрибута происходит динамически в момент выполнения программы\n",
    "* Для доступа к словарю можно также использовать функцию  **vars**"
   ]
  },
  {
   "cell_type": "code",
   "execution_count": 8,
   "metadata": {
    "collapsed": false
   },
   "outputs": [
    {
     "data": {
      "text/plain": [
       "mappingproxy({'__doc__': 'I count. This is all', '__dict__': <attribute '__dict__' of 'Counter' objects>, '__weakref__': <attribute '__weakref__' of 'Counter' objects>, '__module__': '__main__', 'increment': <function Counter.increment at 0x105b71d08>, '__init__': <function Counter.__init__ at 0x105b71c80>, 'get': <function Counter.get at 0x105b71d90>})"
      ]
     },
     "execution_count": 8,
     "metadata": {},
     "output_type": "execute_result"
    }
   ],
   "source": [
    "vars(Counter)"
   ]
  },
  {
   "cell_type": "markdown",
   "metadata": {},
   "source": [
    "С помощью специального атрибута класса slots можно зафиксировать множество возможных атрибутов экземпляра"
   ]
  },
  {
   "cell_type": "code",
   "execution_count": 9,
   "metadata": {
    "collapsed": false
   },
   "outputs": [
    {
     "data": {
      "text/plain": [
       "42"
      ]
     },
     "execution_count": 9,
     "metadata": {},
     "output_type": "execute_result"
    }
   ],
   "source": [
    "class Noop:\n",
    "    __slots__ = [\"some_attr\"]\n",
    "    \n",
    "noop = Noop()\n",
    "noop.some_attr = 42\n",
    "noop.some_attr"
   ]
  },
  {
   "cell_type": "code",
   "execution_count": 10,
   "metadata": {
    "collapsed": false
   },
   "outputs": [
    {
     "ename": "AttributeError",
     "evalue": "'Noop' object has no attribute 'some_other_attr'",
     "output_type": "error",
     "traceback": [
      "\u001b[0;31m---------------------------------------------------------------------------\u001b[0m",
      "\u001b[0;31mAttributeError\u001b[0m                            Traceback (most recent call last)",
      "\u001b[0;32m<ipython-input-10-7b663cc13cb2>\u001b[0m in \u001b[0;36m<module>\u001b[0;34m()\u001b[0m\n\u001b[0;32m----> 1\u001b[0;31m \u001b[0mnoop\u001b[0m\u001b[0;34m.\u001b[0m\u001b[0msome_other_attr\u001b[0m\u001b[0;34m\u001b[0m\u001b[0m\n\u001b[0m",
      "\u001b[0;31mAttributeError\u001b[0m: 'Noop' object has no attribute 'some_other_attr'"
     ]
    }
   ],
   "source": [
    "noop.some_other_attr"
   ]
  },
  {
   "cell_type": "code",
   "execution_count": 11,
   "metadata": {
    "collapsed": false
   },
   "outputs": [
    {
     "ename": "AttributeError",
     "evalue": "'Noop' object has no attribute '__dict__'",
     "output_type": "error",
     "traceback": [
      "\u001b[0;31m---------------------------------------------------------------------------\u001b[0m",
      "\u001b[0;31mAttributeError\u001b[0m                            Traceback (most recent call last)",
      "\u001b[0;32m<ipython-input-11-8c32212a7411>\u001b[0m in \u001b[0;36m<module>\u001b[0;34m()\u001b[0m\n\u001b[0;32m----> 1\u001b[0;31m \u001b[0mnoop\u001b[0m\u001b[0;34m.\u001b[0m\u001b[0m__dict__\u001b[0m\u001b[0;34m\u001b[0m\u001b[0m\n\u001b[0m",
      "\u001b[0;31mAttributeError\u001b[0m: 'Noop' object has no attribute '__dict__'"
     ]
    }
   ],
   "source": [
    "noop.__dict__"
   ]
  },
  {
   "cell_type": "markdown",
   "metadata": {},
   "source": [
    "* У связанного метода первый аргумент уже зафиксирован и равен соотв. экземпляру\n",
    "* У несвязанного метода необходимо передать экземпляр первым аргументов в момент вызова"
   ]
  },
  {
   "cell_type": "code",
   "execution_count": 13,
   "metadata": {
    "collapsed": false
   },
   "outputs": [
    {
     "name": "stdout",
     "output_type": "stream",
     "text": [
      "<bound method SomeClass.do_smth of <__main__.SomeClass object at 0x105b7fd30>>\n",
      "Do smth\n"
     ]
    }
   ],
   "source": [
    "class SomeClass:\n",
    "    def do_smth(self):\n",
    "        print('Do smth')\n",
    "        \n",
    "print(SomeClass().do_smth)\n",
    "SomeClass().do_smth()"
   ]
  },
  {
   "cell_type": "code",
   "execution_count": 15,
   "metadata": {
    "collapsed": false
   },
   "outputs": [
    {
     "name": "stdout",
     "output_type": "stream",
     "text": [
      "<function SomeClass.do_smth at 0x105b71488>\n",
      "Do smth\n"
     ]
    }
   ],
   "source": [
    "print(SomeClass.do_smth)\n",
    "instance = SomeClass()\n",
    "SomeClass.do_smth(instance)"
   ]
  },
  {
   "cell_type": "markdown",
   "metadata": {},
   "source": [
    "* Механизм свойств позволяет объявлять атрибуты, значение которых вычисляется в момент обращения"
   ]
  },
  {
   "cell_type": "code",
   "execution_count": 21,
   "metadata": {
    "collapsed": false
   },
   "outputs": [
    {
     "name": "stdout",
     "output_type": "stream",
     "text": [
      "Path(..)\n"
     ]
    }
   ],
   "source": [
    "from os.path import dirname\n",
    "\n",
    "class Path:\n",
    "    def __init__(self, current):\n",
    "        self.current = current\n",
    "        \n",
    "    def __repr__(self):\n",
    "        return \"Path({})\".format(self.current)\n",
    "    \n",
    "    @property\n",
    "    def parent(self):\n",
    "        return Path(dirname(self.current))\n",
    "    \n",
    "    \n",
    "p = Path(\"../..\")\n",
    "print(p.parent)"
   ]
  },
  {
   "cell_type": "code",
   "execution_count": 24,
   "metadata": {
    "collapsed": false
   },
   "outputs": [
    {
     "name": "stdout",
     "output_type": "stream",
     "text": [
      "[0.1, 0.5, 0.4]\n"
     ]
    },
    {
     "ename": "AssertionError",
     "evalue": "",
     "output_type": "error",
     "traceback": [
      "\u001b[0;31m---------------------------------------------------------------------------\u001b[0m",
      "\u001b[0;31mAssertionError\u001b[0m                            Traceback (most recent call last)",
      "\u001b[0;32m<ipython-input-24-9437a21427de>\u001b[0m in \u001b[0;36m<module>\u001b[0;34m()\u001b[0m\n\u001b[1;32m     19\u001b[0m \u001b[0mmodel\u001b[0m\u001b[0;34m.\u001b[0m\u001b[0mparams\u001b[0m \u001b[0;34m=\u001b[0m \u001b[0;34m[\u001b[0m\u001b[0;36m0.1\u001b[0m\u001b[0;34m,\u001b[0m \u001b[0;36m0.5\u001b[0m\u001b[0;34m,\u001b[0m \u001b[0;36m0.4\u001b[0m\u001b[0;34m]\u001b[0m\u001b[0;34m\u001b[0m\u001b[0m\n\u001b[1;32m     20\u001b[0m \u001b[0mprint\u001b[0m\u001b[0;34m(\u001b[0m\u001b[0mmodel\u001b[0m\u001b[0;34m.\u001b[0m\u001b[0mparams\u001b[0m\u001b[0;34m)\u001b[0m\u001b[0;34m\u001b[0m\u001b[0m\n\u001b[0;32m---> 21\u001b[0;31m \u001b[0mmodel\u001b[0m\u001b[0;34m.\u001b[0m\u001b[0mparams\u001b[0m \u001b[0;34m=\u001b[0m \u001b[0;34m[\u001b[0m\u001b[0;36m0.1\u001b[0m\u001b[0;34m,\u001b[0m \u001b[0;36m0.5\u001b[0m\u001b[0;34m,\u001b[0m \u001b[0;36m0.4\u001b[0m\u001b[0;34m,\u001b[0m \u001b[0;34m-\u001b[0m\u001b[0;36m3\u001b[0m\u001b[0;34m]\u001b[0m\u001b[0;34m\u001b[0m\u001b[0m\n\u001b[0m",
      "\u001b[0;32m<ipython-input-24-9437a21427de>\u001b[0m in \u001b[0;36mparams\u001b[0;34m(self, new_params)\u001b[0m\n\u001b[1;32m      9\u001b[0m     \u001b[0;34m@\u001b[0m\u001b[0mparams\u001b[0m\u001b[0;34m.\u001b[0m\u001b[0msetter\u001b[0m\u001b[0;34m\u001b[0m\u001b[0m\n\u001b[1;32m     10\u001b[0m     \u001b[0;32mdef\u001b[0m \u001b[0mparams\u001b[0m\u001b[0;34m(\u001b[0m\u001b[0mself\u001b[0m\u001b[0;34m,\u001b[0m \u001b[0mnew_params\u001b[0m\u001b[0;34m)\u001b[0m\u001b[0;34m:\u001b[0m\u001b[0;34m\u001b[0m\u001b[0m\n\u001b[0;32m---> 11\u001b[0;31m         \u001b[0;32massert\u001b[0m \u001b[0mall\u001b[0m\u001b[0;34m(\u001b[0m\u001b[0mmap\u001b[0m\u001b[0;34m(\u001b[0m\u001b[0;32mlambda\u001b[0m \u001b[0mp\u001b[0m\u001b[0;34m:\u001b[0m \u001b[0mp\u001b[0m \u001b[0;34m>\u001b[0m \u001b[0;36m0\u001b[0m\u001b[0;34m,\u001b[0m \u001b[0mnew_params\u001b[0m\u001b[0;34m)\u001b[0m\u001b[0;34m)\u001b[0m\u001b[0;34m\u001b[0m\u001b[0m\n\u001b[0m\u001b[1;32m     12\u001b[0m         \u001b[0mself\u001b[0m\u001b[0;34m.\u001b[0m\u001b[0m_params\u001b[0m \u001b[0;34m=\u001b[0m \u001b[0mnew_params\u001b[0m\u001b[0;34m\u001b[0m\u001b[0m\n\u001b[1;32m     13\u001b[0m \u001b[0;34m\u001b[0m\u001b[0m\n",
      "\u001b[0;31mAssertionError\u001b[0m: "
     ]
    }
   ],
   "source": [
    "class BigDataModel:\n",
    "    def __init__(self):\n",
    "        self._params = []\n",
    "        \n",
    "    @property\n",
    "    def params(self):\n",
    "        return self._params\n",
    "    \n",
    "    @params.setter\n",
    "    def params(self, new_params):\n",
    "        assert all(map(lambda p: p > 0, new_params))\n",
    "        self._params = new_params\n",
    "        \n",
    "    @params.deleter\n",
    "    def params(self):\n",
    "        del self._params\n",
    "        \n",
    "model = BigDataModel()\n",
    "model.params = [0.1, 0.5, 0.4]\n",
    "print(model.params)\n",
    "model.params = [0.1, 0.5, 0.4, -3]"
   ]
  },
  {
   "cell_type": "markdown",
   "metadata": {},
   "source": [
    "###  Наследование"
   ]
  },
  {
   "cell_type": "markdown",
   "metadata": {},
   "source": [
    "* Синтаксис оператора class позволяет унаследовать объявляемый класс от произвольного количества других классов\n",
    "* Поиск имени при обращении к атрибуту или методу ведется сначала в dict экземпляра, затем в классе, затем рекурсивно по иеархии наследования\n",
    "* **super** -- базовый класс\n",
    "* **isinstance** -- принимает объект и класс, проверяет, что объект является экземпляром класса. В качестве агрумента можно передать кортеж классов\n",
    "* **issubclass** -- принимает два класса, проверяет, что первый класс является потомком второго. В качестве второго аргумента можно также передать кортеж\n"
   ]
  },
  {
   "cell_type": "code",
   "execution_count": 13,
   "metadata": {
    "collapsed": false
   },
   "outputs": [
    {
     "name": "stdout",
     "output_type": "stream",
     "text": [
      "Hello from D!\n",
      "Hello from C!\n",
      "Hello from B!\n",
      "Hello from A!\n"
     ]
    }
   ],
   "source": [
    "class D:\n",
    "    def __init__(self):\n",
    "        print(\"Hello from D!\")\n",
    "\n",
    "class C(D):\n",
    "    def __init__(self):\n",
    "        super().__init__()\n",
    "        print(\"Hello from C!\")\n",
    "\n",
    "class B(D):\n",
    "    def __init__(self):\n",
    "        super().__init__()\n",
    "        print(\"Hello from B!\")\n",
    "\n",
    "class A(B, C):\n",
    "    def __init__(self):\n",
    "        super().__init__()\n",
    "        print(\"Hello from A!\")\n",
    "\n",
    "x = A()"
   ]
  },
  {
   "cell_type": "code",
   "execution_count": 14,
   "metadata": {
    "collapsed": false
   },
   "outputs": [
    {
     "name": "stdout",
     "output_type": "stream",
     "text": [
      "True\n",
      "True\n"
     ]
    }
   ],
   "source": [
    "class A(object): pass\n",
    "class B(A): pass\n",
    "class C(A): pass\n",
    "class D(B, C): pass\n",
    "\n",
    "x = D()\n",
    "print(isinstance(x, A))\n",
    "print(issubclass(D, A))"
   ]
  },
  {
   "cell_type": "code",
   "execution_count": 25,
   "metadata": {
    "collapsed": false
   },
   "outputs": [
    {
     "name": "stdout",
     "output_type": "stream",
     "text": [
      "A.f\n"
     ]
    }
   ],
   "source": [
    "class A:\n",
    "    def f(self):\n",
    "        print('A.f')\n",
    "        \n",
    "class B:\n",
    "    def f(self):\n",
    "        print('B.f')\n",
    "        \n",
    "class C(A, B):\n",
    "    pass\n",
    "\n",
    "C().f()"
   ]
  },
  {
   "cell_type": "markdown",
   "metadata": {},
   "source": [
    "Алгоритм C3 - алгоритм линеаризации для определения метода, который нужно вызвать в случае множественного наследования.\n",
    "* Получить линеаризацию иеархии наследования можно с помощью метода **mro**"
   ]
  },
  {
   "cell_type": "code",
   "execution_count": 26,
   "metadata": {
    "collapsed": false
   },
   "outputs": [
    {
     "data": {
      "text/plain": [
       "[__main__.C, __main__.A, __main__.B, object]"
      ]
     },
     "execution_count": 26,
     "metadata": {},
     "output_type": "execute_result"
    }
   ],
   "source": [
    "C.mro()"
   ]
  },
  {
   "cell_type": "code",
   "execution_count": 11,
   "metadata": {
    "collapsed": false
   },
   "outputs": [
    {
     "data": {
      "text/plain": [
       "[__main__.A,\n",
       " __main__.B,\n",
       " __main__.C,\n",
       " __main__.D,\n",
       " __main__.E,\n",
       " __main__.F,\n",
       " object]"
      ]
     },
     "execution_count": 11,
     "metadata": {},
     "output_type": "execute_result"
    }
   ],
   "source": [
    "class F(object): pass\n",
    "class E(object): pass\n",
    "class D(object): pass\n",
    "class C(D,F): pass\n",
    "class B(D,E): pass\n",
    "class A(B,C): pass\n",
    "\n",
    "A.mro()"
   ]
  },
  {
   "cell_type": "code",
   "execution_count": 12,
   "metadata": {
    "collapsed": false
   },
   "outputs": [
    {
     "ename": "TypeError",
     "evalue": "Cannot create a consistent method resolution\norder (MRO) for bases X, Y",
     "output_type": "error",
     "traceback": [
      "\u001b[0;31m---------------------------------------------------------------------------\u001b[0m",
      "\u001b[0;31mTypeError\u001b[0m                                 Traceback (most recent call last)",
      "\u001b[0;32m<ipython-input-12-483d06776f77>\u001b[0m in \u001b[0;36m<module>\u001b[0;34m()\u001b[0m\n\u001b[1;32m      4\u001b[0m \u001b[0;32mclass\u001b[0m \u001b[0mA\u001b[0m\u001b[0;34m(\u001b[0m\u001b[0mX\u001b[0m\u001b[0;34m,\u001b[0m\u001b[0mY\u001b[0m\u001b[0;34m)\u001b[0m\u001b[0;34m:\u001b[0m \u001b[0;32mpass\u001b[0m\u001b[0;34m\u001b[0m\u001b[0m\n\u001b[1;32m      5\u001b[0m \u001b[0;32mclass\u001b[0m \u001b[0mB\u001b[0m\u001b[0;34m(\u001b[0m\u001b[0mY\u001b[0m\u001b[0;34m,\u001b[0m\u001b[0mX\u001b[0m\u001b[0;34m)\u001b[0m\u001b[0;34m:\u001b[0m \u001b[0;32mpass\u001b[0m\u001b[0;34m\u001b[0m\u001b[0m\n\u001b[0;32m----> 6\u001b[0;31m \u001b[0;32mclass\u001b[0m \u001b[0mC\u001b[0m\u001b[0;34m(\u001b[0m\u001b[0mA\u001b[0m\u001b[0;34m,\u001b[0m\u001b[0mB\u001b[0m\u001b[0;34m)\u001b[0m\u001b[0;34m:\u001b[0m \u001b[0;32mpass\u001b[0m\u001b[0;34m\u001b[0m\u001b[0m\n\u001b[0m",
      "\u001b[0;31mTypeError\u001b[0m: Cannot create a consistent method resolution\norder (MRO) for bases X, Y"
     ]
    }
   ],
   "source": [
    "class O(object): pass\n",
    "class X(O): pass\n",
    "class Y(O): pass\n",
    "class A(X,Y): pass\n",
    "class B(Y,X): pass\n",
    "class C(A,B): pass"
   ]
  },
  {
   "cell_type": "markdown",
   "metadata": {},
   "source": [
    "* Классы-примеси позволяют выборочно модифицировать поведение класса в предположении, что класс реализует некоторый интерфейс"
   ]
  },
  {
   "cell_type": "markdown",
   "metadata": {},
   "source": [
    "* Синтаксис декораторов работает не только для функций, но и для классов. В этом случае декоратор -- это функция, которая принимает класс и возвращает другой, возможно, преобразованный, класс.\n",
    "* Декораторы классов можно также использовать вместо чуть более магических классов-примесей. "
   ]
  },
  {
   "cell_type": "code",
   "execution_count": 33,
   "metadata": {
    "collapsed": false
   },
   "outputs": [
    {
     "name": "stdout",
     "output_type": "stream",
     "text": [
      "4391605864\n",
      "4391605864\n"
     ]
    }
   ],
   "source": [
    "import functools\n",
    "\n",
    "def singleton(cls):\n",
    "    instance = None\n",
    "    \n",
    "    @functools.wraps(cls)\n",
    "    def inner(*args, **kwargs):\n",
    "        nonlocal instance\n",
    "        if instance is None:\n",
    "            instance = cls(*args, **kwargs)\n",
    "        return instance\n",
    "    \n",
    "    return inner\n",
    "\n",
    "@singleton\n",
    "class Noop:\n",
    "    \"\"\"I do nothing\"\"\"\n",
    "    \n",
    "print(id(Noop()))\n",
    "print(id(Noop()))"
   ]
  },
  {
   "cell_type": "markdown",
   "metadata": {},
   "source": []
  },
  {
   "cell_type": "markdown",
   "metadata": {
    "collapsed": true
   },
   "source": [
    "# Все в python является классом."
   ]
  },
  {
   "cell_type": "code",
   "execution_count": 1,
   "metadata": {
    "collapsed": false
   },
   "outputs": [
    {
     "data": {
      "text/plain": [
       "function"
      ]
     },
     "execution_count": 1,
     "metadata": {},
     "output_type": "execute_result"
    }
   ],
   "source": [
    "def f(x):\n",
    "    return x ** 2\n",
    "type(f)"
   ]
  },
  {
   "cell_type": "code",
   "execution_count": 2,
   "metadata": {
    "collapsed": false
   },
   "outputs": [
    {
     "data": {
      "text/plain": [
       "module"
      ]
     },
     "execution_count": 2,
     "metadata": {},
     "output_type": "execute_result"
    }
   ],
   "source": [
    "import re\n",
    "type(re)"
   ]
  },
  {
   "cell_type": "code",
   "execution_count": 3,
   "metadata": {
    "collapsed": false
   },
   "outputs": [
    {
     "name": "stdout",
     "output_type": "stream",
     "text": [
      "True\n",
      "False\n"
     ]
    }
   ],
   "source": [
    "class Car:\n",
    "    pass\n",
    "\n",
    "x = Car()\n",
    "y = Car()\n",
    "z = y\n",
    "print(y == z)\n",
    "print(y == x)"
   ]
  },
  {
   "cell_type": "markdown",
   "metadata": {},
   "source": [
    "#### Инкапсуляция"
   ]
  },
  {
   "cell_type": "code",
   "execution_count": 4,
   "metadata": {
    "collapsed": true
   },
   "outputs": [],
   "source": [
    "class A(object):    \n",
    "    def __init__(self):\n",
    "        self.__priv = \"I am private\"\n",
    "        self._prot = \"I am protected\"\n",
    "        self.pub = \"I am public\""
   ]
  },
  {
   "cell_type": "code",
   "execution_count": 5,
   "metadata": {
    "collapsed": false
   },
   "outputs": [
    {
     "name": "stdout",
     "output_type": "stream",
     "text": [
      "I am public\n",
      "I am public and my value can be changed\n",
      "I am protected\n"
     ]
    },
    {
     "ename": "AttributeError",
     "evalue": "'A' object has no attribute '__priv'",
     "output_type": "error",
     "traceback": [
      "\u001b[0;31m---------------------------------------------------------------------------\u001b[0m",
      "\u001b[0;31mAttributeError\u001b[0m                            Traceback (most recent call last)",
      "\u001b[0;32m<ipython-input-5-17b4cd619e4a>\u001b[0m in \u001b[0;36m<module>\u001b[0;34m()\u001b[0m\n\u001b[1;32m      6\u001b[0m \u001b[0mprint\u001b[0m\u001b[0;34m(\u001b[0m\u001b[0mx\u001b[0m\u001b[0;34m.\u001b[0m\u001b[0m_prot\u001b[0m\u001b[0;34m)\u001b[0m\u001b[0;34m\u001b[0m\u001b[0m\n\u001b[1;32m      7\u001b[0m \u001b[0;34m'I am protected'\u001b[0m\u001b[0;34m\u001b[0m\u001b[0m\n\u001b[0;32m----> 8\u001b[0;31m \u001b[0mprint\u001b[0m\u001b[0;34m(\u001b[0m\u001b[0mx\u001b[0m\u001b[0;34m.\u001b[0m\u001b[0m__priv\u001b[0m\u001b[0;34m)\u001b[0m\u001b[0;34m\u001b[0m\u001b[0m\n\u001b[0m",
      "\u001b[0;31mAttributeError\u001b[0m: 'A' object has no attribute '__priv'"
     ]
    }
   ],
   "source": [
    "x = A()\n",
    "print(x.pub)\n",
    "x.pub = x.pub + \" and my value can be changed\"\n",
    "print(x.pub)\n",
    "'I am public and my value can be changed'\n",
    "print(x._prot)\n",
    "'I am protected'\n",
    "print(x.__priv)"
   ]
  },
  {
   "cell_type": "markdown",
   "metadata": {},
   "source": [
    "#### Деструкторы"
   ]
  },
  {
   "cell_type": "code",
   "execution_count": 6,
   "metadata": {
    "collapsed": false
   },
   "outputs": [
    {
     "name": "stdout",
     "output_type": "stream",
     "text": [
      "Deleting x\n",
      "Deleting z\n",
      "Toyota says bye-bye!\n",
      "Renault says bye-bye!\n"
     ]
    }
   ],
   "source": [
    "class Car(object):\n",
    "    def __init__(self, name):\n",
    "        self.name = name\n",
    "        \n",
    "    def __del__(self):\n",
    "        print(self.name + \" says bye-bye!\")\n",
    "\n",
    "x = Car(\"Toyota\")\n",
    "y = Car(\"Renault\")\n",
    "z = x\n",
    "print(\"Deleting x\")\n",
    "del x\n",
    "print(\"Deleting z\")\n",
    "del z\n",
    "del y"
   ]
  },
  {
   "cell_type": "markdown",
   "metadata": {},
   "source": [
    "### Статические методы"
   ]
  },
  {
   "cell_type": "code",
   "execution_count": 7,
   "metadata": {
    "collapsed": false
   },
   "outputs": [
    {
     "name": "stdout",
     "output_type": "stream",
     "text": [
      "0\n",
      "1\n",
      "2\n",
      "2\n"
     ]
    }
   ],
   "source": [
    "class Car:\n",
    "    __counter = 0\n",
    "    \n",
    "    def __init__(self):\n",
    "        type(self).__counter += 1\n",
    "        \n",
    "    @staticmethod\n",
    "    def instances():\n",
    "        return Car.__counter\n",
    "        \n",
    "\n",
    "print(Car.instances())\n",
    "x = Car()\n",
    "print(x.instances())\n",
    "y = Car()\n",
    "print(x.instances())\n",
    "print(Car.instances())"
   ]
  },
  {
   "cell_type": "code",
   "execution_count": 8,
   "metadata": {
    "collapsed": false
   },
   "outputs": [
    {
     "name": "stdout",
     "output_type": "stream",
     "text": [
      "This class is about pet animals!\n",
      "This class is about 'man's best friends' (Frederick II)!\n",
      "This class is about cats!\n"
     ]
    }
   ],
   "source": [
    "class Pets:\n",
    "    name = \"pet animals\"\n",
    "\n",
    "    @classmethod\n",
    "    def about(cls):\n",
    "        print(\"This class is about {}!\".format(cls.name))\n",
    "    \n",
    "class Dogs(Pets):\n",
    "    name = \"'man's best friends' (Frederick II)\"\n",
    "\n",
    "class Cats(Pets):\n",
    "    name = \"cats\"\n",
    "\n",
    "p = Pets()\n",
    "p.about()\n",
    "\n",
    "d = Dogs()\n",
    "d.about()\n",
    "\n",
    "c = Cats()\n",
    "c.about()"
   ]
  },
  {
   "cell_type": "markdown",
   "metadata": {},
   "source": [
    "#### Property"
   ]
  },
  {
   "cell_type": "code",
   "execution_count": 9,
   "metadata": {
    "collapsed": false
   },
   "outputs": [
    {
     "name": "stdout",
     "output_type": "stream",
     "text": [
      "1000\n",
      "0\n"
     ]
    }
   ],
   "source": [
    "class P:\n",
    "    def __init__(self,x):\n",
    "        self.x = x\n",
    "\n",
    "    @property\n",
    "    def x(self):\n",
    "        return self.__x\n",
    "\n",
    "    @x.setter\n",
    "    def x(self, x):\n",
    "        if x < 0:\n",
    "            self.__x = 0\n",
    "        elif x > 1000:\n",
    "            self.__x = 1000\n",
    "        else:\n",
    "            self.__x = x\n",
    "\n",
    "p1 = P(1001)\n",
    "print(p1.x)\n",
    "p1.x = -12\n",
    "print(p1.x)"
   ]
  },
  {
   "cell_type": "code",
   "execution_count": null,
   "metadata": {
    "collapsed": true
   },
   "outputs": [],
   "source": []
  }
 ],
 "metadata": {
  "anaconda-cloud": {},
  "kernelspec": {
   "display_name": "Python [Root]",
   "language": "python",
   "name": "Python [Root]"
  },
  "language_info": {
   "codemirror_mode": {
    "name": "ipython",
    "version": 3
   },
   "file_extension": ".py",
   "mimetype": "text/x-python",
   "name": "python",
   "nbconvert_exporter": "python",
   "pygments_lexer": "ipython3",
   "version": "3.5.2"
  }
 },
 "nbformat": 4,
 "nbformat_minor": 0
}
