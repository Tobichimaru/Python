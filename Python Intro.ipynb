{
 "cells": [
  {
   "cell_type": "markdown",
   "metadata": {
    "collapsed": true
   },
   "source": [
    "## Основные понятия\n",
    "Python - **динамический** интерпретируемый язык"
   ]
  },
  {
   "cell_type": "code",
   "execution_count": 70,
   "metadata": {
    "collapsed": false
   },
   "outputs": [
    {
     "name": "stdout",
     "output_type": "stream",
     "text": [
      "The Zen of Python, by Tim Peters\n",
      "\n",
      "Beautiful is better than ugly.\n",
      "Explicit is better than implicit.\n",
      "Simple is better than complex.\n",
      "Complex is better than complicated.\n",
      "Flat is better than nested.\n",
      "Sparse is better than dense.\n",
      "Readability counts.\n",
      "Special cases aren't special enough to break the rules.\n",
      "Although practicality beats purity.\n",
      "Errors should never pass silently.\n",
      "Unless explicitly silenced.\n",
      "In the face of ambiguity, refuse the temptation to guess.\n",
      "There should be one-- and preferably only one --obvious way to do it.\n",
      "Although that way may not be obvious at first unless you're Dutch.\n",
      "Now is better than never.\n",
      "Although never is often better than *right* now.\n",
      "If the implementation is hard to explain, it's a bad idea.\n",
      "If the implementation is easy to explain, it may be a good idea.\n",
      "Namespaces are one honking great idea -- let's do more of those!\n"
     ]
    }
   ],
   "source": [
    "import this"
   ]
  },
  {
   "cell_type": "code",
   "execution_count": 22,
   "metadata": {
    "collapsed": false
   },
   "outputs": [],
   "source": [
    "def add(x, y):\n",
    "    return x + y\n",
    "\n",
    "def bar(x):\n",
    "    add(x, \"1\", \"2\") #ошибки не будет\n",
    "    \n",
    "\n",
    "add.__code__ = bar.__code__\n",
    "# add(42) # будет ошибка"
   ]
  },
  {
   "cell_type": "markdown",
   "metadata": {},
   "source": [
    "**dir** - вывести все методы"
   ]
  },
  {
   "cell_type": "code",
   "execution_count": 4,
   "metadata": {
    "collapsed": false
   },
   "outputs": [
    {
     "data": {
      "text/plain": [
       "['__annotations__',\n",
       " '__call__',\n",
       " '__class__',\n",
       " '__closure__',\n",
       " '__code__',\n",
       " '__defaults__',\n",
       " '__delattr__',\n",
       " '__dict__',\n",
       " '__dir__',\n",
       " '__doc__',\n",
       " '__eq__',\n",
       " '__format__',\n",
       " '__ge__',\n",
       " '__get__',\n",
       " '__getattribute__',\n",
       " '__globals__',\n",
       " '__gt__',\n",
       " '__hash__',\n",
       " '__init__',\n",
       " '__kwdefaults__',\n",
       " '__le__',\n",
       " '__lt__',\n",
       " '__module__',\n",
       " '__name__',\n",
       " '__ne__',\n",
       " '__new__',\n",
       " '__qualname__',\n",
       " '__reduce__',\n",
       " '__reduce_ex__',\n",
       " '__repr__',\n",
       " '__setattr__',\n",
       " '__sizeof__',\n",
       " '__str__',\n",
       " '__subclasshook__']"
      ]
     },
     "execution_count": 4,
     "metadata": {},
     "output_type": "execute_result"
    }
   ],
   "source": [
    "dir(add)"
   ]
  },
  {
   "cell_type": "markdown",
   "metadata": {},
   "source": [
    "**Всё есть объект**"
   ]
  },
  {
   "cell_type": "code",
   "execution_count": 12,
   "metadata": {
    "collapsed": false
   },
   "outputs": [
    {
     "name": "stdout",
     "output_type": "stream",
     "text": [
      "<class 'builtin_function_or_method'>\n",
      "<class 'type'>\n"
     ]
    }
   ],
   "source": [
    "print (type(dir))\n",
    "print (type(type(add)))"
   ]
  },
  {
   "cell_type": "markdown",
   "metadata": {},
   "source": [
    "## Типы данных:\n",
    "* все копируется по ссылке\n",
    "* типы делятся на изменяемые и неизменяемые\n",
    "    * bytes, str, int, float, complex, bool, None, tuple, frozenset - неизменяемые\n",
    "    * list, dict, set - изменяемые\n",
    "\n",
    "**None** - singleton, отдельный тип"
   ]
  },
  {
   "cell_type": "code",
   "execution_count": 54,
   "metadata": {
    "collapsed": false
   },
   "outputs": [
    {
     "name": "stdout",
     "output_type": "stream",
     "text": [
      "True\n",
      "True\n",
      "<class 'NoneType'>\n",
      "16\n",
      "4304548152\n",
      "4304548152\n"
     ]
    }
   ],
   "source": [
    "import sys\n",
    "\n",
    "None\n",
    "print(None == None)\n",
    "print(None is None)\n",
    "print(type(None))\n",
    "# print(1 + None)\n",
    "print(sys.getsizeof(None))\n",
    "\n",
    "x = None\n",
    "y = None\n",
    "print(id(x))\n",
    "print(id(y))"
   ]
  },
  {
   "cell_type": "markdown",
   "metadata": {},
   "source": [
    "**Логические**:\n",
    "* Приводимы к числу"
   ]
  },
  {
   "cell_type": "code",
   "execution_count": 56,
   "metadata": {
    "collapsed": false
   },
   "outputs": [
    {
     "name": "stdout",
     "output_type": "stream",
     "text": [
      "<class 'bool'>\n",
      "1\n",
      "2\n",
      "24\n",
      "True\n",
      "True\n",
      "False\n",
      "4304447152\n",
      "4304447152\n",
      "4304447152\n"
     ]
    }
   ],
   "source": [
    "print(type(False))\n",
    "print(False + 1)\n",
    "print(True + True)\n",
    "print(sys.getsizeof(False))\n",
    "print(False is False)\n",
    "print(False or True) \n",
    "print(True ^ True) #xor\n",
    "\n",
    "x = True\n",
    "y = x\n",
    "print(id(x))\n",
    "print(id(y))\n",
    "print(id(True))"
   ]
  },
  {
   "cell_type": "markdown",
   "metadata": {},
   "source": [
    "**Численные:**\n",
    "* int \n",
    "* float\n",
    "* complex"
   ]
  },
  {
   "cell_type": "code",
   "execution_count": 58,
   "metadata": {
    "collapsed": false
   },
   "outputs": [
    {
     "name": "stdout",
     "output_type": "stream",
     "text": [
      "28\n",
      "160\n",
      "<class 'int'>\n",
      "<class 'float'>\n",
      "<class 'complex'>\n",
      "<class 'float'>\n",
      "<class 'int'>\n",
      "1\n",
      "4391486768\n",
      "4391486768\n",
      "4390738608\n"
     ]
    }
   ],
   "source": [
    "print(sys.getsizeof(42))\n",
    "print(sys.getsizeof(2 ** 1000))\n",
    "print(type(42))\n",
    "print(type(.42))\n",
    "print(type(42j))\n",
    "print(type(16 / 3))\n",
    "print(type(16 // 3)) #integer division\n",
    "print(16 % 3) #mod\n",
    "\n",
    "x = 2 ** 1000\n",
    "y = x\n",
    "print(id(x))\n",
    "print(id(y))\n",
    "y = x + 1\n",
    "print(id(y))"
   ]
  },
  {
   "cell_type": "markdown",
   "metadata": {},
   "source": [
    "** Строки **\n",
    "* unicode\n",
    "* binary"
   ]
  },
  {
   "cell_type": "code",
   "execution_count": 64,
   "metadata": {
    "collapsed": false
   },
   "outputs": [
    {
     "name": "stdout",
     "output_type": "stream",
     "text": [
      "<class 'bytes'>\n",
      "<class 'str'>\n",
      "<class 'str'>\n",
      "b'foo'\n",
      "foo\n",
      "4373897432\n",
      "4373897432\n",
      "4391514480\n",
      "4391514480\n"
     ]
    }
   ],
   "source": [
    "print(type(b'foo'))\n",
    "print(type('foo'))\n",
    "print(type(u'foo'))\n",
    "print(b'foo')\n",
    "print(b'foo'.decode('utf-8'))\n",
    "\n",
    "\n",
    "x = 'foo'\n",
    "print(id(x))\n",
    "y = x\n",
    "print(id(y))\n",
    "\n",
    "x = b'foo'\n",
    "print(id(x))\n",
    "y = x\n",
    "print(id(y))"
   ]
  },
  {
   "cell_type": "code",
   "execution_count": 68,
   "metadata": {
    "collapsed": false
   },
   "outputs": [
    {
     "name": "stdout",
     "output_type": "stream",
     "text": [
      "foo, bar\n",
      "fo\n",
      "oo\n",
      "fo\n"
     ]
    }
   ],
   "source": [
    "#concat\n",
    "print(', '.join(['foo', 'bar']))\n",
    "\n",
    "# slices\n",
    "s = 'foobar'\n",
    "print(s[:2])\n",
    "print(s[1:3])\n",
    "print(s[0:4:2])"
   ]
  },
  {
   "cell_type": "markdown",
   "metadata": {},
   "source": [
    "**Списки (list)**:\n",
    "* изменяемый тип данных\n",
    "* может содержать различные типы"
   ]
  },
  {
   "cell_type": "code",
   "execution_count": 62,
   "metadata": {
    "collapsed": false
   },
   "outputs": [
    {
     "name": "stdout",
     "output_type": "stream",
     "text": [
      "<class 'list'>\n",
      "[0, 0, 0, 0]\n",
      "4\n",
      "1\n",
      "[1, 2, 3, 4, 42]\n",
      "[2, 3, 4, 42]\n",
      "[2, 3, 4, 42, 5, 6]\n"
     ]
    }
   ],
   "source": [
    "print(type([]))\n",
    "print([0]*4)\n",
    "xs = [1,2,3,4]\n",
    "print(len(xs))\n",
    "print(xs[0])\n",
    "xs.append(42)\n",
    "print(xs)\n",
    "del xs[0]\n",
    "print(xs)\n",
    "\n",
    "# concat\n",
    "xs = xs + [5, 6]\n",
    "print(xs)"
   ]
  },
  {
   "cell_type": "code",
   "execution_count": 77,
   "metadata": {
    "collapsed": false
   },
   "outputs": [
    {
     "name": "stdout",
     "output_type": "stream",
     "text": [
      "[1, 2]\n",
      "[2, 3, 4, 'a']\n",
      "[1, 3, 'a']\n"
     ]
    }
   ],
   "source": [
    "# slices\n",
    "xs = [1, 2, 3, 4, 'a', 'b','c']\n",
    "print(xs[:2])\n",
    "print(xs[1:5])\n",
    "print(xs[0:6:2])"
   ]
  },
  {
   "cell_type": "markdown",
   "metadata": {},
   "source": [
    "** Кортежи (tuples) **\n",
    "* неизменяемый тип, используется в dict, set"
   ]
  },
  {
   "cell_type": "code",
   "execution_count": 72,
   "metadata": {
    "collapsed": false
   },
   "outputs": [
    {
     "name": "stdout",
     "output_type": "stream",
     "text": [
      "4326424648\n",
      "4326424648\n",
      "2\n"
     ]
    }
   ],
   "source": [
    "print(id(tuple()))\n",
    "print(id(tuple()))\n",
    "date = ('year', 2015)\n",
    "print(len(date))\n",
    "# date[1] = 2016 # ошибка - нельзя присваивать\n",
    "# del date[1] # error"
   ]
  },
  {
   "cell_type": "markdown",
   "metadata": {},
   "source": [
    "** Множество (set) **"
   ]
  },
  {
   "cell_type": "code",
   "execution_count": 83,
   "metadata": {
    "collapsed": false
   },
   "outputs": [
    {
     "name": "stdout",
     "output_type": "stream",
     "text": [
      "set()\n",
      "False\n",
      "True\n",
      "{True, 42, 3.0, 4, 'abc'}\n",
      "{4}\n",
      "{4}\n",
      "{True, 3.0, 4, 5, 'abc'}\n",
      "{True, 3.0, 4, 5, 'abc'}\n",
      "{True, 3.0, 'abc'}\n",
      "{True, 3.0, 'abc'}\n"
     ]
    }
   ],
   "source": [
    "print(set())\n",
    "xs = {1, 'abc', 3.0, True, 4}\n",
    "print(42 in xs)\n",
    "print(42 not in xs)\n",
    "xs.add(42)\n",
    "print(xs)\n",
    "xs.discard(42)\n",
    "\n",
    "ys = {4, 5}\n",
    "print(xs.intersection(ys))\n",
    "print(xs & ys)\n",
    "print(xs.union(ys))\n",
    "print(xs | ys)\n",
    "print(xs.difference(ys))\n",
    "print(xs - ys)\n",
    "\n",
    "# xs = {a, []} # Нельзя поместить изменяемый тип"
   ]
  },
  {
   "cell_type": "markdown",
   "metadata": {},
   "source": [
    "** Словарь (dict) **\n",
    "* ключи -- неизменяемые\n",
    "* значения - могут быть изменяемые"
   ]
  },
  {
   "cell_type": "code",
   "execution_count": 86,
   "metadata": {
    "collapsed": false
   },
   "outputs": [
    {
     "name": "stdout",
     "output_type": "stream",
     "text": [
      "<class 'dict'>\n",
      "3\n",
      "7\n",
      "{'year': 2016, 5: [], 'month': 'september'}\n",
      "{5: [], 'month': 'september'}\n"
     ]
    }
   ],
   "source": [
    "print(type({}))\n",
    "date = {'year' : 2015, 'month' : 'september', 5: []}\n",
    "print(len(date))\n",
    "print(date.get('day', 7))\n",
    "date['year'] = 2016\n",
    "print(date)\n",
    "del date['year'] # или date.pop('year')\n",
    "print(date)"
   ]
  },
  {
   "cell_type": "code",
   "execution_count": 88,
   "metadata": {
    "collapsed": false
   },
   "outputs": [
    {
     "name": "stdout",
     "output_type": "stream",
     "text": [
      "dict_keys([5, 'month'])\n",
      "dict_values([[], 'september'])\n",
      "dict_items([(5, []), ('month', 'september')])\n"
     ]
    }
   ],
   "source": [
    "print(date.keys())\n",
    "print(date.values())\n",
    "print(date.items())"
   ]
  },
  {
   "cell_type": "markdown",
   "metadata": {},
   "source": [
    "## Управляющие конструкции\n",
    "####  Условный оператор"
   ]
  },
  {
   "cell_type": "code",
   "execution_count": 90,
   "metadata": {
    "collapsed": false
   },
   "outputs": [
    {
     "name": "stdout",
     "output_type": "stream",
     "text": [
      "then 2\n"
     ]
    }
   ],
   "source": [
    "x = 3\n",
    "\n",
    "if x % 5 == 0:\n",
    "    print('then')\n",
    "elif x % 3 == 0:\n",
    "    print('then 2')\n",
    "else: \n",
    "    print('else')"
   ]
  },
  {
   "cell_type": "code",
   "execution_count": 91,
   "metadata": {
    "collapsed": false
   },
   "outputs": [
    {
     "data": {
      "text/plain": [
       "'odd'"
      ]
     },
     "execution_count": 91,
     "metadata": {},
     "output_type": "execute_result"
    }
   ],
   "source": [
    "'even' if x % 2 == 0 else 'odd'"
   ]
  },
  {
   "cell_type": "markdown",
   "metadata": {},
   "source": [
    "#### Циклические операторы"
   ]
  },
  {
   "cell_type": "code",
   "execution_count": 93,
   "metadata": {
    "collapsed": false
   },
   "outputs": [
    {
     "name": "stdout",
     "output_type": "stream",
     "text": [
      "else\n",
      "10\n"
     ]
    }
   ],
   "source": [
    "i = 0\n",
    "while i < 10:\n",
    "    i+=1\n",
    "else:\n",
    "    print('else')\n",
    "print(i)    "
   ]
  },
  {
   "cell_type": "code",
   "execution_count": 95,
   "metadata": {
    "collapsed": false
   },
   "outputs": [
    {
     "data": {
      "text/plain": [
       "30"
      ]
     },
     "execution_count": 95,
     "metadata": {},
     "output_type": "execute_result"
    }
   ],
   "source": [
    "sum = 0\n",
    "for i in range(1, 5):\n",
    "    sum += i*i\n",
    "sum    "
   ]
  },
  {
   "cell_type": "code",
   "execution_count": null,
   "metadata": {
    "collapsed": true
   },
   "outputs": [],
   "source": []
  }
 ],
 "metadata": {
  "anaconda-cloud": {},
  "kernelspec": {
   "display_name": "Python [Root]",
   "language": "python",
   "name": "Python [Root]"
  },
  "language_info": {
   "codemirror_mode": {
    "name": "ipython",
    "version": 3
   },
   "file_extension": ".py",
   "mimetype": "text/x-python",
   "name": "python",
   "nbconvert_exporter": "python",
   "pygments_lexer": "ipython3",
   "version": "3.5.2"
  }
 },
 "nbformat": 4,
 "nbformat_minor": 0
}
