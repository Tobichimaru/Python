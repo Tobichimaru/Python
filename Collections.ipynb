{
 "cells": [
  {
   "cell_type": "markdown",
   "metadata": {},
   "source": [
    "# Встроенные коллекции и модуль collections\n",
    "Встроенных коллекций в Python немного: tuple, list, set и dict.\n",
    "\n",
    "## Котреж\n",
    "Литералы кортежа — обычные скобки, почти всегда их можно и нужно опускать.\n",
    "Эта рекомендация не касается одноэлементых кортежей:"
   ]
  },
  {
   "cell_type": "code",
   "execution_count": 5,
   "metadata": {
    "collapsed": false
   },
   "outputs": [
    {
     "name": "stdout",
     "output_type": "stream",
     "text": [
      "x = October, y = 5\n",
      "42\n",
      "42\n"
     ]
    }
   ],
   "source": [
    "date = \"October\", 5\n",
    "x, y = date\n",
    "print(\"x = {0}, y = {1}\".format(x, y))\n",
    "\n",
    "xs = 42,\n",
    "x, = xs\n",
    "print(x)\n",
    "\n",
    "# лучше брать в скобочки\n",
    "xs = (42, )\n",
    "[x] = xs\n",
    "print(x)"
   ]
  },
  {
   "cell_type": "markdown",
   "metadata": {},
   "source": [
    "С помощью слайсов можно выделить подпоследовательность в любой коллекции, в частности, в кортеже:"
   ]
  },
  {
   "cell_type": "code",
   "execution_count": 6,
   "metadata": {
    "collapsed": false
   },
   "outputs": [
    {
     "name": "stdout",
     "output_type": "stream",
     "text": [
      "('George', 'Carlin')\n",
      "('May', 12, 1937)\n"
     ]
    }
   ],
   "source": [
    "person = (\"George\", \"Carlin\", \"May\", 12, 1937)\n",
    "name, birthday = person[:2], person[2:]\n",
    "print(name)\n",
    "print(birthday)"
   ]
  },
  {
   "cell_type": "markdown",
   "metadata": {},
   "source": [
    "Избавиться от “магических” констант помогут именованные слайсы:"
   ]
  },
  {
   "cell_type": "code",
   "execution_count": 7,
   "metadata": {
    "collapsed": false
   },
   "outputs": [
    {
     "name": "stdout",
     "output_type": "stream",
     "text": [
      "('George', 'Carlin')\n",
      "('May', 12, 1937)\n"
     ]
    }
   ],
   "source": [
    "NAME, BIRTHDAY = slice(2), slice(2, None)\n",
    "print(person[NAME])\n",
    "print(person[BIRTHDAY])"
   ]
  },
  {
   "cell_type": "markdown",
   "metadata": {},
   "source": [
    "Напоминание: функция reversed принимает одну последовательность и возвращает другую, перечисляющую элементы первой в обратном порядке.\n",
    "\n",
    "Эту операцию также можно выразить через слайс с отрицательным шагом"
   ]
  },
  {
   "cell_type": "code",
   "execution_count": 8,
   "metadata": {
    "collapsed": false
   },
   "outputs": [
    {
     "name": "stdout",
     "output_type": "stream",
     "text": [
      "(3, 2, 1)\n",
      "(3, 2, 1)\n"
     ]
    }
   ],
   "source": [
    "print(tuple(reversed((1, 2, 3))))\n",
    "print((1, 2, 3)[::-1])"
   ]
  },
  {
   "cell_type": "markdown",
   "metadata": {},
   "source": [
    "Кортежи можно конкатенировать с помощью бинарной операции +. Результатом конкатенации всегда является новый кортеж:"
   ]
  },
  {
   "cell_type": "code",
   "execution_count": 12,
   "metadata": {
    "collapsed": false
   },
   "outputs": [
    {
     "name": "stdout",
     "output_type": "stream",
     "text": [
      "id(xs) = 4387480520, id(ys) = 4384051720\n",
      "4389613928\n"
     ]
    }
   ],
   "source": [
    "xs, ys = (1, 2), (3, )\n",
    "print(\"id(xs) = {0}, id(ys) = {1}\".format(id(xs), id(ys)))\n",
    "print(id(xs + ys))"
   ]
  },
  {
   "cell_type": "markdown",
   "metadata": {},
   "source": [
    "Сравнение кортежей происходит в лексикографическом порядке, причём длина учитывается, только если одна последовательность является префиксом другой:\n"
   ]
  },
  {
   "cell_type": "code",
   "execution_count": 13,
   "metadata": {
    "collapsed": false
   },
   "outputs": [
    {
     "name": "stdout",
     "output_type": "stream",
     "text": [
      "True\n",
      "True\n",
      "True\n"
     ]
    }
   ],
   "source": [
    "print((1, 2, 3) < (1, 2, 4))\n",
    "print((1, 2, 3, 4) < (1, 2, 4))\n",
    "print( (1, 2) < (1, 2, 42))"
   ]
  },
  {
   "cell_type": "markdown",
   "metadata": {},
   "source": [
    "Функция namedtuple возвращает тип кортежа, специализированный на фиксированное множество полей:"
   ]
  },
  {
   "cell_type": "code",
   "execution_count": 15,
   "metadata": {
    "collapsed": false
   },
   "outputs": [
    {
     "name": "stdout",
     "output_type": "stream",
     "text": [
      "('name', 'age')\n",
      "George 77\n",
      "OrderedDict([('name', 'George'), ('age', 77)])\n",
      "Person(name='Bill', age=77)\n"
     ]
    }
   ],
   "source": [
    "from collections import namedtuple\n",
    "Person = namedtuple(\"Person\", [\"name\", \"age\"])\n",
    "p = Person(\"George\", age=77)\n",
    "print(p._fields)\n",
    "print(p.name, p.age)\n",
    "print(p._asdict())\n",
    "print(p._replace(name=\"Bill\"))"
   ]
  },
  {
   "cell_type": "markdown",
   "metadata": {},
   "source": [
    "## List, список"
   ]
  },
  {
   "cell_type": "markdown",
   "metadata": {},
   "source": [
    "Напоминание: синтаксис инициализации создаёт список указанной длины и заполняет его начальным значением:"
   ]
  },
  {
   "cell_type": "code",
   "execution_count": 17,
   "metadata": {
    "collapsed": false
   },
   "outputs": [
    {
     "name": "stdout",
     "output_type": "stream",
     "text": [
      "[0, 0]\n",
      "['', '']\n"
     ]
    }
   ],
   "source": [
    "print([0] * 2)\n",
    "print([\"\"] * 2)"
   ]
  },
  {
   "cell_type": "markdown",
   "metadata": {},
   "source": [
    "Важно понимать, что копирование начального значения при этом не происходит:"
   ]
  },
  {
   "cell_type": "code",
   "execution_count": 24,
   "metadata": {
    "collapsed": false
   },
   "outputs": [
    {
     "name": "stdout",
     "output_type": "stream",
     "text": [
      "[[0], [0]]\n",
      "4304828496\n",
      "4304828496\n",
      "[[42], [42]]\n",
      "4304829840\n",
      "4304829840\n"
     ]
    }
   ],
   "source": [
    "chunks=[[0]]*2 #матрица 2x1 из нулей\n",
    "print(chunks)\n",
    "print(id(chunks[0][0]))\n",
    "print(id(chunks[1][0]))\n",
    "chunks[0][0] = 42\n",
    "print(chunks)\n",
    "print(id(chunks[0][0]))\n",
    "print(id(chunks[1][0]))"
   ]
  },
  {
   "cell_type": "markdown",
   "metadata": {},
   "source": [
    "Методы append и extend добавлют в конец списка один элемент или произвольную последовательность соответственно:"
   ]
  },
  {
   "cell_type": "code",
   "execution_count": 26,
   "metadata": {
    "collapsed": false
   },
   "outputs": [
    {
     "data": {
      "text/plain": [
       "[1, 2, 3, 42, -2, -1]"
      ]
     },
     "execution_count": 26,
     "metadata": {},
     "output_type": "execute_result"
    }
   ],
   "source": [
    "xs = [1, 2, 3]\n",
    "xs.append(42) # ==> [1, 2, 3, 42]\n",
    "xs.extend({-1, -2}) # ==> [1, 2, 3, 42, -2, -1]\n",
    "xs"
   ]
  },
  {
   "cell_type": "markdown",
   "metadata": {},
   "source": [
    "Вставить элемент перед элементом с указанным индексом можно с помощью метода insert:\n"
   ]
  },
  {
   "cell_type": "code",
   "execution_count": 27,
   "metadata": {
    "collapsed": false
   },
   "outputs": [
    {
     "data": {
      "text/plain": [
       "[4, 1, 2, 42, 3]"
      ]
     },
     "execution_count": 27,
     "metadata": {},
     "output_type": "execute_result"
    }
   ],
   "source": [
    "xs = [1, 2, 3]\n",
    "xs.insert(0, 4) # ==> [4, 1, 2, 3]\n",
    "xs.insert(-1, 42) # ==> [4, 1, 2, 42, 3]\n",
    "xs"
   ]
  },
  {
   "cell_type": "markdown",
   "metadata": {},
   "source": [
    "Можно также заменить подпоследовательность на элементы другой последовательности:"
   ]
  },
  {
   "cell_type": "code",
   "execution_count": 28,
   "metadata": {
    "collapsed": false
   },
   "outputs": [
    {
     "data": {
      "text/plain": [
       "[0, 0, 3]"
      ]
     },
     "execution_count": 28,
     "metadata": {},
     "output_type": "execute_result"
    }
   ],
   "source": [
    "xs = [1, 2, 3]\n",
    "xs[:2] = [0] * 2 # ==> [0, 0, 3]\n",
    "xs"
   ]
  },
  {
   "cell_type": "markdown",
   "metadata": {},
   "source": [
    "Конкатенация списков работает аналогично конкатенации кортежей: результатом всегда является новый список."
   ]
  },
  {
   "cell_type": "code",
   "execution_count": 29,
   "metadata": {
    "collapsed": false
   },
   "outputs": [
    {
     "name": "stdout",
     "output_type": "stream",
     "text": [
      "4391490696 4389602760\n",
      "4389759752\n"
     ]
    }
   ],
   "source": [
    "xs, ys = [1, 2], [3]\n",
    "print(id(xs), id(ys))\n",
    "print(id(xs + ys))"
   ]
  },
  {
   "cell_type": "markdown",
   "metadata": {},
   "source": [
    "В отличие от кортежей списки поддерживают inplace конкатенацию:"
   ]
  },
  {
   "cell_type": "code",
   "execution_count": 36,
   "metadata": {
    "collapsed": false
   },
   "outputs": [
    {
     "name": "stdout",
     "output_type": "stream",
     "text": [
      "4391523784\n",
      "['a', 'b', 'c', 'd']\n"
     ]
    }
   ],
   "source": [
    "xs += ys # ≈ xs = xs.extend(ys)  \n",
    "print(id(xs))\n",
    "\n",
    "xs = []\n",
    "xs += \"abcd\"\n",
    "print(xs)"
   ]
  },
  {
   "cell_type": "code",
   "execution_count": 31,
   "metadata": {
    "collapsed": false
   },
   "outputs": [
    {
     "ename": "UnboundLocalError",
     "evalue": "local variable 'xs' referenced before assignment",
     "output_type": "error",
     "traceback": [
      "\u001b[0;31m---------------------------------------------------------------------------\u001b[0m",
      "\u001b[0;31mUnboundLocalError\u001b[0m                         Traceback (most recent call last)",
      "\u001b[0;32m<ipython-input-31-0684bfb85b53>\u001b[0m in \u001b[0;36m<module>\u001b[0;34m()\u001b[0m\n\u001b[1;32m      3\u001b[0m     \u001b[0mxs\u001b[0m \u001b[0;34m+=\u001b[0m \u001b[0;34m[\u001b[0m\u001b[0;36m42\u001b[0m\u001b[0;34m]\u001b[0m\u001b[0;34m\u001b[0m\u001b[0m\n\u001b[1;32m      4\u001b[0m \u001b[0;34m\u001b[0m\u001b[0m\n\u001b[0;32m----> 5\u001b[0;31m \u001b[0mf\u001b[0m\u001b[0;34m(\u001b[0m\u001b[0;34m)\u001b[0m\u001b[0;34m\u001b[0m\u001b[0m\n\u001b[0m",
      "\u001b[0;32m<ipython-input-31-0684bfb85b53>\u001b[0m in \u001b[0;36mf\u001b[0;34m()\u001b[0m\n\u001b[1;32m      1\u001b[0m \u001b[0mxs\u001b[0m \u001b[0;34m=\u001b[0m \u001b[0;34m[\u001b[0m\u001b[0;34m]\u001b[0m\u001b[0;34m\u001b[0m\u001b[0m\n\u001b[1;32m      2\u001b[0m \u001b[0;32mdef\u001b[0m \u001b[0mf\u001b[0m\u001b[0;34m(\u001b[0m\u001b[0;34m)\u001b[0m\u001b[0;34m:\u001b[0m\u001b[0;34m\u001b[0m\u001b[0m\n\u001b[0;32m----> 3\u001b[0;31m     \u001b[0mxs\u001b[0m \u001b[0;34m+=\u001b[0m \u001b[0;34m[\u001b[0m\u001b[0;36m42\u001b[0m\u001b[0;34m]\u001b[0m\u001b[0;34m\u001b[0m\u001b[0m\n\u001b[0m\u001b[1;32m      4\u001b[0m \u001b[0;34m\u001b[0m\u001b[0m\n\u001b[1;32m      5\u001b[0m \u001b[0mf\u001b[0m\u001b[0;34m(\u001b[0m\u001b[0;34m)\u001b[0m\u001b[0;34m\u001b[0m\u001b[0m\n",
      "\u001b[0;31mUnboundLocalError\u001b[0m: local variable 'xs' referenced before assignment"
     ]
    }
   ],
   "source": [
    "xs = []\n",
    "def f():\n",
    "    xs += [42]\n",
    "\n",
    "f()"
   ]
  },
  {
   "cell_type": "markdown",
   "metadata": {},
   "source": [
    "C  помощью оператора del можно удалить не только один элемент по его индексу, но и целую подпоследовательность:"
   ]
  },
  {
   "cell_type": "code",
   "execution_count": 37,
   "metadata": {
    "collapsed": false
   },
   "outputs": [
    {
     "data": {
      "text/plain": [
       "[3]"
      ]
     },
     "execution_count": 37,
     "metadata": {},
     "output_type": "execute_result"
    }
   ],
   "source": [
    "xs = [1, 2, 3]\n",
    "del xs[:2]\n",
    "xs"
   ]
  },
  {
   "cell_type": "markdown",
   "metadata": {},
   "source": [
    "Иногда при удалении элемента по индексу может быть удобно также получить его значение:"
   ]
  },
  {
   "cell_type": "code",
   "execution_count": 38,
   "metadata": {
    "collapsed": false
   },
   "outputs": [
    {
     "data": {
      "text/plain": [
       "2"
      ]
     },
     "execution_count": 38,
     "metadata": {},
     "output_type": "execute_result"
    }
   ],
   "source": [
    "xs = [1, 2, 3]\n",
    "xs.pop(1)"
   ]
  },
  {
   "cell_type": "markdown",
   "metadata": {},
   "source": [
    "Удалить первое вхождение элемента в списке можно с помощью метода remove:"
   ]
  },
  {
   "cell_type": "code",
   "execution_count": 40,
   "metadata": {
    "collapsed": false
   },
   "outputs": [
    {
     "data": {
      "text/plain": [
       "[1, 0]"
      ]
     },
     "execution_count": 40,
     "metadata": {},
     "output_type": "execute_result"
    }
   ],
   "source": [
    "xs = [1, 1, 0]\n",
    "xs.remove(1)\n",
    "xs"
   ]
  },
  {
   "cell_type": "markdown",
   "metadata": {},
   "source": [
    " Можно также перевернуть список inplace.\n",
    " \n",
    " Обратите внимание, что в отличие от функции reversed inlpace операция возвращает None, подсказывая пользователю, что список был изменён."
   ]
  },
  {
   "cell_type": "code",
   "execution_count": 41,
   "metadata": {
    "collapsed": false
   },
   "outputs": [
    {
     "data": {
      "text/plain": [
       "[3, 2, 1]"
      ]
     },
     "execution_count": 41,
     "metadata": {},
     "output_type": "execute_result"
    }
   ],
   "source": [
    "xs = [1, 2, 3]\n",
    "xs.reverse()\n",
    "xs"
   ]
  },
  {
   "cell_type": "markdown",
   "metadata": {},
   "source": [
    "Аналогичные взаимоотношения у функции sorted и метода sort.\n",
    "\n",
    "Функции sorted и методу sort можно опционально указать направление сортировки, а также функцию-ключ:"
   ]
  },
  {
   "cell_type": "code",
   "execution_count": 43,
   "metadata": {
    "collapsed": false
   },
   "outputs": [
    {
     "name": "stdout",
     "output_type": "stream",
     "text": [
      "[1, 2, 3] [3, 2, 1]\n",
      "None\n",
      "[1, 2, 3]\n"
     ]
    }
   ],
   "source": [
    "xs = [3, 2, 1]\n",
    "print(sorted(xs), xs)\n",
    "print(xs.sort())\n",
    "print(xs)"
   ]
  },
  {
   "cell_type": "code",
   "execution_count": 44,
   "metadata": {
    "collapsed": false
   },
   "outputs": [
    {
     "data": {
      "text/plain": [
       "[3, 1, 2]"
      ]
     },
     "execution_count": 44,
     "metadata": {},
     "output_type": "execute_result"
    }
   ],
   "source": [
    "xs = [3, 2, 1]\n",
    "xs.sort(key=lambda x: x % 2, reverse=True)\n",
    "xs"
   ]
  },
  {
   "cell_type": "markdown",
   "metadata": {},
   "source": [
    "Список можнно использовать как стек или очередь. \n",
    "\n",
    "Тип deque реализует двустороннюю очередь.\n",
    "\n",
    "Добавление и удаление элемента с обеих сторон очереди работает за константное время, индексирование — за время, линейное от размера очереди."
   ]
  },
  {
   "cell_type": "code",
   "execution_count": 46,
   "metadata": {
    "collapsed": false
   },
   "outputs": [
    {
     "name": "stdout",
     "output_type": "stream",
     "text": [
      "deque([0, 1, 2, 3])\n",
      "deque([0, 1, 2, 3, 4])\n",
      "1\n"
     ]
    }
   ],
   "source": [
    "from collections import deque\n",
    "q = deque()\n",
    "q = deque([1, 2, 3])\n",
    "q.appendleft(0) \n",
    "print(q)\n",
    "q.append(4)\n",
    "print(q)\n",
    "q.popleft()\n",
    "print(q[0])"
   ]
  },
  {
   "cell_type": "markdown",
   "metadata": {},
   "source": [
    "Конструктор deque принимает опциональный аргумент maxlen, ограничивающий максимальную длину очереди.\n",
    "\n",
    "• При добавлении элемента к ограниченной очереди лишние элементы “вываливаются” с противоположной стороны:"
   ]
  },
  {
   "cell_type": "markdown",
   "metadata": {},
   "source": [
    "# Set (множество)"
   ]
  },
  {
   "cell_type": "code",
   "execution_count": 50,
   "metadata": {
    "collapsed": false
   },
   "outputs": [
    {
     "name": "stdout",
     "output_type": "stream",
     "text": [
      "{1, 2, 3, 4}\n",
      "set()\n",
      "{1}\n",
      "False\n",
      "False\n",
      "False\n",
      "True\n"
     ]
    }
   ],
   "source": [
    "xs, ys, zs = {1, 2}, {2, 3}, {3, 4}\n",
    "print(set.union(xs, ys, zs))        #xs | ys | zs\n",
    "print(set.intersection(xs, ys, zs)) # xs & ys & zs\n",
    "print(set.difference(xs, ys, zs))   # xs - ys - zs\n",
    "print(xs.isdisjoint(ys))\n",
    "print(xs <= ys)   # xs ⊆ ys\n",
    "print(xs < xs)    # xs ⊂ xs\n",
    "print(xs | ys >= xs)   # xs ∪ ys ⊇ xs"
   ]
  },
  {
   "cell_type": "markdown",
   "metadata": {},
   "source": [
    "Добавить один элемент в множестве можно с помощью метода add, добавить последовательность элементов — с помощью метода update:"
   ]
  },
  {
   "cell_type": "code",
   "execution_count": 52,
   "metadata": {
    "collapsed": false
   },
   "outputs": [
    {
     "name": "stdout",
     "output_type": "stream",
     "text": [
      "{42}\n",
      "{1, 42, 2}\n",
      "{3, 1, 42, 2}\n"
     ]
    }
   ],
   "source": [
    "seen = set()\n",
    "seen.add(42)\n",
    "print(seen)\n",
    "seen.update([1,2])\n",
    "print(seen)\n",
    "seen.update([], [1], [2], [3])\n",
    "print(seen)"
   ]
  },
  {
   "cell_type": "markdown",
   "metadata": {},
   "source": [
    "Метод remove удаляет из множества существующий элемент или поднимает исключение, если элемент во множестве не содержится:\n"
   ]
  },
  {
   "cell_type": "code",
   "execution_count": 53,
   "metadata": {
    "collapsed": false
   },
   "outputs": [
    {
     "name": "stdout",
     "output_type": "stream",
     "text": [
      "{1, 2}\n"
     ]
    }
   ],
   "source": [
    "seen = {1, 2, 3}\n",
    "seen.remove(3)\n",
    "print(seen)"
   ]
  },
  {
   "cell_type": "code",
   "execution_count": 54,
   "metadata": {
    "collapsed": false
   },
   "outputs": [
    {
     "ename": "KeyError",
     "evalue": "100500",
     "output_type": "error",
     "traceback": [
      "\u001b[0;31m---------------------------------------------------------------------------\u001b[0m",
      "\u001b[0;31mKeyError\u001b[0m                                  Traceback (most recent call last)",
      "\u001b[0;32m<ipython-input-54-9a4cde3b8a59>\u001b[0m in \u001b[0;36m<module>\u001b[0;34m()\u001b[0m\n\u001b[0;32m----> 1\u001b[0;31m \u001b[0mseen\u001b[0m\u001b[0;34m.\u001b[0m\u001b[0mremove\u001b[0m\u001b[0;34m(\u001b[0m\u001b[0;36m100500\u001b[0m\u001b[0;34m)\u001b[0m\u001b[0;34m\u001b[0m\u001b[0m\n\u001b[0m",
      "\u001b[0;31mKeyError\u001b[0m: 100500"
     ]
    }
   ],
   "source": [
    "seen.remove(100500)"
   ]
  },
  {
   "cell_type": "markdown",
   "metadata": {},
   "source": [
    "В отличие от метода remove метод discard удаляет элемент, только если он содержится во множестве:"
   ]
  },
  {
   "cell_type": "code",
   "execution_count": 55,
   "metadata": {
    "collapsed": false
   },
   "outputs": [
    {
     "name": "stdout",
     "output_type": "stream",
     "text": [
      "{1, 2}\n"
     ]
    }
   ],
   "source": [
    "seen.discard(100500)\n",
    "print(seen)"
   ]
  },
  {
   "cell_type": "markdown",
   "metadata": {},
   "source": [
    "Удалить все элементы из множества можно с помощью метода clear.\n",
    "\n",
    "Напоминание: множество в Python — это хеш-сет, то есть оно может содержать только элементы, которые можно захешировать.\n",
    "\n",
    "### Тип frozenset описывает неизменяемое множество:\n",
    "\n",
    "Объекты типа frozenset поддерживают все операции типа set кроме операций добавления и удаления элементов."
   ]
  },
  {
   "cell_type": "markdown",
   "metadata": {},
   "source": [
    "## dict (Словарь)"
   ]
  },
  {
   "cell_type": "markdown",
   "metadata": {},
   "source": [
    "Конструктор dict позволяет создать словарь без использования литералов:\n"
   ]
  },
  {
   "cell_type": "code",
   "execution_count": 57,
   "metadata": {
    "collapsed": false
   },
   "outputs": [
    {
     "name": "stdout",
     "output_type": "stream",
     "text": [
      "{'foo': 'bar'}\n",
      "{'foo': 'bar', 'boo': 'baz'}\n"
     ]
    }
   ],
   "source": [
    "d = dict(foo=\"bar\")\n",
    "print(dict(d))\n",
    "print(dict(d, boo=\"baz\"))"
   ]
  },
  {
   "cell_type": "markdown",
   "metadata": {},
   "source": [
    "Можно также сконструировать словарь из последовательности ключей и значения по умолчанию:"
   ]
  },
  {
   "cell_type": "code",
   "execution_count": 58,
   "metadata": {
    "collapsed": false
   },
   "outputs": [
    {
     "name": "stdout",
     "output_type": "stream",
     "text": [
      "{'foo': None, 'bar': None}\n",
      "{'b': 0, 'd': 0, 'a': 0, 'c': 0}\n"
     ]
    }
   ],
   "source": [
    "print(dict.fromkeys([\"foo\", \"bar\"]))\n",
    "print(dict.fromkeys(\"abcd\", 0))"
   ]
  },
  {
   "cell_type": "markdown",
   "metadata": {},
   "source": [
    "Методы keys, values и items возвращают проекции\n",
    "содержимого словаря:"
   ]
  },
  {
   "cell_type": "code",
   "execution_count": 61,
   "metadata": {
    "collapsed": false
   },
   "outputs": [
    {
     "name": "stdout",
     "output_type": "stream",
     "text": [
      "dict_keys(['foo', 'bar'])\n",
      "dict_values([42, 42])\n",
      "dict_items([('foo', 42), ('bar', 42)])\n",
      "2\n",
      "{'foo'}\n"
     ]
    }
   ],
   "source": [
    "d = dict.fromkeys([\"foo\", \"bar\"], 42)\n",
    "print(d.keys())\n",
    "print(d.values())\n",
    "print(d.items())\n",
    "print(len(d.items()))"
   ]
  },
  {
   "cell_type": "markdown",
   "metadata": {},
   "source": [
    "* Проекция keys дополнительно реализует некоторые операции множества:\n",
    "* Проекции можно использовать для итерации в цикле for или генераторе:\n",
    "* Модифицировать содержимое словаря в процессе итерации нельзя:"
   ]
  },
  {
   "cell_type": "code",
   "execution_count": 62,
   "metadata": {
    "collapsed": false
   },
   "outputs": [
    {
     "name": "stdout",
     "output_type": "stream",
     "text": [
      "{'foo'}\n",
      "{42}\n"
     ]
    }
   ],
   "source": [
    "print(d.keys() & {\"foo\"})\n",
    "print({v for v in d.values()})"
   ]
  },
  {
   "cell_type": "code",
   "execution_count": 63,
   "metadata": {
    "collapsed": true
   },
   "outputs": [],
   "source": [
    "for k in set(d): \n",
    "    del d[k]"
   ]
  },
  {
   "cell_type": "markdown",
   "metadata": {},
   "source": [
    "получить значение элемента по ключу можно с помощью синтаксиса d[key] или метода get:"
   ]
  },
  {
   "cell_type": "code",
   "execution_count": 65,
   "metadata": {
    "collapsed": false
   },
   "outputs": [
    {
     "name": "stdout",
     "output_type": "stream",
     "text": [
      "bar\n",
      "42\n"
     ]
    },
    {
     "ename": "KeyError",
     "evalue": "'boo'",
     "output_type": "error",
     "traceback": [
      "\u001b[0;31m---------------------------------------------------------------------------\u001b[0m",
      "\u001b[0;31mKeyError\u001b[0m                                  Traceback (most recent call last)",
      "\u001b[0;32m<ipython-input-65-dffdfacb02ea>\u001b[0m in \u001b[0;36m<module>\u001b[0;34m()\u001b[0m\n\u001b[1;32m      2\u001b[0m \u001b[0mprint\u001b[0m\u001b[0;34m(\u001b[0m\u001b[0md\u001b[0m\u001b[0;34m[\u001b[0m\u001b[0;34m\"foo\"\u001b[0m\u001b[0;34m]\u001b[0m\u001b[0;34m)\u001b[0m\u001b[0;34m\u001b[0m\u001b[0m\n\u001b[1;32m      3\u001b[0m \u001b[0mprint\u001b[0m\u001b[0;34m(\u001b[0m\u001b[0md\u001b[0m\u001b[0;34m.\u001b[0m\u001b[0mget\u001b[0m\u001b[0;34m(\u001b[0m\u001b[0;34m\"boo\"\u001b[0m\u001b[0;34m,\u001b[0m \u001b[0;36m42\u001b[0m\u001b[0;34m)\u001b[0m\u001b[0;34m)\u001b[0m\u001b[0;34m\u001b[0m\u001b[0m\n\u001b[0;32m----> 4\u001b[0;31m \u001b[0mprint\u001b[0m\u001b[0;34m(\u001b[0m\u001b[0md\u001b[0m\u001b[0;34m[\u001b[0m\u001b[0;34m\"boo\"\u001b[0m\u001b[0;34m]\u001b[0m\u001b[0;34m)\u001b[0m\u001b[0;34m\u001b[0m\u001b[0m\n\u001b[0m",
      "\u001b[0;31mKeyError\u001b[0m: 'boo'"
     ]
    }
   ],
   "source": [
    "d = {\"foo\": \"bar\"}\n",
    "print(d[\"foo\"])\n",
    "print(d.get(\"boo\", 42))\n",
    "print(d[\"boo\"])"
   ]
  },
  {
   "cell_type": "markdown",
   "metadata": {},
   "source": [
    "Записать значение по ключу можно с помощьюсинтаксисаd[key] = value.\n",
    "\n",
    "Метод setdefault позволяет за один запрос к хеш-таблице проверить, есть ли в ней значение по некоторому ключу и, если значения нет, установить его в заданное.\n",
    "\n",
    "Метод update добавляет словарь элементы переданной последовательности пар или словаря\n",
    "\n",
    "удалить значение по ключу можно с помощью оператора del d[key].\n",
    "\n",
    "### defaultdict — словарь с функцией-инициализатором"
   ]
  },
  {
   "cell_type": "code",
   "execution_count": null,
   "metadata": {
    "collapsed": true
   },
   "outputs": [],
   "source": []
  }
 ],
 "metadata": {
  "anaconda-cloud": {},
  "kernelspec": {
   "display_name": "Python [Root]",
   "language": "python",
   "name": "Python [Root]"
  },
  "language_info": {
   "codemirror_mode": {
    "name": "ipython",
    "version": 3
   },
   "file_extension": ".py",
   "mimetype": "text/x-python",
   "name": "python",
   "nbconvert_exporter": "python",
   "pygments_lexer": "ipython3",
   "version": "3.5.2"
  }
 },
 "nbformat": 4,
 "nbformat_minor": 0
}
