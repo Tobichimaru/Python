{
 "cells": [
  {
   "cell_type": "markdown",
   "metadata": {},
   "source": [
    "# Thread vs process"
   ]
  },
  {
   "cell_type": "markdown",
   "metadata": {
    "collapsed": true
   },
   "source": [
    "\n",
    "Чтобы выполнять программу параллельно есть два варианта: воспользоваться потоками или процессами: \n",
    "\n",
    "**Процесс** — экземпляр программы во время выполнения, независимый объект, которому выделены системные ресурсы (например, процессорное время и память). Каждый процесс выполняется в отдельном адресном пространстве: один процесс не может получить доступ к переменным и структурам данных другого. Если процесс хочет получить доступ к чужим ресурсам, необходимо использовать межпроцессное взаимодействие. Это могут быть конвейеры, файлы, каналы связи между компьютерами и многое другое.\n",
    "\n",
    "**Поток** - использует то же самое пространства стека, что и процесс, а множество потоков совместно используют данные своих состояний. Как правило, каждый поток может работать (читать и писать) с одной и той же областью памяти, в отличие от процессов, которые не могут просто так получить доступ к памяти другого процесса. У каждого потока есть собственные регистры и собственный стек, но другие потоки могут их использовать.\n"
   ]
  },
  {
   "cell_type": "markdown",
   "metadata": {},
   "source": [
    "**TLDR**: с точки зрения ОС поток ~= процесс, с точки зрения пользователя когда поток меняет данные - они сразу же видны другим потокам(не учитывая кеши), процессы изменения не видят и надо думать, как им общаться.  "
   ]
  },
  {
   "cell_type": "code",
   "execution_count": 23,
   "metadata": {
    "collapsed": true
   },
   "outputs": [],
   "source": [
    "from threading import Thread"
   ]
  },
  {
   "cell_type": "code",
   "execution_count": null,
   "metadata": {
    "collapsed": true
   },
   "outputs": [],
   "source": [
    "?Thread"
   ]
  },
  {
   "cell_type": "code",
   "execution_count": 32,
   "metadata": {},
   "outputs": [
    {
     "name": "stdout",
     "output_type": "stream",
     "text": [
      "running\n",
      "hi\n",
      "thread finished...exiting\n",
      "loopinglooping\n",
      "\n",
      "looping\n",
      "running\n",
      "looping\n",
      "loopinglooping\n",
      "\n",
      "running\n",
      "looping\n",
      "loopinglooping\n",
      "\n",
      "looping\n",
      "loopinglooping\n",
      "\n",
      "looping\n",
      "looping\n",
      "looping\n",
      "looping\n",
      "looping\n",
      "looping\n"
     ]
    }
   ],
   "source": [
    "from threading import Thread\n",
    "from time import sleep\n",
    "import os \n",
    "\n",
    "\n",
    "def threaded_function(arg):\n",
    "    print(os.getpid())\n",
    "        \n",
    "    while True:\n",
    "        sleep(1)\n",
    "\n",
    "\n",
    "if __name__ == \"__main__\":\n",
    "    thread = Thread(target = threaded_function, args = (3,))\n",
    "    thread.daemon =True\n",
    "    thread.start()\n",
    "    sleep(1)\n",
    "    print('hi')\n",
    "    #thread.join()\n",
    "    print(\"thread finished...exiting\")"
   ]
  },
  {
   "cell_type": "markdown",
   "metadata": {},
   "source": [
    "## Пулл потоков\n",
    "Достаточно часто хочется вопспользоваться несколькими потоками, которые будут хватать задачи и максивально быстро их выполнять, умеет следующее:\n",
    "\n",
    "**def init**(self, processes=None, initializer=None, initargs=(),\n",
    "                 maxtasksperchild=None): \n",
    "```                 \n",
    "   Собственно создание пула, maxtasksperchild - позволяет пересоздать воркера, после выполнения нескольких задачю. Нужно это, если у вас где-то может потечь память :)\n",
    "```                 \n",
    "**def apply_async**(self, func, args=(), kwds={}, callback=None):\n",
    "``` \n",
    " Просим выполнить некоторую функцию, возвращает Future(на самом деле AsyncResult), у которого можно спросить ready или позвать wait(timeout) или get() и заблокироваться до получения результата.\n",
    "``` \n",
    "**def apply**(self, func, args=(), kwds={}):\n",
    "```\n",
    " Внутри зовёт apply_async + get\n",
    "```\n",
    "\n",
    "**def map**(self, func, iterable, chunksize=None):\n",
    "```\n",
    " Параллельный вариант мапа, блокируется до полного результата \n",
    "```\n",
    "**def imap**(self, func, iterable, chunksize=1):\n",
    "```\n",
    " Вернёт генератор из которого можно будет вычитывать результаты\n",
    "```\n",
    "**def map_async**(self, func, iterable, chunksize=None, callback=None):\n",
    "```\n",
    " Тут вернётся список AsyncResult с которыми придётся разбираться самостоятельно ;)\n",
    "```\n",
    "**def imap_unordered**(self, func, iterable, chunksize=1):\n",
    "```\n",
    " Функции выше сохраняют порядок результатов, эта нет :)\n",
    "```\n",
    "**def close**(self):\n",
    "```\n",
    " Закрывает пулл: он перестаёт принимать задачи, как только воркеры закончат с текущими задачами, они стопаются.\n",
    "```\n",
    "\n",
    "**def terminate**(self):\n",
    "```\n",
    " Терминейтим всех рабочих, в пуле ещё могут быть задачи.\n",
    "```\n",
    "**def join**(self):\n",
    "```\n",
    " Дождаться пока все воркеры стопнуться\n",
    "```"
   ]
  },
  {
   "cell_type": "code",
   "execution_count": 1,
   "metadata": {},
   "outputs": [
    {
     "name": "stdout",
     "output_type": "stream",
     "text": [
      "2:04:03:0\n",
      "\n",
      "\n",
      "2:13:1\n",
      "\n",
      "3:24:1\n",
      "main:24:2\n",
      "\n",
      "\n",
      "4:3\n",
      "main:3\n",
      "main:4\n"
     ]
    }
   ],
   "source": [
    "from multiprocessing.pool import ThreadPool\n",
    "def job(arg):\n",
    "    for i in range(arg): \n",
    "        print(\"{}:{}\".format(arg,i))\n",
    "    return arg\n",
    "\n",
    "pool = ThreadPool(10)\n",
    "for res in pool.imap_unordered(job,range(2,5)): \n",
    "    print(\"main:{}\".format(res))"
   ]
  },
  {
   "cell_type": "markdown",
   "metadata": {
    "collapsed": true
   },
   "source": [
    "Выше видна проблама с выводом из нескольких потоков на консоль, чтобы предотвратить это безобразие, надо использовать примитивы синхронизации."
   ]
  },
  {
   "cell_type": "code",
   "execution_count": 2,
   "metadata": {
    "collapsed": true
   },
   "outputs": [],
   "source": [
    "class BankAccount(object): \n",
    "    def __init__(self,starting_sum): \n",
    "        self.money = starting_sum\n",
    "        \n",
    "    def put(self,money):\n",
    "        self.money +=money\n",
    "    \n",
    "    def get(self,money):\n",
    "        if self.money >= money: \n",
    "            self.money -= money\n",
    "            print(self.money)\n",
    "            return True\n",
    "        else: \n",
    "            return False"
   ]
  },
  {
   "cell_type": "code",
   "execution_count": null,
   "metadata": {
    "collapsed": true
   },
   "outputs": [],
   "source": [
    "10 6\n",
    "t1        if self.money >= money: \n",
    "t2        if self.money >= money: \n",
    "t1            self.money -= money 4\n",
    "t2            self.money -= money -2\n"
   ]
  },
  {
   "cell_type": "markdown",
   "metadata": {},
   "source": [
    "Теоретически мы можем уйти тут в минус"
   ]
  },
  {
   "cell_type": "code",
   "execution_count": 3,
   "metadata": {},
   "outputs": [
    {
     "name": "stdout",
     "output_type": "stream",
     "text": [
      "10101010\n",
      "\n",
      "\n",
      "1005\n",
      "\n",
      "\n",
      "\n",
      "0510\n",
      "10\n",
      "\n",
      "\n"
     ]
    }
   ],
   "source": [
    "pool = ThreadPool(10)\n",
    "account = BankAccount(10)\n",
    "\n",
    "def activity(args):\n",
    "    account.put(5)\n",
    "    account.get(5)\n",
    "    account.get(5)\n",
    "    account.get(5)\n",
    "    account.put(5)\n",
    "    account.put(5)\n",
    "    account.put(5)\n",
    "\n",
    "for _ in pool.imap(activity,range(5)): \n",
    "    pass"
   ]
  },
  {
   "cell_type": "markdown",
   "metadata": {},
   "source": [
    "Давайте посмотрим пример, как работает пулл и imap_unordered:"
   ]
  },
  {
   "cell_type": "code",
   "execution_count": 16,
   "metadata": {},
   "outputs": [
    {
     "name": "stdout",
     "output_type": "stream",
     "text": [
      "0\n",
      "1\n",
      "2\n",
      "3\n",
      "4\n",
      "5\n",
      "6\n",
      "7\n",
      "8\n",
      "9\n",
      "10\n",
      "11\n",
      "12\n",
      "13\n",
      "14\n",
      "15\n",
      "16\n",
      "17\n",
      "18\n",
      "19\n"
     ]
    }
   ],
   "source": [
    "import random \n",
    "from time import sleep\n",
    "pool = ThreadPool(2)\n",
    "\n",
    "def work(arg): \n",
    "    sleep(random.random())\n",
    "    return arg\n",
    "\n",
    "for res in pool.imap_unordered(work,range(20)): \n",
    "    print(res)"
   ]
  },
  {
   "cell_type": "markdown",
   "metadata": {
    "collapsed": true
   },
   "source": [
    "**Lock** - примитив, который позволяет реализовать **критическую секцию** область кода, которую может выполнять только один поток."
   ]
  },
  {
   "cell_type": "raw",
   "metadata": {
    "collapsed": true
   },
   "source": [
    "from threading import Lock"
   ]
  },
  {
   "cell_type": "code",
   "execution_count": 9,
   "metadata": {},
   "outputs": [
    {
     "name": "stdout",
     "output_type": "stream",
     "text": [
      "1\n"
     ]
    }
   ],
   "source": [
    "l =Lock()\n",
    "with l: \n",
    "    pass"
   ]
  },
  {
   "cell_type": "code",
   "execution_count": 7,
   "metadata": {
    "collapsed": true
   },
   "outputs": [],
   "source": [
    "?l.acquire"
   ]
  },
  {
   "cell_type": "markdown",
   "metadata": {
    "collapsed": true
   },
   "source": [
    "в части кода между acquire и release может находиться только один поток"
   ]
  },
  {
   "cell_type": "code",
   "execution_count": null,
   "metadata": {
    "collapsed": true
   },
   "outputs": [],
   "source": [
    "l.acquire() \n",
    "pass \n",
    "l.release()"
   ]
  },
  {
   "cell_type": "markdown",
   "metadata": {},
   "source": [
    "Вот так может выглядеть безопасная реализация БанковскогоАккаунта."
   ]
  },
  {
   "cell_type": "code",
   "execution_count": 17,
   "metadata": {
    "collapsed": true
   },
   "outputs": [],
   "source": [
    "class BankAccount(object): \n",
    "    def __init__(self,starting_sum): \n",
    "        self.money = starting_sum\n",
    "        self.lock = Lock()\n",
    "        \n",
    "    def put(self,money):\n",
    "        with self.lock:\n",
    "            self.money +=money\n",
    "    \n",
    "    def get(self,money):\n",
    "        with self.lock:\n",
    "            if self.money >= money: \n",
    "                self.money -= money\n",
    "                print(self.money)\n",
    "                return True\n",
    "            else: \n",
    "                return False"
   ]
  },
  {
   "cell_type": "markdown",
   "metadata": {},
   "source": [
    "## Мультипроцессинг\n",
    "приблизительно такие же интерфейсы как и для потоков, есть и для процессов. \n",
    "Давайте посмотрим, как можно сделать свой микро-пулл процессов"
   ]
  },
  {
   "cell_type": "code",
   "execution_count": 18,
   "metadata": {
    "collapsed": true
   },
   "outputs": [],
   "source": [
    "from multiprocessing import Process"
   ]
  },
  {
   "cell_type": "code",
   "execution_count": 22,
   "metadata": {
    "collapsed": true
   },
   "outputs": [],
   "source": [
    "import time, logging,os\n",
    "from multiprocessing import Process\n",
    "from multiprocessing import Pool\n",
    "from multiprocessing import Queue\n",
    "\n",
    "from queue import Empty\n",
    "\n",
    "class EndMarker:\n",
    "    pass \n",
    "\n",
    "\n",
    "class Worker(Process):\n",
    "    def __init__(self, q_in, q_out):\n",
    "        super(Worker, self).__init__()\n",
    "        self.q_in = q_in\n",
    "        self.q_out = q_out\n",
    "\n",
    "    def run(self):\n",
    "        while True:\n",
    "            try:\n",
    "                task = self.q_in.get(0.1)\n",
    "                if isinstance(task,EndMarker):\n",
    "                    break\n",
    "                else:\n",
    "                    logging.warning('%s:%s', os.getpid(), task)\n",
    "                    self.q_out.put(task)\n",
    "            except Empty:\n",
    "                time.sleep(1)\n"
   ]
  },
  {
   "cell_type": "code",
   "execution_count": 23,
   "metadata": {},
   "outputs": [
    {
     "name": "stderr",
     "output_type": "stream",
     "text": [
      "WARNING:root:22545:0\n",
      "WARNING:root:22546:1\n",
      "WARNING:root:22546:2\n",
      "WARNING:root:22545:4\n",
      "WARNING:root:22547:3\n",
      "WARNING:root:22546:5\n",
      "WARNING:root:22545:6\n",
      "WARNING:root:22547:7\n",
      "WARNING:root:22547:9\n",
      "WARNING:root:22546:8\n"
     ]
    }
   ],
   "source": [
    "q_in = Queue()\n",
    "q_out = Queue()\n",
    "processes = [Worker(q_in,q_out) for _ in range(3)]\n",
    "for p in processes: \n",
    "    p.start()\n",
    "\n",
    "for i in range(10): \n",
    "    q_in.put(i)\n",
    "\n",
    "\n",
    "for _ in processes: \n",
    "    q_in.put(EndMarker())\n",
    "\n",
    "for p in processes: \n",
    "    p.join()"
   ]
  },
  {
   "cell_type": "markdown",
   "metadata": {
    "collapsed": true
   },
   "source": [
    "Выше мы использовали потоковую очередь, позволяющую пересылать данные между процессами."
   ]
  },
  {
   "cell_type": "markdown",
   "metadata": {},
   "source": [
    "## Синхронизация процессов"
   ]
  },
  {
   "cell_type": "markdown",
   "metadata": {
    "collapsed": true
   },
   "source": [
    "Чтобы организовать синхронизацию между потоками/процессами кроме локов можно воспользоваться ешё несколькими примитивами:\n",
    "\n",
    "**BoundedSemaphore**: фактически атомарный счётчик, который позволяет находиться в критической секции только N потокам/процессам. В реальной жизни ипользуется для реализации ограничения доступа к лиммитированному ресурсу. [Читать больше](https://docs.python.org/3.6/library/threading.html#semaphore-objects)\n",
    "\n",
    "**Event**: Позволяет в одном месте подождать некоторый флаг, а в другом месте его установить [Читать больше](https://docs.python.org/3.6/library/threading.html#event-objects)\n",
    "\n",
    "**Condition**: Условие, позволяет реализовать ожидание некоторого повторяющегося события, через notify/notify_all  [Читать больше](https://docs.python.org/3.6/library/threading.html#condition-objects)\n"
   ]
  },
  {
   "cell_type": "code",
   "execution_count": 24,
   "metadata": {
    "collapsed": true
   },
   "outputs": [],
   "source": [
    "import threading\n",
    "\n",
    "semaphore = threading.BoundedSemaphore()\n",
    "event = threading.Event()\n",
    "condition = threading.Condition()"
   ]
  },
  {
   "cell_type": "code",
   "execution_count": 26,
   "metadata": {
    "collapsed": true
   },
   "outputs": [],
   "source": [
    "?threading.BoundedSemaphore"
   ]
  },
  {
   "cell_type": "code",
   "execution_count": 27,
   "metadata": {
    "collapsed": true
   },
   "outputs": [],
   "source": [
    "?threading.Event"
   ]
  },
  {
   "cell_type": "code",
   "execution_count": 28,
   "metadata": {
    "collapsed": true
   },
   "outputs": [],
   "source": [
    "?threading.Condition"
   ]
  },
  {
   "cell_type": "markdown",
   "metadata": {},
   "source": [
    "# InterProcessCommunication:\n",
    "IPC - друге варианты переслать данные более сложные, чем флаги между процессами, основные:\n",
    "1. Signal - механизм, которым обычно с вашим процессом общается ОС\n",
    "2. File - фактически несколько ваших процессов могут договориться писать/читать из некого файлика\n",
    "3. Socket - можете просто общаться через сокет\n",
    "4. Pipe - каналл, в который один процесс может что-то писать, а другой что-то читать.\n",
    "5. Shared memory - выделить некоторую область памяти, "
   ]
  },
  {
   "cell_type": "markdown",
   "metadata": {},
   "source": [
    "пример общения через сигналы"
   ]
  },
  {
   "cell_type": "code",
   "execution_count": 29,
   "metadata": {},
   "outputs": [
    {
     "name": "stdout",
     "output_type": "stream",
     "text": [
      "My PID is: 22191\n",
      "Waiting...\n",
      "Waiting...\n",
      "Waiting...\n",
      "Waiting...\n",
      "Waiting...\n",
      "Waiting...\n",
      "Waiting...\n",
      "Waiting...\n",
      "Waiting...\n",
      "Waiting...\n",
      "Received: 14\n",
      "Waiting...\n",
      "Waiting...\n",
      "Waiting...\n",
      "Waiting...\n",
      "Waiting...\n",
      "Waiting...\n",
      "Waiting...\n",
      "Waiting...\n",
      "Waiting...\n",
      "Waiting...\n",
      "Waiting...\n",
      "Waiting...\n",
      "Waiting...\n",
      "Waiting...\n",
      "Waiting...\n",
      "Waiting...\n",
      "Waiting...\n",
      "Waiting...\n",
      "Waiting...\n",
      "Waiting...\n"
     ]
    }
   ],
   "source": [
    "import signal\n",
    "import os\n",
    "import time\n",
    "\n",
    "def receive_signal(signum, stack):\n",
    "    print('Received:', signum)\n",
    "\n",
    "signal.signal(signal.SIGUSR1, receive_signal)\n",
    "signal.signal(signal.SIGUSR2, receive_signal)\n",
    "signal.signal(signal.SIGALRM, receive_signal) \n",
    "\n",
    "print('My PID is:', os.getpid())\n",
    "\n",
    "signal.alarm(10)                              \n",
    "\n",
    "for i in range(30):\n",
    "    print('Waiting...')\n",
    "    time.sleep(1)"
   ]
  },
  {
   "cell_type": "markdown",
   "metadata": {
    "collapsed": true
   },
   "source": [
    "Пример использования пайп: запускать надо из консоли и вторым питоном("
   ]
  },
  {
   "cell_type": "code",
   "execution_count": null,
   "metadata": {
    "collapsed": true
   },
   "outputs": [],
   "source": [
    "import cPickle\n",
    "\n",
    "import os\n",
    "\n",
    "#communicate with another process through named pipe\n",
    "#one for receive command, the other for send command\n",
    "\n",
    "rfPath = \"./p1\"\n",
    "\n",
    "wfPath = \"./p2\"\n",
    "\n",
    "try:\n",
    "    os.mkfifo(wfPath)\n",
    "    os.mkfifo(rfPath)\n",
    "except OSError:\n",
    "\n",
    "    pass\n",
    "\n",
    "rp = open(rfPath, 'r')\n",
    "response = rp.read()\n",
    "print(\"P2 hear %s\" % response)\n",
    "rp.close()\n",
    "\n",
    "wp = open(wfPath, 'w')\n",
    "wp.write(\"P2: I'm fine, thank you! And you?\")\t\t\n",
    "wp.close()\n",
    "\n",
    "\n",
    "rp = open(rfPath, 'r')\n",
    "response = rp.read()\n",
    "print(\"P2 hear %s\" % response)\n",
    "rp.close()"
   ]
  },
  {
   "cell_type": "code",
   "execution_count": 3,
   "metadata": {},
   "outputs": [
    {
     "ename": "ModuleNotFoundError",
     "evalue": "No module named 'cPickle'",
     "output_type": "error",
     "traceback": [
      "\u001b[0;31m---------------------------------------------------------------------------\u001b[0m",
      "\u001b[0;31mModuleNotFoundError\u001b[0m                       Traceback (most recent call last)",
      "\u001b[0;32m<ipython-input-3-e405b43c1039>\u001b[0m in \u001b[0;36m<module>\u001b[0;34m()\u001b[0m\n\u001b[1;32m      1\u001b[0m \u001b[0;31m#!/usr/bin/python\u001b[0m\u001b[0;34m\u001b[0m\u001b[0;34m\u001b[0m\u001b[0m\n\u001b[1;32m      2\u001b[0m \u001b[0;34m\u001b[0m\u001b[0m\n\u001b[0;32m----> 3\u001b[0;31m \u001b[0;32mimport\u001b[0m \u001b[0mcPickle\u001b[0m\u001b[0;34m\u001b[0m\u001b[0m\n\u001b[0m\u001b[1;32m      4\u001b[0m \u001b[0;32mimport\u001b[0m \u001b[0mos\u001b[0m\u001b[0;34m\u001b[0m\u001b[0m\n\u001b[1;32m      5\u001b[0m \u001b[0;34m\u001b[0m\u001b[0m\n",
      "\u001b[0;31mModuleNotFoundError\u001b[0m: No module named 'cPickle'"
     ]
    }
   ],
   "source": [
    "#!/usr/bin/python\n",
    "\n",
    "import cPickle\n",
    "import os\n",
    "\n",
    "wfPath = \"./p1\"\n",
    "rfPath = \"./p2\"\n",
    "wp = open(wfPath, 'w')\n",
    "wp.write(\"P1: How are you?\")\t\t\n",
    "wp.close()\n",
    "\n",
    "\n",
    "rp = open(rfPath, 'r')\n",
    "response = rp.read()\n",
    "print(\"P1 hear %s\" % response)\n",
    "rp.close()\n",
    "\n",
    "wp = open(wfPath, 'w')\n",
    "wp.write(\"P1: I'm fine too.\")\t\t\n",
    "wp.close()"
   ]
  }
 ],
 "metadata": {
  "kernelspec": {
   "display_name": "Python 3",
   "language": "python",
   "name": "python3"
  },
  "language_info": {
   "codemirror_mode": {
    "name": "ipython",
    "version": 3
   },
   "file_extension": ".py",
   "mimetype": "text/x-python",
   "name": "python",
   "nbconvert_exporter": "python",
   "pygments_lexer": "ipython3",
   "version": "3.6.1"
  }
 },
 "nbformat": 4,
 "nbformat_minor": 2
}
