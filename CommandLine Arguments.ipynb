{
 "cells": [
  {
   "cell_type": "markdown",
   "metadata": {},
   "source": [
    "``` 1) Сейчас считается не очень хорошим тоном  делать что-то на первом уровне вложенности, обычно для таких целей создаётся функция main и под ифом проверяющим, что мы сейчас запущены из консоли, а не в процессе импорта, делаем её вызов.\n",
    "2) Также считается не очень хорошим тоном напрямую выдирать аргументы и парсить их самостоятельно, для этого есть можуль ArgunebtParser\n",
    "```"
   ]
  },
  {
   "cell_type": "code",
   "execution_count": null,
   "metadata": {
    "collapsed": true
   },
   "outputs": [],
   "source": [
    "import argparse\n",
    "def parse_args():\n",
    "    parser = argparse.ArgumentParser()\n",
    "    parser.add_argument('--host', help='host(if ipv6 only - address should be used)', required=True)\n",
    "    parser.add_argument('--port', default=27017)\n",
    "    parser.add_argument('--db', help='destination db', required=True)\n",
    "    parser.add_argument('-u', '--user', default=None)\n",
    "    parser.add_argument('-p', '--password', default=None)\n",
    "    return parser.parse_args()\n",
    "\n",
    "def main():\n",
    "    options = parse_args()\n",
    "    print(type(options))\n",
    "    #do some work\n",
    "\n",
    "if __name__ == \"__main__\":\n",
    "    main()"
   ]
  },
  {
   "cell_type": "markdown",
   "metadata": {
    "collapsed": true
   },
   "source": [
    "``` Также не очень приветствуются \"голые\" принты, вместо них предлагается использовать модуль logging. \n",
    "Логинг позволяет настроить формат сообщений(например во все сообщения  дописывать дату и модуль). Также у логгинга есть несколько уровней: debug,info, warning,exception,error, вы пишете сообщение с неким уровнем, а потом можете попросить выводить только сообщения от уровня exception и выше.\n",
    "```"
   ]
  },
  {
   "cell_type": "code",
   "execution_count": null,
   "metadata": {
    "collapsed": true
   },
   "outputs": [],
   "source": [
    "import logging"
   ]
  },
  {
   "cell_type": "code",
   "execution_count": 4,
   "metadata": {},
   "outputs": [
    {
     "name": "stderr",
     "output_type": "stream",
     "text": [
      "WARNING:root:hello\n"
     ]
    }
   ],
   "source": [
    "logging.warning(\"hello\")"
   ]
  },
  {
   "cell_type": "code",
   "execution_count": 5,
   "metadata": {},
   "outputs": [
    {
     "name": "stderr",
     "output_type": "stream",
     "text": [
      "ERROR:root:Got error\n",
      "Traceback (most recent call last):\n",
      "  File \"<ipython-input-5-f94a20cae209>\", line 2, in <module>\n",
      "    raise Exception(\"123\")\n",
      "Exception: 123\n"
     ]
    }
   ],
   "source": [
    "try: \n",
    "    raise Exception(\"123\")\n",
    "except: \n",
    "    logging.exception(\"Got error\")"
   ]
  },
  {
   "cell_type": "markdown",
   "metadata": {},
   "source": [
    "``` Есть несколько вариантов интерполирования строк в питоне: предпочтительным считается через функцию формат(). \n",
    "Также есть несколько способов подстановки в строчку лога параметров, тут считается лучше делать через %s, т.к. в этом случае аргументы \"приезжают\" в функцию логирования отдельно и с ними можно чего-нибудь сделать.\n",
    "```"
   ]
  },
  {
   "cell_type": "code",
   "execution_count": 2,
   "metadata": {},
   "outputs": [
    {
     "data": {
      "text/plain": [
       "'noname - hello noname, from me'"
      ]
     },
     "execution_count": 2,
     "metadata": {},
     "output_type": "execute_result"
    }
   ],
   "source": [
    "\"{0} - hello {0}, {1}\".format(\"noname\",\"from me\")"
   ]
  },
  {
   "cell_type": "code",
   "execution_count": 3,
   "metadata": {},
   "outputs": [
    {
     "data": {
      "text/plain": [
       "'noname - hello noname, from me'"
      ]
     },
     "execution_count": 3,
     "metadata": {},
     "output_type": "execute_result"
    }
   ],
   "source": [
    "\"{name} - hello {name}, {from_}\".format(name=\"noname\",from_=\"from me\")"
   ]
  },
  {
   "cell_type": "code",
   "execution_count": 5,
   "metadata": {},
   "outputs": [
    {
     "data": {
      "text/plain": [
       "'my string hello'"
      ]
     },
     "execution_count": 5,
     "metadata": {},
     "output_type": "execute_result"
    }
   ],
   "source": [
    "\"my string %s\" %\"hello\""
   ]
  },
  {
   "cell_type": "code",
   "execution_count": null,
   "metadata": {
    "collapsed": true
   },
   "outputs": [],
   "source": []
  },
  {
   "cell_type": "code",
   "execution_count": 12,
   "metadata": {},
   "outputs": [
    {
     "name": "stderr",
     "output_type": "stream",
     "text": [
      "WARNING:root:i got error\n"
     ]
    }
   ],
   "source": [
    "logging.warning(\"{} got error\".format(\"i\"))"
   ]
  },
  {
   "cell_type": "code",
   "execution_count": 14,
   "metadata": {},
   "outputs": [
    {
     "name": "stderr",
     "output_type": "stream",
     "text": [
      "WARNING:root:i got error me\n"
     ]
    }
   ],
   "source": [
    "logging.warning(\"%s got error %s\",\"i\",\"me\")"
   ]
  },
  {
   "cell_type": "code",
   "execution_count": 15,
   "metadata": {},
   "outputs": [
    {
     "data": {
      "text/plain": [
       "'my string hello'"
      ]
     },
     "execution_count": 15,
     "metadata": {},
     "output_type": "execute_result"
    }
   ],
   "source": []
  }
 ],
 "metadata": {
  "kernelspec": {
   "display_name": "Python 3",
   "language": "python",
   "name": "python3"
  },
  "language_info": {
   "codemirror_mode": {
    "name": "ipython",
    "version": 3
   },
   "file_extension": ".py",
   "mimetype": "text/x-python",
   "name": "python",
   "nbconvert_exporter": "python",
   "pygments_lexer": "ipython3",
   "version": "3.6.1"
  }
 },
 "nbformat": 4,
 "nbformat_minor": 2
}
