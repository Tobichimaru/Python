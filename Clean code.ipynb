{
 "cells": [
  {
   "cell_type": "raw",
   "metadata": {
    "slideshow": {
     "slide_type": "skip"
    }
   },
   "source": [
    ".reveal p {\n",
    "font-family: 'Raleway', sans-serif;\n",
    "color: #2d28cc;\n",
    "}"
   ]
  },
  {
   "cell_type": "markdown",
   "metadata": {
    "slideshow": {
     "slide_type": "slide"
    }
   },
   "source": [
    "<h1 class=\"title\">Идиомы Python и хорошие практики написания кода</h1>"
   ]
  },
  {
   "cell_type": "markdown",
   "metadata": {
    "slideshow": {
     "slide_type": "slide"
    }
   },
   "source": [
    "# Зачем вообще нужны какие-то правила?\n",
    "\n",
    "* В сердце дизайна Python лежит принцип выского уровня удобочитаемости кода, основанного на том, что код читают гораздо больше раз, чем пишут.\n",
    "* Одной из причин этого, является то, что Python содержит достаточно большое и полное количестов идиом и хороших практик."
   ]
  },
  {
   "cell_type": "markdown",
   "metadata": {
    "slideshow": {
     "slide_type": "slide"
    }
   },
   "source": [
    "# Readability counts\n",
    "\n",
    "Programs must be written for people to read, and only incidentally for machines to execute.\n",
    "\n",
    "—Abelson & Sussman, Structure and Interpretation of Computer Programs"
   ]
  },
  {
   "cell_type": "markdown",
   "metadata": {
    "slideshow": {
     "slide_type": "slide"
    }
   },
   "source": [
    "# PEP 8: Style Guide for Python Code\n",
    "\n",
    "Можно почитать вот здесь http://www.python.org/dev/peps/pep-0008/\n",
    "\n",
    "* Есть программа [pycodestyle](https://github.com/PyCQA/pycodestyle), (ранее известная как pep8), которая может проверить автоматом соответствие кода на pep8\n",
    "* [autopep8](https://pypi.python.org/pypi/autopep8/), автоматически пытается привести код к pep8 (можно в Pycharm PyCharm Ctrl+Alt+L ⌥⌘L)\n",
    "* Другие: pylint, pyflakes"
   ]
  },
  {
   "cell_type": "markdown",
   "metadata": {
    "slideshow": {
     "slide_type": "slide"
    }
   },
   "source": [
    "$ pycodestyle --first random.py\n",
    "\n",
    "random.py:40:80: E501 line too long (84 > 79 characters)\n",
    "\n",
    "random.py:47:20: E231 missing whitespace after ','\n",
    "\n",
    "random.py:66:1: E402 module level import not at top of file\n",
    "\n",
    "random.py:68:1: E302 expected 2 blank lines, found 1\n",
    "\n",
    "random.py:113:43: E261 at least two spaces before inline comment\n",
    "\n",
    "random.py:151:1: E266 too many leading '#' for block comment\n",
    "\n",
    "random.py:220:47: E227 missing whitespace around bitwise or shift operator\n",
    "\n",
    "random.py:238:17: E128 continuation line under-indented for visual indent\n",
    "\n",
    "random.py:690:51: E502 the backslash is redundant between brackets\n",
    "\n",
    "random.py:691:15: E127 continuation line over-indented for visual indent\n",
    "\n",
    "random.py:714:1: E265 block comment should start with '# '\n",
    "\n",
    "random.py:718:1: E305 expected 2 blank lines after class or function definition, found 1"
   ]
  },
  {
   "cell_type": "markdown",
   "metadata": {
    "slideshow": {
     "slide_type": "subslide"
    }
   },
   "source": [
    "$ autopep8 --in-place random.py \n",
    "\n",
    "$ pycodestyle --first random.py \n",
    "\n",
    "random.py:40:80: E501 line too long (84 > 79 characters)\n",
    "\n",
    "random.py:66:1: E402 module level import not at top of file\n",
    "\n",
    "random.py:597:1: E266 too many leading '#' for block comment\n",
    "\n",
    "random.py:720:1: E265 block comment should start with '# '\n",
    "\n",
    "$ "
   ]
  },
  {
   "cell_type": "markdown",
   "metadata": {
    "slideshow": {
     "slide_type": "slide"
    }
   },
   "source": [
    "# Пробелы и отступы\n",
    "\n",
    "* 4 пробела для отступов желательно\n",
    "* Никогда не мешать пробелы и табы (можно настроить в редакторах и IDE, чтобы табы заменялись на пробелы)\n",
    "* Две пустые строки между определениями функций или классов"
   ]
  },
  {
   "cell_type": "markdown",
   "metadata": {
    "slideshow": {
     "slide_type": "slide"
    }
   },
   "source": [
    "# Пробелы 2\n",
    "\n",
    "* Пробел после \",\" в словарях, списках, таплах, аргументах функций и после \":\" в словарях, но не перед.\n",
    "* Пробелы в присваиваниях и сравнениях (исключения аргументы функций).\n",
    "* Никаких пробелов в начале и конце скобок."
   ]
  },
  {
   "cell_type": "code",
   "execution_count": null,
   "metadata": {
    "collapsed": true,
    "slideshow": {
     "slide_type": "-"
    }
   },
   "outputs": [],
   "source": [
    "def make_something(x, y=0):\n",
    "    d = {x: y}\n",
    "    l = [x, y]\n",
    "    return d, l"
   ]
  },
  {
   "cell_type": "markdown",
   "metadata": {
    "slideshow": {
     "slide_type": "slide"
    }
   },
   "source": [
    "# Названия\n",
    "\n",
    "* joined_lower для функций, методов и атрибутов\n",
    "* ALL_CAPS для констант\n",
    "* StudlyCaps для классов\n",
    "* Атрибуты: interface, \\_internal, \\_\\_private\n",
    "\n",
    "\n",
    "* имя функции начинается с глагола: `do_something()`\n",
    "* булева функция начинается с глагола во второй форме: `is_ready()`, `has_key()`\n",
    "* сокращения ухудшают читаемость (кроме широко употребимых: http)\n",
    "* не перекрывать встроенные имена (для этого можно добавить подчеркивание в конец)"
   ]
  },
  {
   "cell_type": "markdown",
   "metadata": {
    "slideshow": {
     "slide_type": "slide"
    }
   },
   "source": [
    "# Длинные строки\n",
    "\n",
    "* Длина строки ограничена 80 символами\n",
    "* Разбивать длинную строку можно с помощью круглых скобок (предпочтительно) или бекслэшей"
   ]
  },
  {
   "cell_type": "code",
   "execution_count": null,
   "metadata": {
    "collapsed": true,
    "slideshow": {
     "slide_type": "subslide"
    }
   },
   "outputs": [],
   "source": [
    "def very_very_very_very_long_function_name(first, second, third, fourth, fifth):\n",
    "    return \" \".join([first, second, third, fourth, fifth])\n",
    "\n",
    "result = very_very_very_very_long_function_name(\n",
    "    first=\"first\",\n",
    "    second=\"second\",\n",
    "    third=\"third\",\n",
    "    fourth=\"fourth\",\n",
    "    fifth=\"fifth\"\n",
    ")\n",
    "\n",
    "result = very_very_very_very_long_function_name(first=\"first\",\n",
    "                                                second=\"second\",\n",
    "                                                third=\"third\",\n",
    "                                                fourth=\"fourth\",\n",
    "                                                fifth=\"fifth\"\n",
    ")"
   ]
  },
  {
   "cell_type": "code",
   "execution_count": null,
   "metadata": {
    "collapsed": true,
    "slideshow": {
     "slide_type": "subslide"
    }
   },
   "outputs": [],
   "source": [
    "post = BlogPost.objects.exclude('title').exclude('author.name').select(price='price', date=date).order_by('date')\n",
    "\n",
    "post = (\n",
    "    BlogPost.objects\n",
    "    .exclude('title')\n",
    "    .exclude('author.name')\n",
    "    .select(price='price', date=date)\n",
    "    .order_by('date')\n",
    ")\n",
    "\n",
    "post = BlogPost\\\n",
    "    .objects\\\n",
    "    .exclude('title')\\\n",
    "    .exclude('author.name')\\\n",
    "    .select(price='price', date=date)\\\n",
    "    .order_by('date')"
   ]
  },
  {
   "cell_type": "code",
   "execution_count": null,
   "metadata": {
    "collapsed": true,
    "slideshow": {
     "slide_type": "subslide"
    }
   },
   "outputs": [],
   "source": [
    "# Для очень длинных нужно использовать тройные кавычки\n",
    "\"\"\"Triple\n",
    "double\n",
    "quotes\"\"\""
   ]
  },
  {
   "cell_type": "markdown",
   "metadata": {
    "slideshow": {
     "slide_type": "slide"
    }
   },
   "source": [
    "# Один statement на строку"
   ]
  },
  {
   "cell_type": "markdown",
   "metadata": {
    "slideshow": {
     "slide_type": "-"
    }
   },
   "source": [
    "## Плохо"
   ]
  },
  {
   "cell_type": "code",
   "execution_count": null,
   "metadata": {
    "collapsed": true,
    "slideshow": {
     "slide_type": "-"
    }
   },
   "outputs": [],
   "source": [
    "print 'one'; print 'two'\n",
    "\n",
    "if x == 1: print 'one'\n",
    "\n",
    "if <complex comparison> and <other complex comparison>:\n",
    "    # do something"
   ]
  },
  {
   "cell_type": "markdown",
   "metadata": {
    "slideshow": {
     "slide_type": "-"
    }
   },
   "source": [
    "## Хорошо"
   ]
  },
  {
   "cell_type": "code",
   "execution_count": null,
   "metadata": {
    "collapsed": true,
    "slideshow": {
     "slide_type": "-"
    }
   },
   "outputs": [],
   "source": [
    "print 'one'\n",
    "print 'two'\n",
    "\n",
    "if x == 1:\n",
    "    print 'one'\n",
    "\n",
    "cond1 = <complex comparison>\n",
    "cond2 = <other complex comparison>\n",
    "if cond1 and cond2:\n",
    "    # do something"
   ]
  },
  {
   "cell_type": "markdown",
   "metadata": {
    "slideshow": {
     "slide_type": "slide"
    }
   },
   "source": [
    "# Explicit is better than implicit"
   ]
  },
  {
   "cell_type": "markdown",
   "metadata": {
    "slideshow": {
     "slide_type": "-"
    }
   },
   "source": [
    "## Плохо"
   ]
  },
  {
   "cell_type": "code",
   "execution_count": null,
   "metadata": {
    "collapsed": true,
    "slideshow": {
     "slide_type": "-"
    }
   },
   "outputs": [],
   "source": [
    "def make_complex(*args):\n",
    "    x, y = args\n",
    "    return dict(**locals())"
   ]
  },
  {
   "cell_type": "markdown",
   "metadata": {
    "slideshow": {
     "slide_type": "-"
    }
   },
   "source": [
    "# Хорошо"
   ]
  },
  {
   "cell_type": "code",
   "execution_count": null,
   "metadata": {
    "collapsed": true,
    "slideshow": {
     "slide_type": "-"
    }
   },
   "outputs": [],
   "source": [
    "def make_complex(x, y):\n",
    "    return {'x': x, 'y': y}"
   ]
  },
  {
   "cell_type": "markdown",
   "metadata": {
    "slideshow": {
     "slide_type": "slide"
    }
   },
   "source": [
    "# Аргументы функций"
   ]
  },
  {
   "cell_type": "code",
   "execution_count": null,
   "metadata": {
    "collapsed": true,
    "slideshow": {
     "slide_type": "-"
    }
   },
   "outputs": [],
   "source": [
    "# Positional\n",
    "def message(from_, to):\n",
    "    print(from, to)\n",
    "\n",
    "send(1, 2)\n",
    "# Можно делать и так, но получается слишком многословно\n",
    "send(from_=1, to=2)\n",
    "\n",
    "\n",
    "# Keyword\n",
    "def message(from_, to, cc=None, bcc=None):\n",
    "    print(from_, to, cc, bcc)\n",
    "\n",
    "send('Hello', 'World', 'Cthulhu', 'God')\n",
    "send('Hello again', 'World', bcc='God', cc='Cthulhu')\n",
    "# Самый ясный способ\n",
    "send('Hello', 'World', cc='Cthulhu', bcc='God')"
   ]
  },
  {
   "cell_type": "code",
   "execution_count": null,
   "metadata": {
    "collapsed": true,
    "slideshow": {
     "slide_type": "subslide"
    }
   },
   "outputs": [],
   "source": [
    "# Arbitrary argument list\n",
    "# Стоит избегать таких определений функций, если возможно, и делать второй аргумент списком\n",
    "def send(message, *args):\n",
    "    print(message, args)\n",
    "\n",
    "# args=['God', 'Mom', 'Cthulhu']\n",
    "send('Hello', 'God', 'Mom', 'Cthulhu')\n",
    "\n",
    "# Arbitrary keyword argument list\n",
    "# Стоит давать функции такую сигнатуру лишь в случае крайней необходимости\n",
    "def send(*args, **kwargs):\n",
    "    print(args, kwargs)\n",
    "\n",
    "# args=['God', 'Mom', 'Cthulhu']\n",
    "# kwargs={'from_': 'hello', 'to': 'devil'}\n",
    "send('God', 'Mom', 'Cthulhu', from_='hello', to='devil')"
   ]
  },
  {
   "cell_type": "markdown",
   "metadata": {
    "slideshow": {
     "slide_type": "slide"
    }
   },
   "source": [
    "# Возвращение значений\n",
    "\n",
    "* Лучше, по возможности, избегать возвращение осмысленных значений из многих точек в коде функции, аккумулировав возвращаемое значение в какой-то переменной и вернув его в конце.\n",
    "* Для ошибок лучше бросать исключения, если же невозможно, то возвращать `False` или `None`. Возвращать лучше сразу же, как произошла ошибка. Это поможет \"выравнять\" структуру функции и поддерживать нужные инварианты."
   ]
  },
  {
   "cell_type": "code",
   "execution_count": null,
   "metadata": {
    "collapsed": true,
    "slideshow": {
     "slide_type": "-"
    }
   },
   "outputs": [],
   "source": [
    "def complex_function(a, b, c):\n",
    "    if not a:\n",
    "        return None  # Raising an exception might be better\n",
    "    if not b:\n",
    "        return None  # Raising an exception might be better\n",
    "    # Some complex code trying to compute x from a, b and c\n",
    "    # Resist temptation to return x if succeeded\n",
    "    if not x:\n",
    "        # Some Plan-B computation of x\n",
    "    return x  # One single exit point for the returned value x will help\n",
    "              # when maintaining the code."
   ]
  },
  {
   "cell_type": "markdown",
   "metadata": {
    "slideshow": {
     "slide_type": "slide"
    }
   },
   "source": [
    "# Распаковка"
   ]
  },
  {
   "cell_type": "code",
   "execution_count": null,
   "metadata": {
    "collapsed": true,
    "slideshow": {
     "slide_type": "-"
    }
   },
   "outputs": [],
   "source": [
    "for index, item in enumerate(some_list):\n",
    "    # do something with index and item\n",
    "\n",
    "a, b = b, a\n",
    "\n",
    "a, (b, c) = 1, (2, 3)\n",
    "\n",
    "# a = 1, rest = [2, 3]\n",
    "a, *rest = [1, 2, 3]\n",
    "# a = 1, middle = [2, 3], c = 4\n",
    "a, *middle, c = [1, 2, 3, 4]"
   ]
  },
  {
   "cell_type": "markdown",
   "metadata": {
    "slideshow": {
     "slide_type": "slide"
    }
   },
   "source": [
    "# Немного о таплах"
   ]
  },
  {
   "cell_type": "markdown",
   "metadata": {
    "slideshow": {
     "slide_type": "-"
    }
   },
   "source": [
    "In [1]: 1,\n",
    "\n",
    "Out[1]: (1,)\n",
    "\n",
    "In [2]: (1,)\n",
    "\n",
    "Out[2]: (1,)\n",
    "\n",
    "In [3]: (1)\n",
    "\n",
    "Out[3]: 1\n",
    "\n",
    "In [4]: ()\n",
    "\n",
    "Out[4]: ()\n",
    "\n",
    "In [5]: tuple()\n",
    "\n",
    "Out[5]: ()"
   ]
  },
  {
   "cell_type": "markdown",
   "metadata": {
    "slideshow": {
     "slide_type": "subslide"
    }
   },
   "source": [
    "In [6]: value = 1,\n",
    "\n",
    "In [7]: value\n",
    "\n",
    "Out[7]: (1,)"
   ]
  },
  {
   "cell_type": "markdown",
   "metadata": {
    "slideshow": {
     "slide_type": "slide"
    }
   },
   "source": [
    "# Как игнорировать значение переменной"
   ]
  },
  {
   "cell_type": "code",
   "execution_count": null,
   "metadata": {
    "collapsed": true,
    "slideshow": {
     "slide_type": "-"
    }
   },
   "outputs": [],
   "source": [
    "filename = 'foobar.txt'\n",
    "basename, __, ext = filename.rpartition('.')"
   ]
  },
  {
   "cell_type": "markdown",
   "metadata": {
    "slideshow": {
     "slide_type": "slide"
    }
   },
   "source": [
    "# Размножение списков"
   ]
  },
  {
   "cell_type": "code",
   "execution_count": null,
   "metadata": {
    "collapsed": true,
    "slideshow": {
     "slide_type": "-"
    }
   },
   "outputs": [],
   "source": [
    "# For immutable\n",
    "four_nones = [None] * 4\n",
    "\n",
    "# For mutable\n",
    "four_lists = [[] for __ in range(4)]"
   ]
  },
  {
   "cell_type": "markdown",
   "metadata": {
    "slideshow": {
     "slide_type": "slide"
    }
   },
   "source": [
    "# Конкатенация строк"
   ]
  },
  {
   "cell_type": "code",
   "execution_count": null,
   "metadata": {
    "collapsed": true,
    "slideshow": {
     "slide_type": "-"
    }
   },
   "outputs": [],
   "source": [
    "letters = ['s', 'p', 'a', 'm']\n",
    "word = ''.join(letters)"
   ]
  },
  {
   "cell_type": "markdown",
   "metadata": {
    "slideshow": {
     "slide_type": "slide"
    }
   },
   "source": [
    "# Поиск элемента в коллекции"
   ]
  },
  {
   "cell_type": "code",
   "execution_count": null,
   "metadata": {
    "collapsed": true,
    "slideshow": {
     "slide_type": "-"
    }
   },
   "outputs": [],
   "source": [
    "s = set(['s', 'p', 'a', 'm'])\n",
    "l = ['s', 'p', 'a', 'm']\n",
    "\n",
    "def lookup_set(s):\n",
    "    return 's' in s\n",
    "\n",
    "# Нужно использовать осторожно, так как работает за линейное от длины списка время\n",
    "def lookup_list(l):\n",
    "    return 's' in l"
   ]
  },
  {
   "cell_type": "markdown",
   "metadata": {
    "slideshow": {
     "slide_type": "slide"
    }
   },
   "source": [
    "# Итерирование в цикле"
   ]
  },
  {
   "cell_type": "code",
   "execution_count": null,
   "metadata": {
    "collapsed": true,
    "slideshow": {
     "slide_type": "-"
    }
   },
   "outputs": [],
   "source": [
    "# Плохо: \n",
    "for i in range(len(array)): \n",
    "    print(array[i])\n",
    "\n",
    "# Хорошо\n",
    "for i in array: \n",
    "    print(i)\n",
    "\n",
    "d = {'a': 1, 'b': 2}\n",
    "\n",
    "# Плохо\n",
    "for key in d.keys():\n",
    "    print(key)\n",
    "\n",
    "# Хорошо\n",
    "for key in d:\n",
    "    print(key)\n",
    "\n",
    "# Но если хотим изменять словарь во время итерации, то нужно делать именно так\n",
    "for key in d.keys():\n",
    "    d[str(key)] = d[key]"
   ]
  },
  {
   "cell_type": "markdown",
   "metadata": {
    "slideshow": {
     "slide_type": "slide"
    }
   },
   "source": [
    "# `setdefault` у словаря и `defaultdict`"
   ]
  },
  {
   "cell_type": "code",
   "execution_count": null,
   "metadata": {
    "collapsed": true,
    "slideshow": {
     "slide_type": "-"
    }
   },
   "outputs": [],
   "source": [
    "# Плохо\n",
    "equities = {}\n",
    "for (portfolio, equity) in data:\n",
    "    if portfolio in equities:\n",
    "        equities[portfolio].append(equity)\n",
    "    else:\n",
    "        equities[portfolio] = [equity]\n",
    "\n",
    "# Хорошо\n",
    "equities = {}\n",
    "for (portfolio, equity) in data:\n",
    "    equities.setdefault(portfolio, []).append(equity)\n",
    "\n",
    "# Еще лучше\n",
    "from collections import defaultdict\n",
    "equities = defaultdict(list)\n",
    "for (portfolio, equity) in data:\n",
    "    equities[portfolio].append(equity)"
   ]
  },
  {
   "cell_type": "markdown",
   "metadata": {
    "slideshow": {
     "slide_type": "slide"
    }
   },
   "source": [
    "# Дефолтные значения аргументов не стоит делать мьютабельными"
   ]
  },
  {
   "cell_type": "code",
   "execution_count": 1,
   "metadata": {
    "collapsed": false,
    "slideshow": {
     "slide_type": "-"
    }
   },
   "outputs": [
    {
     "name": "stdout",
     "output_type": "stream",
     "text": [
      "['a']\n",
      "['a', 'b']\n"
     ]
    }
   ],
   "source": [
    "def bad_append(new_item, a_list=[]):\n",
    "    a_list.append(new_item)\n",
    "    return a_list\n",
    "\n",
    "print(bad_append('a'))\n",
    "print(bad_append('b'))\n",
    "\n",
    "def good_append(new_item, a_list=None):\n",
    "    if a_list is None:\n",
    "        a_list = []\n",
    "    a_list.append(new_item)\n",
    "    return a_list"
   ]
  },
  {
   "cell_type": "markdown",
   "metadata": {
    "slideshow": {
     "slide_type": "slide"
    }
   },
   "source": [
    "# Проверка на ложность или `None`"
   ]
  },
  {
   "cell_type": "code",
   "execution_count": null,
   "metadata": {
    "collapsed": true,
    "slideshow": {
     "slide_type": "-"
    }
   },
   "outputs": [],
   "source": [
    "# Плохо\n",
    "\n",
    "if attr == True:\n",
    "    print('True!')\n",
    "\n",
    "if attr == None:\n",
    "    print('attr is None!')\n",
    "\n",
    "# Хорошо\n",
    "\n",
    "# Just check the value\n",
    "if attr:\n",
    "    print('attr is truthy!')\n",
    "\n",
    "# or check for the opposite\n",
    "if not attr:\n",
    "    print('attr is falsey!')\n",
    "\n",
    "# or, since None is considered false, explicitly check for it\n",
    "if attr is None:\n",
    "    print('attr is None!')"
   ]
  },
  {
   "cell_type": "markdown",
   "metadata": {
    "slideshow": {
     "slide_type": "slide"
    }
   },
   "source": [
    "# Достать элемент из словаря"
   ]
  },
  {
   "cell_type": "code",
   "execution_count": null,
   "metadata": {
    "collapsed": true,
    "slideshow": {
     "slide_type": "-"
    }
   },
   "outputs": [],
   "source": [
    "# Плохо\n",
    "\n",
    "d = {'hello': 'world'}\n",
    "if d.has_key('hello'):\n",
    "    print(d['hello'])    # prints 'world'\n",
    "else:\n",
    "    print('default_value')\n",
    "\n",
    "    \n",
    "# Хорошо\n",
    "\n",
    "d = {'hello': 'world'}\n",
    "\n",
    "print(d.get('hello', 'default_value')) # prints 'world'\n",
    "print(d.get('thingy', 'default_value')) # prints 'default_value'\n",
    "\n",
    "# Or:\n",
    "if 'hello' in d:\n",
    "    print(d['hello'])"
   ]
  },
  {
   "cell_type": "markdown",
   "metadata": {
    "slideshow": {
     "slide_type": "slide"
    }
   },
   "source": [
    "# Манипуляции со списками"
   ]
  },
  {
   "cell_type": "code",
   "execution_count": null,
   "metadata": {
    "collapsed": true,
    "slideshow": {
     "slide_type": "-"
    }
   },
   "outputs": [],
   "source": [
    "# Плохо\n",
    "\n",
    "# Filter elements greater than 4\n",
    "a = [3, 4, 5]\n",
    "b = []\n",
    "for i in a:\n",
    "    if i > 4:\n",
    "        b.append(i)\n",
    "\n",
    "# Хорошо\n",
    "\n",
    "a = [3, 4, 5]\n",
    "b = [i for i in a if i > 4]\n",
    "# Or:\n",
    "b = filter(lambda x: x > 4, a)"
   ]
  },
  {
   "cell_type": "code",
   "execution_count": null,
   "metadata": {
    "collapsed": true,
    "slideshow": {
     "slide_type": "-"
    }
   },
   "outputs": [],
   "source": [
    "# Плохо\n",
    "\n",
    "# Add three to all list members.\n",
    "a = [3, 4, 5]\n",
    "for i in range(len(a)):\n",
    "    a[i] += 3\n",
    "\n",
    "# Хорошо\n",
    "a = [3, 4, 5]\n",
    "a = [i + 3 for i in a]\n",
    "# Or:\n",
    "a = map(lambda i: i + 3, a)"
   ]
  },
  {
   "cell_type": "markdown",
   "metadata": {
    "slideshow": {
     "slide_type": "slide"
    }
   },
   "source": [
    "# Форматирование строк"
   ]
  },
  {
   "cell_type": "code",
   "execution_count": null,
   "metadata": {
    "collapsed": true,
    "slideshow": {
     "slide_type": "-"
    }
   },
   "outputs": [],
   "source": [
    "person = dict(first='Tobin',age=0)\n",
    "\n",
    "# bad:\n",
    "print('{0} is {1} years old'.format(\n",
    "    person['first'],\n",
    "    person['age'])\n",
    ")\n",
    "\n",
    "# better:\n",
    "print('{first} is {age} years old'.format(**person))"
   ]
  },
  {
   "cell_type": "markdown",
   "metadata": {
    "slideshow": {
     "slide_type": "slide"
    }
   },
   "source": [
    "# Чтение из файла"
   ]
  },
  {
   "cell_type": "code",
   "execution_count": null,
   "metadata": {
    "collapsed": true,
    "slideshow": {
     "slide_type": "-"
    }
   },
   "outputs": [],
   "source": [
    "# Плохо\n",
    "\n",
    "f = open('file.txt')\n",
    "a = f.read()\n",
    "print(a)\n",
    "f.close()\n",
    "\n",
    "# Хорошо\n",
    "with open('file.txt') as f:\n",
    "    for line in f:\n",
    "        print(line)"
   ]
  }
 ],
 "metadata": {
  "anaconda-cloud": {},
  "celltoolbar": "Slideshow",
  "kernelspec": {
   "display_name": "Python [Root]",
   "language": "python",
   "name": "Python [Root]"
  },
  "language_info": {
   "codemirror_mode": {
    "name": "ipython",
    "version": 3
   },
   "file_extension": ".py",
   "mimetype": "text/x-python",
   "name": "python",
   "nbconvert_exporter": "python",
   "pygments_lexer": "ipython3",
   "version": "3.5.2"
  }
 },
 "nbformat": 4,
 "nbformat_minor": 2
}
