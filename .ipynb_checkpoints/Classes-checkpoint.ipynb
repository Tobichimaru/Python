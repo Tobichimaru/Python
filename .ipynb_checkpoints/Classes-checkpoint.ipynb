{
 "cells": [
  {
   "cell_type": "code",
   "execution_count": 2,
   "metadata": {
    "collapsed": false
   },
   "outputs": [
    {
     "data": {
      "text/plain": [
       "43"
      ]
     },
     "execution_count": 2,
     "metadata": {},
     "output_type": "execute_result"
    }
   ],
   "source": [
    "class Counter:\n",
    "    \"\"\"I count. This is all\"\"\"\n",
    "    def __init__(self, initial=0):\n",
    "        self.value = initial\n",
    "        \n",
    "    def increment(self):\n",
    "        self.value += 1\n",
    "        \n",
    "    def get(self): \n",
    "        return self.value\n",
    "    \n",
    "c = Counter(42)\n",
    "c.increment()\n",
    "c.get()"
   ]
  },
  {
   "cell_type": "markdown",
   "metadata": {},
   "source": [
    "* Нет ключевого слова **this**. Первый аргумент конструктора __init__ и всех остальных методов - это и есть экземпляр класса. Его принято называть **self**. \n",
    "* Синтаксис не запрещает называть экземпляр класса по-другому, но это не рекомендуется делать. \n",
    "* Python разделяет атрибуты класса и атрибуты экземпляра.\n",
    "* Атрибуты экземпляра добавляются с помощью присваивания к self.\n",
    "* Атрибуты класса добавляются в теле класса или прямым присваиванием к классу\n",
    "* В Python нет модификаторов доступа к трибутам и методам\n",
    "* Визуально публичные и внутренние атрибуты разделяют с помощью символа подчеркивания.\n",
    "\n",
    "* Все классы неявно наследуются от **object**"
   ]
  },
  {
   "cell_type": "code",
   "execution_count": 7,
   "metadata": {
    "collapsed": false
   },
   "outputs": [
    {
     "name": "stdout",
     "output_type": "stream",
     "text": [
      "I count. This is all\n",
      "Counter\n",
      "__main__\n",
      "(<class 'object'>,)\n",
      "<class 'type'>\n",
      "{'__doc__': 'I count. This is all', '__dict__': <attribute '__dict__' of 'Counter' objects>, '__weakref__': <attribute '__weakref__' of 'Counter' objects>, '__module__': '__main__', 'increment': <function Counter.increment at 0x105b71d08>, '__init__': <function Counter.__init__ at 0x105b71c80>, 'get': <function Counter.get at 0x105b71d90>}\n",
      "{'value': 0}\n"
     ]
    }
   ],
   "source": [
    "print(Counter.__doc__)\n",
    "print(Counter.__name__)\n",
    "print(Counter.__module__)\n",
    "print(Counter.__bases__)\n",
    "print(Counter.__class__)\n",
    "print(Counter.__dict__)\n",
    "print(Counter().__dict__)"
   ]
  },
  {
   "cell_type": "markdown",
   "metadata": {},
   "source": [
    "* Все атрибуты доступны в виде словаря\n",
    "* Добавление и изменение атрибутов - это фактически операция со словарем\n",
    "* Поиск значения атрибута происходит динамически в момент выполнения программы\n",
    "* Для доступа к словарю можно также использовать функцию  **vars**"
   ]
  },
  {
   "cell_type": "code",
   "execution_count": 8,
   "metadata": {
    "collapsed": false
   },
   "outputs": [
    {
     "data": {
      "text/plain": [
       "mappingproxy({'__doc__': 'I count. This is all', '__dict__': <attribute '__dict__' of 'Counter' objects>, '__weakref__': <attribute '__weakref__' of 'Counter' objects>, '__module__': '__main__', 'increment': <function Counter.increment at 0x105b71d08>, '__init__': <function Counter.__init__ at 0x105b71c80>, 'get': <function Counter.get at 0x105b71d90>})"
      ]
     },
     "execution_count": 8,
     "metadata": {},
     "output_type": "execute_result"
    }
   ],
   "source": [
    "vars(Counter)"
   ]
  },
  {
   "cell_type": "markdown",
   "metadata": {},
   "source": [
    "С помощью специального атрибута класса slots можно зафиксировать множество возможных атрибутов экземпляра"
   ]
  },
  {
   "cell_type": "code",
   "execution_count": 9,
   "metadata": {
    "collapsed": false
   },
   "outputs": [
    {
     "data": {
      "text/plain": [
       "42"
      ]
     },
     "execution_count": 9,
     "metadata": {},
     "output_type": "execute_result"
    }
   ],
   "source": [
    "class Noop:\n",
    "    __slots__ = [\"some_attr\"]\n",
    "    \n",
    "noop = Noop()\n",
    "noop.some_attr = 42\n",
    "noop.some_attr"
   ]
  },
  {
   "cell_type": "code",
   "execution_count": 10,
   "metadata": {
    "collapsed": false
   },
   "outputs": [
    {
     "ename": "AttributeError",
     "evalue": "'Noop' object has no attribute 'some_other_attr'",
     "output_type": "error",
     "traceback": [
      "\u001b[0;31m---------------------------------------------------------------------------\u001b[0m",
      "\u001b[0;31mAttributeError\u001b[0m                            Traceback (most recent call last)",
      "\u001b[0;32m<ipython-input-10-7b663cc13cb2>\u001b[0m in \u001b[0;36m<module>\u001b[0;34m()\u001b[0m\n\u001b[0;32m----> 1\u001b[0;31m \u001b[0mnoop\u001b[0m\u001b[0;34m.\u001b[0m\u001b[0msome_other_attr\u001b[0m\u001b[0;34m\u001b[0m\u001b[0m\n\u001b[0m",
      "\u001b[0;31mAttributeError\u001b[0m: 'Noop' object has no attribute 'some_other_attr'"
     ]
    }
   ],
   "source": [
    "noop.some_other_attr"
   ]
  },
  {
   "cell_type": "code",
   "execution_count": 11,
   "metadata": {
    "collapsed": false
   },
   "outputs": [
    {
     "ename": "AttributeError",
     "evalue": "'Noop' object has no attribute '__dict__'",
     "output_type": "error",
     "traceback": [
      "\u001b[0;31m---------------------------------------------------------------------------\u001b[0m",
      "\u001b[0;31mAttributeError\u001b[0m                            Traceback (most recent call last)",
      "\u001b[0;32m<ipython-input-11-8c32212a7411>\u001b[0m in \u001b[0;36m<module>\u001b[0;34m()\u001b[0m\n\u001b[0;32m----> 1\u001b[0;31m \u001b[0mnoop\u001b[0m\u001b[0;34m.\u001b[0m\u001b[0m__dict__\u001b[0m\u001b[0;34m\u001b[0m\u001b[0m\n\u001b[0m",
      "\u001b[0;31mAttributeError\u001b[0m: 'Noop' object has no attribute '__dict__'"
     ]
    }
   ],
   "source": [
    "noop.__dict__"
   ]
  },
  {
   "cell_type": "markdown",
   "metadata": {},
   "source": [
    "* У связанного метода первый аргумент уже зафиксирован и равен соотв. экземпляру\n",
    "* У несвязанного метода необходимо передать экземпляр первым аргументов в момент вызова"
   ]
  },
  {
   "cell_type": "code",
   "execution_count": 13,
   "metadata": {
    "collapsed": false
   },
   "outputs": [
    {
     "name": "stdout",
     "output_type": "stream",
     "text": [
      "<bound method SomeClass.do_smth of <__main__.SomeClass object at 0x105b7fd30>>\n",
      "Do smth\n"
     ]
    }
   ],
   "source": [
    "class SomeClass:\n",
    "    def do_smth(self):\n",
    "        print('Do smth')\n",
    "        \n",
    "print(SomeClass().do_smth)\n",
    "SomeClass().do_smth()"
   ]
  },
  {
   "cell_type": "code",
   "execution_count": 15,
   "metadata": {
    "collapsed": false
   },
   "outputs": [
    {
     "name": "stdout",
     "output_type": "stream",
     "text": [
      "<function SomeClass.do_smth at 0x105b71488>\n",
      "Do smth\n"
     ]
    }
   ],
   "source": [
    "print(SomeClass.do_smth)\n",
    "instance = SomeClass()\n",
    "SomeClass.do_smth(instance)"
   ]
  },
  {
   "cell_type": "markdown",
   "metadata": {},
   "source": [
    "* Механизм свойств позволяет объявлять атрибуты, значение которых вычисляется в момент обращения"
   ]
  },
  {
   "cell_type": "code",
   "execution_count": 21,
   "metadata": {
    "collapsed": false
   },
   "outputs": [
    {
     "name": "stdout",
     "output_type": "stream",
     "text": [
      "Path(..)\n"
     ]
    }
   ],
   "source": [
    "from os.path import dirname\n",
    "\n",
    "class Path:\n",
    "    def __init__(self, current):\n",
    "        self.current = current\n",
    "        \n",
    "    def __repr__(self):\n",
    "        return \"Path({})\".format(self.current)\n",
    "    \n",
    "    @property\n",
    "    def parent(self):\n",
    "        return Path(dirname(self.current))\n",
    "    \n",
    "    \n",
    "p = Path(\"../..\")\n",
    "print(p.parent)"
   ]
  },
  {
   "cell_type": "code",
   "execution_count": 24,
   "metadata": {
    "collapsed": false
   },
   "outputs": [
    {
     "name": "stdout",
     "output_type": "stream",
     "text": [
      "[0.1, 0.5, 0.4]\n"
     ]
    },
    {
     "ename": "AssertionError",
     "evalue": "",
     "output_type": "error",
     "traceback": [
      "\u001b[0;31m---------------------------------------------------------------------------\u001b[0m",
      "\u001b[0;31mAssertionError\u001b[0m                            Traceback (most recent call last)",
      "\u001b[0;32m<ipython-input-24-9437a21427de>\u001b[0m in \u001b[0;36m<module>\u001b[0;34m()\u001b[0m\n\u001b[1;32m     19\u001b[0m \u001b[0mmodel\u001b[0m\u001b[0;34m.\u001b[0m\u001b[0mparams\u001b[0m \u001b[0;34m=\u001b[0m \u001b[0;34m[\u001b[0m\u001b[0;36m0.1\u001b[0m\u001b[0;34m,\u001b[0m \u001b[0;36m0.5\u001b[0m\u001b[0;34m,\u001b[0m \u001b[0;36m0.4\u001b[0m\u001b[0;34m]\u001b[0m\u001b[0;34m\u001b[0m\u001b[0m\n\u001b[1;32m     20\u001b[0m \u001b[0mprint\u001b[0m\u001b[0;34m(\u001b[0m\u001b[0mmodel\u001b[0m\u001b[0;34m.\u001b[0m\u001b[0mparams\u001b[0m\u001b[0;34m)\u001b[0m\u001b[0;34m\u001b[0m\u001b[0m\n\u001b[0;32m---> 21\u001b[0;31m \u001b[0mmodel\u001b[0m\u001b[0;34m.\u001b[0m\u001b[0mparams\u001b[0m \u001b[0;34m=\u001b[0m \u001b[0;34m[\u001b[0m\u001b[0;36m0.1\u001b[0m\u001b[0;34m,\u001b[0m \u001b[0;36m0.5\u001b[0m\u001b[0;34m,\u001b[0m \u001b[0;36m0.4\u001b[0m\u001b[0;34m,\u001b[0m \u001b[0;34m-\u001b[0m\u001b[0;36m3\u001b[0m\u001b[0;34m]\u001b[0m\u001b[0;34m\u001b[0m\u001b[0m\n\u001b[0m",
      "\u001b[0;32m<ipython-input-24-9437a21427de>\u001b[0m in \u001b[0;36mparams\u001b[0;34m(self, new_params)\u001b[0m\n\u001b[1;32m      9\u001b[0m     \u001b[0;34m@\u001b[0m\u001b[0mparams\u001b[0m\u001b[0;34m.\u001b[0m\u001b[0msetter\u001b[0m\u001b[0;34m\u001b[0m\u001b[0m\n\u001b[1;32m     10\u001b[0m     \u001b[0;32mdef\u001b[0m \u001b[0mparams\u001b[0m\u001b[0;34m(\u001b[0m\u001b[0mself\u001b[0m\u001b[0;34m,\u001b[0m \u001b[0mnew_params\u001b[0m\u001b[0;34m)\u001b[0m\u001b[0;34m:\u001b[0m\u001b[0;34m\u001b[0m\u001b[0m\n\u001b[0;32m---> 11\u001b[0;31m         \u001b[0;32massert\u001b[0m \u001b[0mall\u001b[0m\u001b[0;34m(\u001b[0m\u001b[0mmap\u001b[0m\u001b[0;34m(\u001b[0m\u001b[0;32mlambda\u001b[0m \u001b[0mp\u001b[0m\u001b[0;34m:\u001b[0m \u001b[0mp\u001b[0m \u001b[0;34m>\u001b[0m \u001b[0;36m0\u001b[0m\u001b[0;34m,\u001b[0m \u001b[0mnew_params\u001b[0m\u001b[0;34m)\u001b[0m\u001b[0;34m)\u001b[0m\u001b[0;34m\u001b[0m\u001b[0m\n\u001b[0m\u001b[1;32m     12\u001b[0m         \u001b[0mself\u001b[0m\u001b[0;34m.\u001b[0m\u001b[0m_params\u001b[0m \u001b[0;34m=\u001b[0m \u001b[0mnew_params\u001b[0m\u001b[0;34m\u001b[0m\u001b[0m\n\u001b[1;32m     13\u001b[0m \u001b[0;34m\u001b[0m\u001b[0m\n",
      "\u001b[0;31mAssertionError\u001b[0m: "
     ]
    }
   ],
   "source": [
    "class BigDataModel:\n",
    "    def __init__(self):\n",
    "        self._params = []\n",
    "        \n",
    "    @property\n",
    "    def params(self):\n",
    "        return self._params\n",
    "    \n",
    "    @params.setter\n",
    "    def params(self, new_params):\n",
    "        assert all(map(lambda p: p > 0, new_params))\n",
    "        self._params = new_params\n",
    "        \n",
    "    @params.deleter\n",
    "    def params(self):\n",
    "        del self._params\n",
    "        \n",
    "model = BigDataModel()\n",
    "model.params = [0.1, 0.5, 0.4]\n",
    "print(model.params)\n",
    "model.params = [0.1, 0.5, 0.4, -3]"
   ]
  },
  {
   "cell_type": "markdown",
   "metadata": {},
   "source": [
    "###  Наследование"
   ]
  },
  {
   "cell_type": "markdown",
   "metadata": {},
   "source": [
    "* Синтаксис оператора class позволяет унаследовать объявляемый класс от произвольного количества других классов\n",
    "* Поиск имени при обращении к атрибуту или методу ведется сначала в dict экземпляра, затем в классе, затем рекурсивно по иеархии наследования\n",
    "* **super** -- базовый класс\n",
    "* **isinstance** -- принимает объект и класс, проверяет, что объект является экземпляром класса. В качестве агрумента можно передать кортеж классов\n",
    "* **issubclass** -- принимает два класса, проверяет, что первый класс является потомком второго. В качестве второго аргумента можно также передать кортеж\n"
   ]
  },
  {
   "cell_type": "code",
   "execution_count": 25,
   "metadata": {
    "collapsed": false
   },
   "outputs": [
    {
     "name": "stdout",
     "output_type": "stream",
     "text": [
      "A.f\n"
     ]
    }
   ],
   "source": [
    "class A:\n",
    "    def f(self):\n",
    "        print('A.f')\n",
    "        \n",
    "class B:\n",
    "    def f(self):\n",
    "        print('B.f')\n",
    "        \n",
    "class C(A, B):\n",
    "    pass\n",
    "\n",
    "C().f()"
   ]
  },
  {
   "cell_type": "markdown",
   "metadata": {},
   "source": [
    "Алгоритм C3 - алгоритм линеаризации для определения метода, который нужно вызвать в случае множественного наследования.\n",
    "* Получить линеаризацию иеархии наследования можно с помощью метода **mro**"
   ]
  },
  {
   "cell_type": "code",
   "execution_count": 26,
   "metadata": {
    "collapsed": false
   },
   "outputs": [
    {
     "data": {
      "text/plain": [
       "[__main__.C, __main__.A, __main__.B, object]"
      ]
     },
     "execution_count": 26,
     "metadata": {},
     "output_type": "execute_result"
    }
   ],
   "source": [
    "C.mro()"
   ]
  },
  {
   "cell_type": "markdown",
   "metadata": {},
   "source": [
    "* Классы-примеси позволяют выборочно модифицировать поведение класса в предположении, что класс реализует некоторый интерфейс"
   ]
  },
  {
   "cell_type": "markdown",
   "metadata": {},
   "source": [
    "* Синтаксис декораторов работает не только для функций, но и для классов. В этом случае декоратор -- это функция, которая принимает класс и возвращает другой, возможно, преобразованный, класс.\n",
    "* Декораторы классов можно также использовать вместо чуть более магических классов-примесей. "
   ]
  },
  {
   "cell_type": "code",
   "execution_count": 33,
   "metadata": {
    "collapsed": false
   },
   "outputs": [
    {
     "name": "stdout",
     "output_type": "stream",
     "text": [
      "4391605864\n",
      "4391605864\n"
     ]
    }
   ],
   "source": [
    "import functools\n",
    "\n",
    "def singleton(cls):\n",
    "    instance = None\n",
    "    \n",
    "    @functools.wraps(cls)\n",
    "    def inner(*args, **kwargs):\n",
    "        nonlocal instance\n",
    "        if instance is None:\n",
    "            instance = cls(*args, **kwargs)\n",
    "        return instance\n",
    "    \n",
    "    return inner\n",
    "\n",
    "@singleton\n",
    "class Noop:\n",
    "    \"\"\"I do nothing\"\"\"\n",
    "    \n",
    "print(id(Noop()))\n",
    "print(id(Noop()))"
   ]
  },
  {
   "cell_type": "markdown",
   "metadata": {},
   "source": [
    "### Magic methods\n",
    "* getattr, setattr, delattr\n",
    "* Паттерн Bunch()\n",
    "* functools.total_ordering -- позволяет перегрузить только 2 magic methods для сравнения (eq, lt)\n",
    "* call -- перегрузка вызова (скобочки)\n",
    "* repr, str -- преобразовать в строку\n",
    "* format -- изменяет спецификацию формата\n",
    "* hash -- хеш функция\n",
    "* bool -- проверка для проверки значения на истинность, например, в условии оператора if. "
   ]
  },
  {
   "cell_type": "code",
   "execution_count": null,
   "metadata": {
    "collapsed": true
   },
   "outputs": [],
   "source": []
  }
 ],
 "metadata": {
  "anaconda-cloud": {},
  "kernelspec": {
   "display_name": "Python [Root]",
   "language": "python",
   "name": "Python [Root]"
  },
  "language_info": {
   "codemirror_mode": {
    "name": "ipython",
    "version": 3
   },
   "file_extension": ".py",
   "mimetype": "text/x-python",
   "name": "python",
   "nbconvert_exporter": "python",
   "pygments_lexer": "ipython3",
   "version": "3.5.2"
  }
 },
 "nbformat": 4,
 "nbformat_minor": 0
}
