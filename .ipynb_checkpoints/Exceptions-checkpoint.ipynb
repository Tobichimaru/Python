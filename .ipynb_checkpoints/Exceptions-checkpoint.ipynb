{
 "cells": [
  {
   "cell_type": "markdown",
   "metadata": {
    "collapsed": true
   },
   "source": [
    "# Обработка ошибок.\n",
    "```\n",
    "Вообще распространённых способов обрабатывать ошибки есть 3:\n",
    "1) коды возврата\n",
    "2) exceptions \n",
    "3) установка флагов ошибки\n",
    "Питон идёт по пути использования exception-ов. \n",
    "Все Exceptions в py3 должны наследоваться от BaseException.\n",
    "\n",
    "```\n",
    "[Более подробная дока](https://docs.python.org/3/library/exceptions.html)\n",
    "\n",
    "\n",
    "* Для обработки исключений используются операторы try и except\n",
    "* Ветка except принимает два аргумента\n",
    "    * выражение, возвращающее тип или кортеж типов\n",
    "    * опциональное имя для перехваченного исключения\n",
    "* Исключение обрабатывается веткой except если её первый аргумент expr можно сопоставить с исключением isinstance(e, expr) \n",
    "* При наличии нескольких веток except интерпретатор сверху вниз ищет подходящую "
   ]
  },
  {
   "cell_type": "markdown",
   "metadata": {},
   "source": [
    "Иерархия\n",
    "```\n",
    "BaseException\n",
    " +-- SystemExit\n",
    " +-- KeyboardInterrupt\n",
    " +-- GeneratorExit\n",
    " +-- Exception\n",
    "      +-- StopIteration\n",
    "      +-- StopAsyncIteration\n",
    "      +-- ArithmeticError\n",
    "      |    +-- FloatingPointError\n",
    "      |    +-- OverflowError\n",
    "      |    +-- ZeroDivisionError\n",
    "      +-- AssertionError\n",
    "      +-- AttributeError\n",
    "      +-- BufferError\n",
    "      +-- EOFError\n",
    "      +-- ImportError\n",
    "           +-- ModuleNotFoundError\n",
    "      +-- LookupError\n",
    "      |    +-- IndexError\n",
    "      |    +-- KeyError\n",
    "      +-- MemoryError\n",
    "      +-- NameError\n",
    "      |    +-- UnboundLocalError\n",
    "      +-- OSError\n",
    "      |    +-- BlockingIOError\n",
    "      |    +-- ChildProcessError\n",
    "      |    +-- ConnectionError\n",
    "      |    |    +-- BrokenPipeError\n",
    "      |    |    +-- ConnectionAbortedError\n",
    "      |    |    +-- ConnectionRefusedError\n",
    "      |    |    +-- ConnectionResetError\n",
    "      |    +-- FileExistsError\n",
    "      |    +-- FileNotFoundError\n",
    "      |    +-- InterruptedError\n",
    "      |    +-- IsADirectoryError\n",
    "      |    +-- NotADirectoryError\n",
    "      |    +-- PermissionError\n",
    "      |    +-- ProcessLookupError\n",
    "      |    +-- TimeoutError\n",
    "      +-- ReferenceError\n",
    "      +-- RuntimeError\n",
    "      |    +-- NotImplementedError\n",
    "      |    +-- RecursionError\n",
    "      +-- SyntaxError\n",
    "      |    +-- IndentationError\n",
    "      |         +-- TabError\n",
    "      +-- SystemError\n",
    "      +-- TypeError\n",
    "      +-- ValueError\n",
    "      |    +-- UnicodeError\n",
    "      |         +-- UnicodeDecodeError\n",
    "      |         +-- UnicodeEncodeError\n",
    "      |         +-- UnicodeTranslateError\n",
    "      +-- Warning\n",
    "           +-- DeprecationWarning\n",
    "           +-- PendingDeprecationWarning\n",
    "           +-- RuntimeWarning\n",
    "           +-- SyntaxWarning\n",
    "           +-- UserWarning\n",
    "           +-- FutureWarning\n",
    "           +-- ImportWarning\n",
    "           +-- UnicodeWarning\n",
    "           +-- BytesWarning\n",
    "           +-- ResourceWarning\n",
    "```"
   ]
  },
  {
   "cell_type": "markdown",
   "metadata": {},
   "source": [
    "Общий синтаксис: \n",
    "```python\n",
    "try: \n",
    "    raise Exception(\"Throw me!\") # бросаем исключение\n",
    "except Exception as e: \n",
    "    # здесь мы словим все ошибки у которых тип Exception или производный от него и сохраняем в локальную переменную\n",
    "    print(e)\n",
    "except (ValueError,TypeError) as e: \n",
    "    # словили бы TypeError или ValueError если бы они не были наследниками Exception которое мы как бы уже поймали раньше\n",
    "    pass\n",
    "except Warning:\n",
    "    # тут мы словим исключение но в переменную не сохраним\n",
    "    raise # и бросим это же исключение дальше\n",
    "    pass\n",
    "except: \n",
    "   #ловим вообще всё\n",
    "   pass \n",
    "else: \n",
    "    # сюда мы попадём если исключение не случилось\n",
    "    pass \n",
    "finally: \n",
    "    # сюда попадаем в любом случае, было исключение не было, обработали или выбросили новое, но finally должен быть вызван\n",
    "    pass\n",
    "```"
   ]
  },
  {
   "cell_type": "code",
   "execution_count": 3,
   "metadata": {
    "collapsed": false
   },
   "outputs": [
    {
     "ename": "SyntaxError",
     "evalue": "invalid syntax (<ipython-input-3-2a8131167556>, line 10)",
     "output_type": "error",
     "traceback": [
      "\u001b[0;36m  File \u001b[0;32m\"<ipython-input-3-2a8131167556>\"\u001b[0;36m, line \u001b[0;32m10\u001b[0m\n\u001b[0;31m    else:\u001b[0m\n\u001b[0m       ^\u001b[0m\n\u001b[0;31mSyntaxError\u001b[0m\u001b[0;31m:\u001b[0m invalid syntax\n"
     ]
    }
   ],
   "source": [
    "# порядок важен\n",
    "try: \n",
    "    10/0\n",
    "except ZeroDivisionError: \n",
    "    print(10)\n",
    "except TypeError as type_error:\n",
    "    i = type_error\n",
    "finally: \n",
    "    print(1)\n",
    "else: \n",
    "    print(2) "
   ]
  },
  {
   "cell_type": "code",
   "execution_count": 4,
   "metadata": {
    "collapsed": false
   },
   "outputs": [
    {
     "name": "stdout",
     "output_type": "stream",
     "text": [
      "10\n",
      "1\n"
     ]
    }
   ],
   "source": [
    "try: \n",
    "    10/0\n",
    "except ZeroDivisionError: \n",
    "    print(10)\n",
    "except TypeError as type_error:\n",
    "    i = type_error\n",
    "finally: \n",
    "    print(1)    "
   ]
  },
  {
   "cell_type": "markdown",
   "metadata": {
    "collapsed": true
   },
   "source": [
    "**raise from**"
   ]
  },
  {
   "cell_type": "code",
   "execution_count": null,
   "metadata": {
    "collapsed": true
   },
   "outputs": [],
   "source": []
  }
 ],
 "metadata": {
  "kernelspec": {
   "display_name": "Python [Root]",
   "language": "python",
   "name": "Python [Root]"
  },
  "language_info": {
   "codemirror_mode": {
    "name": "ipython",
    "version": 3
   },
   "file_extension": ".py",
   "mimetype": "text/x-python",
   "name": "python",
   "nbconvert_exporter": "python",
   "pygments_lexer": "ipython3",
   "version": "3.5.2"
  }
 },
 "nbformat": 4,
 "nbformat_minor": 0
}
