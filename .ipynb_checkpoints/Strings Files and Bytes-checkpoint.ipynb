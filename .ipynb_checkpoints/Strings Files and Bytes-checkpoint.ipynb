{
 "cells": [
  {
   "cell_type": "markdown",
   "metadata": {},
   "source": [
    "# Строки\n",
    "* Для объявления строки можно использовать двойные или одинарные кавычки\n",
    "* Для многострочных блоков текста используют тройные кавычки\n",
    "* Подряд идущие строковые литералы “склеиваются”"
   ]
  },
  {
   "cell_type": "code",
   "execution_count": 1,
   "metadata": {
    "collapsed": false
   },
   "outputs": [
    {
     "data": {
      "text/plain": [
       "'foobar'"
      ]
     },
     "execution_count": 1,
     "metadata": {},
     "output_type": "execute_result"
    }
   ],
   "source": [
    "'foo' 'bar'"
   ]
  },
  {
   "cell_type": "markdown",
   "metadata": {},
   "source": [
    "Строковые литералы могут содержать экранированные последовательности, например:\n",
    "* \\' одинарная кавычка,\n",
    "* \\\" двойная кавычка,\n",
    "* \\t символ вертикальной табуляции, \\n символ переноса строки,\n",
    "* \\xhh символ с HEX кодом hh.\n",
    "\n",
    "В “сырых” строковых литералах экранированные последовательности не обрабатываются."
   ]
  },
  {
   "cell_type": "code",
   "execution_count": 3,
   "metadata": {
    "collapsed": false
   },
   "outputs": [
    {
     "name": "stdout",
     "output_type": "stream",
     "text": [
      "\tell me\n",
      "tell me\n"
     ]
    }
   ],
   "source": [
    "print('\\tell me')\n",
    "print(r'tell me')"
   ]
  },
  {
   "cell_type": "markdown",
   "metadata": {},
   "source": [
    "Юникод — стандарт кодирования текста на разных языках.\n",
    "* В стандарте версии 8.0 содержится более 120 000 символов.\n",
    "* Фактически Юникод — это отображение, сопоставляющее символу уникальный номер.\n",
    "* Как закодировать всё это множество символов байтами?\n",
    "    * Unicode Transformation Format,по N бит на каждый символ: UTF-8, UTF-16, UTF-32.\n",
    "    * Universal Character Set, по N байт на каждый символ: UCS-2, UCS-4.\n",
    "* Если кодировка использует более одного байта, то закодированный текст может также содержать BOM — маркер последовательности байтов, U+FEFF."
   ]
  },
  {
   "cell_type": "markdown",
   "metadata": {},
   "source": [
    "* Тип str — неизменяемая последовательность символов Юникод\n",
    "* Отдельного типа для символов в Python нет: каждый символ строки — тоже строка"
   ]
  },
  {
   "cell_type": "code",
   "execution_count": 4,
   "metadata": {
    "collapsed": false
   },
   "outputs": [
    {
     "data": {
      "text/plain": [
       "['о', 'г', 'о', ',', ' ', 'с', 'т', 'р', 'о', 'к', 'а']"
      ]
     },
     "execution_count": 4,
     "metadata": {},
     "output_type": "execute_result"
    }
   ],
   "source": [
    "s = 'ого, строка'\n",
    "list(s)"
   ]
  },
  {
   "cell_type": "code",
   "execution_count": 5,
   "metadata": {
    "collapsed": false
   },
   "outputs": [
    {
     "data": {
      "text/plain": [
       "('о', str)"
      ]
     },
     "execution_count": 5,
     "metadata": {},
     "output_type": "execute_result"
    }
   ],
   "source": [
    "s[0], type(s[0])"
   ]
  },
  {
   "cell_type": "markdown",
   "metadata": {},
   "source": [
    "Как строки представляются в памяти?\n",
    "\n",
    "Начиная с версии 3.3 в Python был реализован PEP-3934, который описывает механизм адаптивного представления строк.\n",
    "* Если строка состоит из символов ASCII,то она хранится в кодировке UCS-1, то есть каждый символ представляется одним байтом.\n",
    "* Если максимальный код символа в строке меньше 216,то используется UCS-2.\n",
    "* Иначеи спользуется UCS-4,кодирующая каждый символ четырьмя байтами."
   ]
  },
  {
   "cell_type": "code",
   "execution_count": 8,
   "metadata": {
    "collapsed": false
   },
   "outputs": [
    {
     "data": {
      "text/plain": [
       "[104, 101, 108, 108, 111]"
      ]
     },
     "execution_count": 8,
     "metadata": {},
     "output_type": "execute_result"
    }
   ],
   "source": [
    "list(map(ord, 'hello')) #UCS-1"
   ]
  },
  {
   "cell_type": "code",
   "execution_count": 9,
   "metadata": {
    "collapsed": false
   },
   "outputs": [
    {
     "data": {
      "text/plain": [
       "[1087, 1088, 1080, 1074, 1077, 1090]"
      ]
     },
     "execution_count": 9,
     "metadata": {},
     "output_type": "execute_result"
    }
   ],
   "source": [
    "list(map(ord, 'привет')) #UCS-2"
   ]
  },
  {
   "cell_type": "code",
   "execution_count": 12,
   "metadata": {
    "collapsed": false
   },
   "outputs": [
    {
     "data": {
      "text/plain": [
       "127000"
      ]
     },
     "execution_count": 12,
     "metadata": {},
     "output_type": "execute_result"
    }
   ],
   "source": [
    "ord(\"🀘\") #UCS-4 почти"
   ]
  },
  {
   "cell_type": "markdown",
   "metadata": {},
   "source": [
    "Python поддерживает экранированные последовательности для символов Юникода:"
   ]
  },
  {
   "cell_type": "code",
   "execution_count": 13,
   "metadata": {
    "collapsed": false
   },
   "outputs": [
    {
     "data": {
      "text/plain": [
       "('h', 'h')"
      ]
     },
     "execution_count": 13,
     "metadata": {},
     "output_type": "execute_result"
    }
   ],
   "source": [
    "\"\\u0068\", \"\\U00000068\""
   ]
  },
  {
   "cell_type": "code",
   "execution_count": 14,
   "metadata": {
    "collapsed": false
   },
   "outputs": [
    {
     "data": {
      "text/plain": [
       "'🀱'"
      ]
     },
     "execution_count": 14,
     "metadata": {},
     "output_type": "execute_result"
    }
   ],
   "source": [
    "\"\\N{DOMINO TILE HORIZONTAL-00-00}\""
   ]
  },
  {
   "cell_type": "markdown",
   "metadata": {},
   "source": [
    "Получить символ Юникода по его коду можно с помощью функции chr:\n"
   ]
  },
  {
   "cell_type": "code",
   "execution_count": 15,
   "metadata": {
    "collapsed": false
   },
   "outputs": [
    {
     "name": "stdout",
     "output_type": "stream",
     "text": [
      "h\n",
      "п\n"
     ]
    }
   ],
   "source": [
    "print(chr(0x68))\n",
    "print(chr(1087))"
   ]
  },
  {
   "cell_type": "code",
   "execution_count": 16,
   "metadata": {
    "collapsed": false
   },
   "outputs": [
    {
     "data": {
      "text/plain": [
       "'п'"
      ]
     },
     "execution_count": 16,
     "metadata": {},
     "output_type": "execute_result"
    }
   ],
   "source": [
    "def identity(ch):\n",
    "    return chr(ord(ch))\n",
    "\n",
    "identity('п')"
   ]
  },
  {
   "cell_type": "markdown",
   "metadata": {},
   "source": [
    "Модификаторы регистра"
   ]
  },
  {
   "cell_type": "code",
   "execution_count": 17,
   "metadata": {
    "collapsed": false
   },
   "outputs": [
    {
     "name": "stdout",
     "output_type": "stream",
     "text": [
      "Foo bar\n",
      "Foo\n",
      "FOO\n",
      "foo\n",
      "fOO\n"
     ]
    }
   ],
   "source": [
    "print('foo bar'.capitalize())\n",
    "print('foo'.title())\n",
    "print('foo'.upper())\n",
    "print('foo'.lower())\n",
    "print('foo'.title().swapcase())"
   ]
  },
  {
   "cell_type": "markdown",
   "metadata": {},
   "source": [
    "Группа методов, выравнивающих строку в “блоке” фиксированной длины. При этом дополнительные позиции заполняются указанным символом:\n",
    "* Если длина “блока” меньше длины строки, то строка возвращается без изменений."
   ]
  },
  {
   "cell_type": "code",
   "execution_count": 20,
   "metadata": {
    "collapsed": false
   },
   "outputs": [
    {
     "name": "stdout",
     "output_type": "stream",
     "text": [
      "foo bar~~~~~~~~~\n",
      "~~~~~~~~~foo bar\n",
      "~~~~foo bar~~~~~\n",
      "foo bar         \n",
      "         foo bar\n",
      "    foo bar     \n"
     ]
    }
   ],
   "source": [
    "print(\"foo bar\".ljust(16, '~'))\n",
    "print(\"foo bar\".rjust(16, '~'))\n",
    "print(\"foo bar\".center(16, '~'))\n",
    "\n",
    "print(\"foo bar\".ljust(16))\n",
    "print(\"foo bar\".rjust(16))\n",
    "print(\"foo bar\".center(16))"
   ]
  },
  {
   "cell_type": "markdown",
   "metadata": {},
   "source": [
    "Группа методов, заканчивающихся на strip, удаляет все вхождения указанных символов слева, справа или с обоих концов строки:\n",
    "\n",
    "* По умолчанию удаляются все пробелы"
   ]
  },
  {
   "cell_type": "code",
   "execution_count": 23,
   "metadata": {
    "collapsed": false
   },
   "outputs": [
    {
     "name": "stdout",
     "output_type": "stream",
     "text": [
      "foo bar<<[\n",
      "]>>foo bar<<[\n",
      "foo bar\n",
      "foo bar\n"
     ]
    }
   ],
   "source": [
    "print(\"]>>foo bar<<[\".lstrip(\"]>\"))\n",
    "print(\"]>>foo bar<<[\".rstrip(\"]>\"))\n",
    "print(\"]>>foo bar<<[\".strip(\"[]<>\"))\n",
    "\n",
    "print(\"\\t foo bar \\r\\n \".strip())"
   ]
  },
  {
   "cell_type": "markdown",
   "metadata": {},
   "source": [
    "Метод split разделяет строку на подстроки по указанному разделителю:\n",
    "* Если разделитель не указан, то строка разделяется по пробелам."
   ]
  },
  {
   "cell_type": "code",
   "execution_count": 28,
   "metadata": {
    "collapsed": false
   },
   "outputs": [
    {
     "name": "stdout",
     "output_type": "stream",
     "text": [
      "['foo', 'bar']\n",
      "['foo', '', '', 'bar']\n",
      "['foo', 'bar']\n",
      "['foo', 'tar.gz']\n",
      "['foo.tar', 'gz']\n"
     ]
    }
   ],
   "source": [
    "print(\"foo,bar\".split(\",\"))\n",
    "print(\"foo,,,bar\".split(\",\"))\n",
    "print(\"\\t foo bar \\r\\n \".split())\n",
    "print('foo.tar.gz'.split('.', 1))\n",
    "print('foo.tar.gz'.rsplit('.', 1))"
   ]
  },
  {
   "cell_type": "markdown",
   "metadata": {},
   "source": [
    "Метод partition возвращает кортеж из трёх элементов: подстрока до вхождения разделителя, сам разделитель и подстрока после вхождения разделителя."
   ]
  },
  {
   "cell_type": "code",
   "execution_count": 30,
   "metadata": {
    "collapsed": false
   },
   "outputs": [
    {
     "name": "stdout",
     "output_type": "stream",
     "text": [
      "('foo', ',', 'bar,baz')\n",
      "('foo,bar', ',', 'baz')\n",
      "('foo', '.', 'tar.gz')\n"
     ]
    }
   ],
   "source": [
    "print(\"foo,bar,baz\".partition(\",\"))\n",
    "print( \"foo,bar,baz\".rpartition(\",\"))\n",
    "print('foo.tar.gz'.partition('.'))"
   ]
  },
  {
   "cell_type": "markdown",
   "metadata": {},
   "source": [
    "С помощью метода join можно соединить любую последовательность строк:"
   ]
  },
  {
   "cell_type": "code",
   "execution_count": 26,
   "metadata": {
    "collapsed": false
   },
   "outputs": [
    {
     "name": "stdout",
     "output_type": "stream",
     "text": [
      "foo, bar, baz\n",
      "foo\n",
      "b, a, r\n"
     ]
    }
   ],
   "source": [
    "print(\", \".join([\"foo\", \"bar\", \"baz\"]))\n",
    "print(\", \".join(filter(None, [\"\", \"foo\"])))\n",
    "print(\", \".join(\"bar\"))"
   ]
  },
  {
   "cell_type": "markdown",
   "metadata": {},
   "source": [
    "Eсли последовательность содержит объекты другого типа, будет ошибка"
   ]
  },
  {
   "cell_type": "code",
   "execution_count": 31,
   "metadata": {
    "collapsed": false
   },
   "outputs": [
    {
     "ename": "TypeError",
     "evalue": "sequence item 0: expected str instance, int found",
     "output_type": "error",
     "traceback": [
      "\u001b[0;31m---------------------------------------------------------------------------\u001b[0m",
      "\u001b[0;31mTypeError\u001b[0m                                 Traceback (most recent call last)",
      "\u001b[0;32m<ipython-input-31-d09ccedeeda6>\u001b[0m in \u001b[0;36m<module>\u001b[0;34m()\u001b[0m\n\u001b[0;32m----> 1\u001b[0;31m \u001b[0;34m\", \"\u001b[0m\u001b[0;34m.\u001b[0m\u001b[0mjoin\u001b[0m\u001b[0;34m(\u001b[0m\u001b[0mrange\u001b[0m\u001b[0;34m(\u001b[0m\u001b[0;36m10\u001b[0m\u001b[0;34m)\u001b[0m\u001b[0;34m)\u001b[0m\u001b[0;34m\u001b[0m\u001b[0m\n\u001b[0m",
      "\u001b[0;31mTypeError\u001b[0m: sequence item 0: expected str instance, int found"
     ]
    }
   ],
   "source": [
    " \", \".join(range(10))"
   ]
  },
  {
   "cell_type": "markdown",
   "metadata": {},
   "source": [
    "Вхождение подстроки идиоматично проверять с помощью операторов in и not in:"
   ]
  },
  {
   "cell_type": "code",
   "execution_count": 32,
   "metadata": {
    "collapsed": false
   },
   "outputs": [
    {
     "name": "stdout",
     "output_type": "stream",
     "text": [
      "True\n",
      "False\n"
     ]
    }
   ],
   "source": [
    "print(\"foo\" in \"foobar\")\n",
    "print(\"foo\" not in \"foobar\")"
   ]
  },
  {
   "cell_type": "markdown",
   "metadata": {},
   "source": [
    "Также можно сравнивать префикс или суффикс строки с одной или несколькими строками:"
   ]
  },
  {
   "cell_type": "code",
   "execution_count": 33,
   "metadata": {
    "collapsed": false
   },
   "outputs": [
    {
     "name": "stdout",
     "output_type": "stream",
     "text": [
      "True\n",
      "True\n"
     ]
    }
   ],
   "source": [
    "print(\"foobar\".startswith(\"foo\"))\n",
    "print(\"foobar\".endswith((\"boo\", \"bar\")))"
   ]
  },
  {
   "cell_type": "markdown",
   "metadata": {},
   "source": [
    "Найти место первого вхождения подстроки можно с помощью метода find:"
   ]
  },
  {
   "cell_type": "code",
   "execution_count": 34,
   "metadata": {
    "collapsed": false
   },
   "outputs": [
    {
     "name": "stdout",
     "output_type": "stream",
     "text": [
      "2\n",
      "-1\n"
     ]
    }
   ],
   "source": [
    "print(\"abracadabra\".find(\"ra\"))\n",
    "print(\"abracadabra\".find(\"ra\", 0, 3))"
   ]
  },
  {
   "cell_type": "markdown",
   "metadata": {},
   "source": [
    "Метод index аналогичен find, но, если искомая подстрока не найдена, он поднимает исключение:"
   ]
  },
  {
   "cell_type": "code",
   "execution_count": 35,
   "metadata": {
    "collapsed": false
   },
   "outputs": [
    {
     "ename": "ValueError",
     "evalue": "substring not found",
     "output_type": "error",
     "traceback": [
      "\u001b[0;31m---------------------------------------------------------------------------\u001b[0m",
      "\u001b[0;31mValueError\u001b[0m                                Traceback (most recent call last)",
      "\u001b[0;32m<ipython-input-35-01bb3bc97d22>\u001b[0m in \u001b[0;36m<module>\u001b[0;34m()\u001b[0m\n\u001b[0;32m----> 1\u001b[0;31m \u001b[0;34m\"abracadabra\"\u001b[0m\u001b[0;34m.\u001b[0m\u001b[0mindex\u001b[0m\u001b[0;34m(\u001b[0m\u001b[0;34m\"ra\"\u001b[0m\u001b[0;34m,\u001b[0m \u001b[0;36m0\u001b[0m\u001b[0;34m,\u001b[0m \u001b[0;36m3\u001b[0m\u001b[0;34m)\u001b[0m\u001b[0;34m\u001b[0m\u001b[0m\n\u001b[0m",
      "\u001b[0;31mValueError\u001b[0m: substring not found"
     ]
    }
   ],
   "source": [
    "\"abracadabra\".index(\"ra\", 0, 3)"
   ]
  },
  {
   "cell_type": "markdown",
   "metadata": {},
   "source": [
    " Для поиска места последнего вхождения подстроки можно воспользоваться методами rfind и rindex.\n",
    " \n",
    " Метод replace заменяет вхождения подстроки на заданную строку, по умолчанию — все:"
   ]
  },
  {
   "cell_type": "code",
   "execution_count": 36,
   "metadata": {
    "collapsed": false
   },
   "outputs": [
    {
     "name": "stdout",
     "output_type": "stream",
     "text": [
      "ab**cadab**\n",
      "ab**cadabra\n"
     ]
    }
   ],
   "source": [
    "print(\"abracadabra\".replace(\"ra\", \"**\"))\n",
    "print(\"abracadabra\".replace(\"ra\", \"**\", 1))"
   ]
  },
  {
   "cell_type": "markdown",
   "metadata": {},
   "source": [
    "Для множественной замены символов удобно использовать метод translate, который принимает словарь трансляции."
   ]
  },
  {
   "cell_type": "code",
   "execution_count": 39,
   "metadata": {
    "collapsed": false
   },
   "outputs": [
    {
     "data": {
      "text/plain": [
       "'*?r*c*d*?r*'"
      ]
     },
     "execution_count": 39,
     "metadata": {},
     "output_type": "execute_result"
    }
   ],
   "source": [
    "translation_map = {ord(\"a\"): \"*\", ord(\"b\"): \"?\"}\n",
    "\"abracadabra\".translate(translation_map)"
   ]
  },
  {
   "cell_type": "markdown",
   "metadata": {},
   "source": [
    "Методы-предикаты позволяют проверить строку на соответствие некоторому формату, например:"
   ]
  },
  {
   "cell_type": "code",
   "execution_count": 40,
   "metadata": {
    "collapsed": false
   },
   "outputs": [
    {
     "name": "stdout",
     "output_type": "stream",
     "text": [
      "True\n",
      "True\n",
      "True\n",
      "True\n",
      "True\n",
      "True\n",
      "True\n"
     ]
    }
   ],
   "source": [
    "print(\"100500\".isdigit())\n",
    "print(\"foo100500\".isalnum())\n",
    "print(\"foobar\".isalpha())\n",
    "\n",
    "print(\"foobar\".islower())\n",
    "print(\"FOOBAR\".isupper())\n",
    "print( \"Foo Bar\".istitle())\n",
    "print(\"\\r \\n\\t \\r\\n\".isspace())"
   ]
  },
  {
   "cell_type": "markdown",
   "metadata": {},
   "source": [
    "В Python есть два способа форматирования строк. Первый, который мы рассмотрим, использует метод format:\n",
    "* {} обозначает место, в которое будет подставлен позиционный аргумент.\n",
    "* Внутри {} можно опционально указать способ преобразования объекта в строку и спецификацию формата."
   ]
  },
  {
   "cell_type": "code",
   "execution_count": 41,
   "metadata": {
    "collapsed": false
   },
   "outputs": [
    {
     "name": "stdout",
     "output_type": "stream",
     "text": [
      "Hello, Sally, how are you?\n",
      "Today is October, 8th.\n"
     ]
    }
   ],
   "source": [
    "print(\"{}, {}, how are you?\".format(\"Hello\", \"Sally\"))\n",
    "print(\"Today is October, {}th.\".format(8))"
   ]
  },
  {
   "cell_type": "markdown",
   "metadata": {},
   "source": [
    "В Python 3 есть три различных по смыслу способа преобразовать объект в строку:\n",
    "* **str** возвращает человекочитаемое представление объекта,\n",
    "* **repr** возвращает представление объекта,по которому можно однозначно восстановить его значение,\n",
    "* **ascii** аналогичен repr по смыслу,но возвращаемая строка состоит только из символов ASCII."
   ]
  },
  {
   "cell_type": "code",
   "execution_count": 42,
   "metadata": {
    "collapsed": false
   },
   "outputs": [
    {
     "name": "stdout",
     "output_type": "stream",
     "text": [
      "я строка\n",
      "'я строка'\n",
      "'\\u044f \\u0441\\u0442\\u0440\\u043e\\u043a\\u0430'\n"
     ]
    }
   ],
   "source": [
    "print( str(\"я строка\"))\n",
    "print(repr(\"я строка\"))\n",
    "print(ascii(\"я строка\"))"
   ]
  },
  {
   "cell_type": "markdown",
   "metadata": {},
   "source": [
    "Для преобразования объекта в строку используются первые буквы соответствующих функций:"
   ]
  },
  {
   "cell_type": "code",
   "execution_count": 43,
   "metadata": {
    "collapsed": false
   },
   "outputs": [
    {
     "name": "stdout",
     "output_type": "stream",
     "text": [
      "я строка\n",
      "'я строка'\n",
      "'\\u044f \\u0441\\u0442\\u0440\\u043e\\u043a\\u0430'\n"
     ]
    }
   ],
   "source": [
    "print(\"{!s}\".format(\"я строка\")) # str\n",
    "print(\"{!r}\".format(\"я строка\")) # repr\n",
    "print(\"{!a}\".format(\"я строка\")) # ascii"
   ]
  },
  {
   "cell_type": "markdown",
   "metadata": {},
   "source": [
    "Спецификация формата позволяет:\n",
    "* выровнять строку в “блоке” фиксированной длины\n",
    "* привести число к другой системе исчисления\n",
    "* потребовать наличие знака в строковом представлении числа и зафиксировать количество знаков до или после запятой."
   ]
  },
  {
   "cell_type": "code",
   "execution_count": 45,
   "metadata": {
    "collapsed": false
   },
   "outputs": [
    {
     "name": "stdout",
     "output_type": "stream",
     "text": [
      "~~~~foo bar~~~~~\n",
      "int: 42 hex: 2a\n",
      "oct: 52 bin: 101010\n",
      "-0042.42\n",
      "~~~'foo bar'~~~~\n"
     ]
    }
   ],
   "source": [
    "print(\"{:~^16}\".format(\"foo bar\"))\n",
    "print(\"int: {0:d} hex: {0:x}\".format(42))\n",
    "print(\"oct: {0:o} bin: {0:b}\".format(42))\n",
    "print(\"{:+08.2f}\".format(-42.42))\n",
    "print(\"{!r:~^16}\".format(\"foo bar\"))"
   ]
  },
  {
   "cell_type": "markdown",
   "metadata": {},
   "source": [
    "Внутри {} можно также явно указывать номер позиционного или имя ключевого аргумента:"
   ]
  },
  {
   "cell_type": "code",
   "execution_count": 46,
   "metadata": {
    "collapsed": false
   },
   "outputs": [
    {
     "name": "stdout",
     "output_type": "stream",
     "text": [
      "hello, kitty, hello\n",
      "hello, kitty, hello\n"
     ]
    }
   ],
   "source": [
    "print(\"{0}, {1}, {0}\".format(\"hello\", \"kitty\"))\n",
    "print(\"{0}, {who}, {0}\".format(\"hello\", who=\"kitty\"))"
   ]
  },
  {
   "cell_type": "markdown",
   "metadata": {},
   "source": [
    " Если один из аргументов — контейнер, то при форматировании можно обращаться к его элементам по индексу или ключу:"
   ]
  },
  {
   "cell_type": "code",
   "execution_count": 47,
   "metadata": {
    "collapsed": false
   },
   "outputs": [
    {
     "name": "stdout",
     "output_type": "stream",
     "text": [
      "x = 0, y = 10\n",
      "x = 0, y = 10\n"
     ]
    }
   ],
   "source": [
    "point = 0, 10\n",
    "print(\"x = {0[0]}, y = {0[1]}\".format(point))\n",
    "\n",
    "point = {\"x\": 0, \"y\": 10}\n",
    "print(\"x = {0[x]}, y = {0[y]}\".format(point))"
   ]
  },
  {
   "cell_type": "markdown",
   "metadata": {},
   "source": [
    "Ещё один способ форматирования строк в Python использует оператор % и внешне похож на printf:"
   ]
  },
  {
   "cell_type": "code",
   "execution_count": 48,
   "metadata": {
    "collapsed": false
   },
   "outputs": [
    {
     "name": "stdout",
     "output_type": "stream",
     "text": [
      "Hello, Sally, how are you?\n",
      "x = +0, y = +10\n"
     ]
    }
   ],
   "source": [
    "print( \"%s, %s, how are you?\" % (\"Hello\", \"Sally\"))\n",
    "print(\"x = %(x)+2d, y = %(y)+2d\" % point)"
   ]
  },
  {
   "cell_type": "markdown",
   "metadata": {},
   "source": [
    "Он менее выразителен и гибок, чем format:\n",
    "* % — бинарный оператор, справа от него может быть один аргумент: кортеж или словарь,\n",
    "* каждый элемент кортежа используется только один раз,\n",
    "* нет синтаксиса для обращения к элементам контейнера или атрибутам объекта,\n",
    "* не предусмотрена возможность расширения, например, если потребуется форматировать длинные числа с плавающей точкой, то синтаксис \"%8.2f\" для них работать не будет."
   ]
  },
  {
   "cell_type": "code",
   "execution_count": 52,
   "metadata": {
    "collapsed": false
   },
   "outputs": [
    {
     "name": "stdout",
     "output_type": "stream",
     "text": [
      "I'm a list with three arguments: [1, 2, 3]\n",
      "I'm a string with three characters: abc\n"
     ]
    },
    {
     "ename": "TypeError",
     "evalue": "not all arguments converted during string formatting",
     "output_type": "error",
     "traceback": [
      "\u001b[0;31m---------------------------------------------------------------------------\u001b[0m",
      "\u001b[0;31mTypeError\u001b[0m                                 Traceback (most recent call last)",
      "\u001b[0;32m<ipython-input-52-44bcd97dafdb>\u001b[0m in \u001b[0;36m<module>\u001b[0;34m()\u001b[0m\n\u001b[1;32m      1\u001b[0m \u001b[0mprint\u001b[0m\u001b[0;34m(\u001b[0m \u001b[0;34m\"I'm a list with three arguments: %s\"\u001b[0m \u001b[0;34m%\u001b[0m \u001b[0;34m[\u001b[0m\u001b[0;36m1\u001b[0m\u001b[0;34m,\u001b[0m \u001b[0;36m2\u001b[0m\u001b[0;34m,\u001b[0m \u001b[0;36m3\u001b[0m\u001b[0;34m]\u001b[0m\u001b[0;34m)\u001b[0m\u001b[0;34m\u001b[0m\u001b[0m\n\u001b[1;32m      2\u001b[0m \u001b[0mprint\u001b[0m\u001b[0;34m(\u001b[0m\u001b[0;34m\"I'm a string with three characters: %s\"\u001b[0m \u001b[0;34m%\u001b[0m \u001b[0;34m\"abc\"\u001b[0m\u001b[0;34m)\u001b[0m\u001b[0;34m\u001b[0m\u001b[0m\n\u001b[0;32m----> 3\u001b[0;31m \u001b[0mprint\u001b[0m\u001b[0;34m(\u001b[0m\u001b[0;34m\"I'm a tuple with three arguments: %s\"\u001b[0m \u001b[0;34m%\u001b[0m \u001b[0;34m(\u001b[0m\u001b[0;36m1\u001b[0m\u001b[0;34m,\u001b[0m \u001b[0;36m2\u001b[0m\u001b[0;34m,\u001b[0m \u001b[0;36m3\u001b[0m\u001b[0;34m)\u001b[0m\u001b[0;34m)\u001b[0m\u001b[0;34m\u001b[0m\u001b[0m\n\u001b[0m",
      "\u001b[0;31mTypeError\u001b[0m: not all arguments converted during string formatting"
     ]
    }
   ],
   "source": [
    "print( \"I'm a list with three arguments: %s\" % [1, 2, 3])\n",
    "print(\"I'm a string with three characters: %s\" % \"abc\")\n",
    "print(\"I'm a tuple with three arguments: %s\" % (1, 2, 3))"
   ]
  },
  {
   "cell_type": "markdown",
   "metadata": {},
   "source": [
    "В модуле string можно найти полезные при работе со строками константы:\n"
   ]
  },
  {
   "cell_type": "code",
   "execution_count": 54,
   "metadata": {
    "collapsed": false
   },
   "outputs": [
    {
     "name": "stdout",
     "output_type": "stream",
     "text": [
      "abcdefghijklmnopqrstuvwxyzABCDEFGHIJKLMNOPQRSTUVWXYZ\n",
      "0123456789\n",
      "!\"#$%&'()*+,-./:;<=>?@[\\]^_`{|}~\n",
      " \t\n",
      "\r",
      "\u000b",
      "\f",
      "\n"
     ]
    }
   ],
   "source": [
    "import string\n",
    "\n",
    "print(string.ascii_letters)\n",
    "print(string.digits)\n",
    "print(string.punctuation)\n",
    "print(string.whitespace)"
   ]
  },
  {
   "cell_type": "markdown",
   "metadata": {},
   "source": [
    "# Bytes"
   ]
  },
  {
   "cell_type": "markdown",
   "metadata": {},
   "source": [
    "Тип bytes — неизменяемая последовательность байтов.\n",
    "* Аналогично строковым литералам в Python есть литералы для байтов и “сырых” байтов\n",
    "* Байты и строки тесно связаны:\n",
    "    * строку можно закодировать последовательностью байтов\n",
    "    * и из последовательности байтов можно раскодировать строку\n",
    "* Напоминание: \"utf-8\" — одна из кодировок Юникода.\n",
    "* Кодировка специфицирует преобразование текстовой строки в последовательность байтов. Стандартная библиотека Python поддерживает более сотни кодировок."
   ]
  },
  {
   "cell_type": "code",
   "execution_count": 57,
   "metadata": {
    "collapsed": false
   },
   "outputs": [
    {
     "name": "stdout",
     "output_type": "stream",
     "text": [
      "b'\\x00\"\\x14\\x00'\n",
      "b'\\\\00\\\\42\\\\24\\\\00'\n",
      "b'\\xd1\\x8f \\xd1\\x81\\xd1\\x82\\xd1\\x80\\xd0\\xbe\\xd0\\xba\\xd0\\xb0'\n",
      "я строка\n",
      "b'\\xff \\xf1\\xf2\\xf0\\xee\\xea\\xe0'\n"
     ]
    }
   ],
   "source": [
    "print(b\"\\00\\42\\24\\00\")\n",
    "print(rb\"\\00\\42\\24\\00\")\n",
    "\n",
    "chunk = \"я строка\".encode(\"utf-8\")\n",
    "print(chunk)\n",
    "print(chunk.decode(\"utf-8\"))\n",
    "\n",
    "chunk = \"я строка\".encode(\"cp1251\")\n",
    "print(chunk)"
   ]
  },
  {
   "cell_type": "markdown",
   "metadata": {},
   "source": [
    "Что будет, если указать неверную кодировку?"
   ]
  },
  {
   "cell_type": "code",
   "execution_count": 58,
   "metadata": {
    "collapsed": false
   },
   "outputs": [
    {
     "ename": "UnicodeDecodeError",
     "evalue": "'utf-8' codec can't decode byte 0xff in position 0: invalid start byte",
     "output_type": "error",
     "traceback": [
      "\u001b[0;31m---------------------------------------------------------------------------\u001b[0m",
      "\u001b[0;31mUnicodeDecodeError\u001b[0m                        Traceback (most recent call last)",
      "\u001b[0;32m<ipython-input-58-04ef6d133512>\u001b[0m in \u001b[0;36m<module>\u001b[0;34m()\u001b[0m\n\u001b[0;32m----> 1\u001b[0;31m \u001b[0mchunk\u001b[0m\u001b[0;34m.\u001b[0m\u001b[0mdecode\u001b[0m\u001b[0;34m(\u001b[0m\u001b[0;34m\"utf-8\"\u001b[0m\u001b[0;34m)\u001b[0m\u001b[0;34m\u001b[0m\u001b[0m\n\u001b[0m",
      "\u001b[0;31mUnicodeDecodeError\u001b[0m: 'utf-8' codec can't decode byte 0xff in position 0: invalid start byte"
     ]
    }
   ],
   "source": [
    "chunk.decode(\"utf-8\")"
   ]
  },
  {
   "cell_type": "markdown",
   "metadata": {},
   "source": [
    "Методы encode и decode принимают опциональный аргумент, контролирующий логику обработки ошибок:\n",
    "* \"strict\" — ошибочные символы поднимают исключение,\n",
    "* \"ignore\" — ошибочные символы пропускаются,\n",
    "* \"replace\" — ошибочные символы заменяются на \"\\ufffd\".\n"
   ]
  },
  {
   "cell_type": "code",
   "execution_count": 60,
   "metadata": {
    "collapsed": false
   },
   "outputs": [
    {
     "name": "stdout",
     "output_type": "stream",
     "text": [
      " \n",
      "� ������\n"
     ]
    }
   ],
   "source": [
    "chunk = \"я строка\".encode(\"cp1251\")\n",
    "print(chunk.decode(\"utf-8\", \"ignore\"))\n",
    "print(chunk.decode(\"utf-8\", \"replace\"))"
   ]
  },
  {
   "cell_type": "markdown",
   "metadata": {},
   "source": [
    "Если не указывать кодировку, то Python будет использовать системную кодировку по умолчанию:"
   ]
  },
  {
   "cell_type": "code",
   "execution_count": 61,
   "metadata": {
    "collapsed": false
   },
   "outputs": [
    {
     "data": {
      "text/plain": [
       "'utf-8'"
      ]
     },
     "execution_count": 61,
     "metadata": {},
     "output_type": "execute_result"
    }
   ],
   "source": [
    "import sys\n",
    "sys.getdefaultencoding()"
   ]
  },
  {
   "cell_type": "markdown",
   "metadata": {},
   "source": [
    "Байты поддерживают большинство операций, специфичных для строк, за исключением:\n",
    "* метода encode, кодирующего строку в байты,\n",
    "* метода format, форматирующего строку для вывода,\n",
    "* некоторых предикатов, о которых мы не говорили.\n",
    "\n",
    "Также стоит помнить, что тип bytes соответствутет последовательности байтов, а не символов, то есть:"
   ]
  },
  {
   "cell_type": "code",
   "execution_count": 62,
   "metadata": {
    "collapsed": false
   },
   "outputs": [
    {
     "ename": "TypeError",
     "evalue": "a bytes-like object is required, not 'str'",
     "output_type": "error",
     "traceback": [
      "\u001b[0;31m---------------------------------------------------------------------------\u001b[0m",
      "\u001b[0;31mTypeError\u001b[0m                                 Traceback (most recent call last)",
      "\u001b[0;32m<ipython-input-62-e596d2c97053>\u001b[0m in \u001b[0;36m<module>\u001b[0;34m()\u001b[0m\n\u001b[0;32m----> 1\u001b[0;31m \u001b[0;34m\"boo\"\u001b[0m \u001b[0;32min\u001b[0m \u001b[0;34mb\"foobar\"\u001b[0m\u001b[0;34m\u001b[0m\u001b[0m\n\u001b[0m",
      "\u001b[0;31mTypeError\u001b[0m: a bytes-like object is required, not 'str'"
     ]
    }
   ],
   "source": [
    "\"boo\" in b\"foobar\""
   ]
  },
  {
   "cell_type": "code",
   "execution_count": 63,
   "metadata": {
    "collapsed": false
   },
   "outputs": [
    {
     "ename": "TypeError",
     "evalue": "a bytes-like object is required, not 'str'",
     "output_type": "error",
     "traceback": [
      "\u001b[0;31m---------------------------------------------------------------------------\u001b[0m",
      "\u001b[0;31mTypeError\u001b[0m                                 Traceback (most recent call last)",
      "\u001b[0;32m<ipython-input-63-e5e516d49fbb>\u001b[0m in \u001b[0;36m<module>\u001b[0;34m()\u001b[0m\n\u001b[0;32m----> 1\u001b[0;31m \u001b[0;34mb\"foobar\"\u001b[0m\u001b[0;34m.\u001b[0m\u001b[0mreplace\u001b[0m\u001b[0;34m(\u001b[0m\u001b[0;34m\"o\"\u001b[0m\u001b[0;34m,\u001b[0m \u001b[0;34m\"\"\u001b[0m\u001b[0;34m)\u001b[0m\u001b[0;34m\u001b[0m\u001b[0m\n\u001b[0m",
      "\u001b[0;31mTypeError\u001b[0m: a bytes-like object is required, not 'str'"
     ]
    }
   ],
   "source": [
    "b\"foobar\".replace(\"o\", \"\")"
   ]
  },
  {
   "cell_type": "markdown",
   "metadata": {},
   "source": [
    "# Файлы и ввод/вывод\n",
    "* Текстовые и бинарные файлы в Python — это две большие разницы.\n",
    "* Создать объект типа файл можно с помощью функции open, которая принимает один обязательный аргумент — путь к файлу:"
   ]
  },
  {
   "cell_type": "code",
   "execution_count": 64,
   "metadata": {
    "collapsed": false
   },
   "outputs": [
    {
     "ename": "FileNotFoundError",
     "evalue": "[Errno 2] No such file or directory: './1.txt'",
     "output_type": "error",
     "traceback": [
      "\u001b[0;31m---------------------------------------------------------------------------\u001b[0m",
      "\u001b[0;31mFileNotFoundError\u001b[0m                         Traceback (most recent call last)",
      "\u001b[0;32m<ipython-input-64-d00d2fad85ec>\u001b[0m in \u001b[0;36m<module>\u001b[0;34m()\u001b[0m\n\u001b[0;32m----> 1\u001b[0;31m \u001b[0mopen\u001b[0m\u001b[0;34m(\u001b[0m\u001b[0;34m\"./1.txt\"\u001b[0m\u001b[0;34m)\u001b[0m\u001b[0;34m\u001b[0m\u001b[0m\n\u001b[0m",
      "\u001b[0;31mFileNotFoundError\u001b[0m: [Errno 2] No such file or directory: './1.txt'"
     ]
    }
   ],
   "source": [
    "open(\"./1.txt\")"
   ]
  },
  {
   "cell_type": "markdown",
   "metadata": {},
   "source": [
    "Аргументов у функции open довольно много, нас будут интересовать:\n",
    "* mode—определяет, в каком режиме будет открыт файл, возможные значения:\n",
    "    * \"r\",\"w\",\"x\",\"a\",\"+\", \n",
    "    * \"b\",\"t\".\n",
    "* для текстовых файлов можно также указать encoding и errors.\n",
    "\n",
    "Открыть бинарный файл для чтения и записи:"
   ]
  },
  {
   "cell_type": "code",
   "execution_count": null,
   "metadata": {
    "collapsed": true
   },
   "outputs": [],
   "source": [
    "# Открыть бинарный файл для чтения и записи:\n",
    "open(\"./csc.db\", \"r+b\")\n",
    "\n",
    "#Открыть текстовый в файл в кодировке \"cp1251\" для добавления, игнорируя ошибки кодирования:\n",
    "open(\"./admin.log\", \"a\", encoding=\"cp1251\", errors=\"ignore\")\n",
    "\n",
    "# Создать новый текстовый файл в системной кодировке и открыть его для записи\n",
    "open(\"./lecture4.tex\", \"x\")"
   ]
  },
  {
   "cell_type": "markdown",
   "metadata": {},
   "source": [
    "Метод read читает не более, чем n символов из файла:"
   ]
  },
  {
   "cell_type": "code",
   "execution_count": null,
   "metadata": {
    "collapsed": true
   },
   "outputs": [],
   "source": [
    "handle = open(\"./HBA1.txt\")\n",
    "handle.read(16)"
   ]
  },
  {
   "cell_type": "markdown",
   "metadata": {},
   "source": [
    "Методы readline и readlines читают одну или все строчки соотвественно. Можно указать максимальное количество символов, которые надо прочитать:"
   ]
  },
  {
   "cell_type": "code",
   "execution_count": null,
   "metadata": {
    "collapsed": true
   },
   "outputs": [],
   "source": [
    "handle = open(\"./HBA1.txt\")\n",
    "print(len(handle.readline()))\n",
    "print(handle.readline(16))\n",
    "print(handle.readlines(16))"
   ]
  },
  {
   "cell_type": "markdown",
   "metadata": {},
   "source": [
    "Метод write записывает строку в файл:"
   ]
  },
  {
   "cell_type": "code",
   "execution_count": null,
   "metadata": {
    "collapsed": true
   },
   "outputs": [],
   "source": [
    "handle = open(\"./example.txt\", \"w\")\n",
    "handle.write(\"abracadabra\")"
   ]
  },
  {
   "cell_type": "markdown",
   "metadata": {},
   "source": [
    "Неявного добавления символа окончания строки при этом не происходит.\n",
    "\n",
    "Записать последовательность строк можно с помощью метода writelines:"
   ]
  },
  {
   "cell_type": "code",
   "execution_count": null,
   "metadata": {
    "collapsed": true
   },
   "outputs": [],
   "source": [
    "handle.writelines([\"foo\", \"bar\"])\n",
    "handle = open(\"./example.txt\", \"r+\")\n",
    "handle.fileno()\n",
    "handle.tell()\n",
    "handle.seek(8)\n",
    "handle.tell()\n",
    "handle.write(\"something unimportant\")\n",
    "handle.flush()\n",
    "handle.close()"
   ]
  },
  {
   "cell_type": "markdown",
   "metadata": {},
   "source": [
    "Интерпретатор Python предоставляет три текстовых файла, называемых стандартными потоками ввода/вывода: sys.stdin, sys.stdout и sys.stderr.\n",
    "\n",
    "Для чтения sys.stdin используют функцию input:"
   ]
  },
  {
   "cell_type": "code",
   "execution_count": 66,
   "metadata": {
    "collapsed": false
   },
   "outputs": [
    {
     "name": "stdout",
     "output_type": "stream",
     "text": [
      "Name: kate\n"
     ]
    },
    {
     "data": {
      "text/plain": [
       "'kate'"
      ]
     },
     "execution_count": 66,
     "metadata": {},
     "output_type": "execute_result"
    }
   ],
   "source": [
    "input(\"Name: \")"
   ]
  },
  {
   "cell_type": "markdown",
   "metadata": {},
   "source": [
    "Для записи в sys.stdout или sys.stderr — функцию print:"
   ]
  },
  {
   "cell_type": "code",
   "execution_count": 67,
   "metadata": {
    "collapsed": false
   },
   "outputs": [
    {
     "name": "stdout",
     "output_type": "stream",
     "text": [
      "Hello, `sys.stdout`!\n"
     ]
    },
    {
     "name": "stderr",
     "output_type": "stream",
     "text": [
      "Hello, `sys.stderr`!\n"
     ]
    }
   ],
   "source": [
    "print(\"Hello, `sys.stdout`!\", file=sys.stdout)\n",
    "print(\"Hello, `sys.stderr`!\", file=sys.stderr)"
   ]
  },
  {
   "cell_type": "markdown",
   "metadata": {},
   "source": [
    "Функция print позволяет\n",
    "* изменять разделитель между аругументами\n",
    "* указывать последовательность, которой заканчивается вывод\n",
    "* форсировать вызов flush у файла, в который осуществляется вывод"
   ]
  },
  {
   "cell_type": "code",
   "execution_count": 68,
   "metadata": {
    "collapsed": false
   },
   "outputs": [
    {
     "name": "stdout",
     "output_type": "stream",
     "text": [
      "0 1 2 3\n",
      "0_1_2_3\n",
      "0 1 2 3\n",
      "--\n"
     ]
    }
   ],
   "source": [
    "print(*range(4))\n",
    "print(*range(4), sep=\"_\")\n",
    "print(*range(4), end=\"\\n--\\n\")"
   ]
  },
  {
   "cell_type": "code",
   "execution_count": null,
   "metadata": {
    "collapsed": true
   },
   "outputs": [],
   "source": [
    "handle = open(\"./example.txt\", \"w\")\n",
    "print(*range(4), file=handle, flush=True)"
   ]
  },
  {
   "cell_type": "markdown",
   "metadata": {},
   "source": [
    "В модуле io реализованы базовые классы для работы с текстовыми и бинарными данными.\n",
    "\n",
    "Класс io.StringIO позволяет получить файловый объект из строки, а io.BytesIO из байтов:"
   ]
  },
  {
   "cell_type": "code",
   "execution_count": 70,
   "metadata": {
    "collapsed": false
   },
   "outputs": [
    {
     "name": "stdout",
     "output_type": "stream",
     "text": [
      "foo\n",
      "\n",
      "foo\n",
      "boo\n"
     ]
    }
   ],
   "source": [
    "import io\n",
    "handle = io.StringIO(\"foo\\n\\bar\")\n",
    "print(handle.readline())\n",
    "\n",
    "\n",
    "handle.write(\"boo\")\n",
    "print(handle.getvalue())"
   ]
  },
  {
   "cell_type": "markdown",
   "metadata": {},
   "source": [
    "Аналогичный пример для io.BytesIO:"
   ]
  },
  {
   "cell_type": "code",
   "execution_count": 71,
   "metadata": {
    "collapsed": false
   },
   "outputs": [
    {
     "name": "stdout",
     "output_type": "stream",
     "text": [
      "b'foo'\n",
      "b'foobar'\n"
     ]
    }
   ],
   "source": [
    "handle = io.BytesIO(b\"foobar\")\n",
    "print(handle.read(3))\n",
    "print(handle.getvalue())"
   ]
  },
  {
   "cell_type": "code",
   "execution_count": null,
   "metadata": {
    "collapsed": true
   },
   "outputs": [],
   "source": []
  }
 ],
 "metadata": {
  "kernelspec": {
   "display_name": "Python [Root]",
   "language": "python",
   "name": "Python [Root]"
  },
  "language_info": {
   "codemirror_mode": {
    "name": "ipython",
    "version": 3
   },
   "file_extension": ".py",
   "mimetype": "text/x-python",
   "name": "python",
   "nbconvert_exporter": "python",
   "pygments_lexer": "ipython3",
   "version": "3.5.2"
  }
 },
 "nbformat": 4,
 "nbformat_minor": 0
}
