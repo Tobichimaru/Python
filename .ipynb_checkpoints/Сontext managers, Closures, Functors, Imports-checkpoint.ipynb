{
 "cells": [
  {
   "cell_type": "markdown",
   "metadata": {},
   "source": [
    "* Менеджеры контекста позволяют компактно управлять ресурсами"
   ]
  },
  {
   "cell_type": "code",
   "execution_count": null,
   "metadata": {
    "collapsed": true
   },
   "outputs": [],
   "source": [
    "with acquaire_resource() as r:\n",
    "    do_smth(r)\n",
    "    \n",
    "    \n",
    "#это эквивалентно\n",
    "r = acquaire_resource()\n",
    "try: \n",
    "    do_smth(r)\n",
    "finally:\n",
    "    release_resource()"
   ]
  },
  {
   "cell_type": "markdown",
   "metadata": {},
   "source": [
    "* метод __enter__ инициализирует контекст\n",
    "* метод __exit__ вызывается после выполнения тела оператора with"
   ]
  },
  {
   "cell_type": "markdown",
   "metadata": {},
   "source": [
    "* модуль tempfile, syncronized, contextlib"
   ]
  },
  {
   "cell_type": "code",
   "execution_count": null,
   "metadata": {
    "collapsed": true
   },
   "outputs": [],
   "source": []
  }
 ],
 "metadata": {
  "anaconda-cloud": {},
  "kernelspec": {
   "display_name": "Python [Root]",
   "language": "python",
   "name": "Python [Root]"
  },
  "language_info": {
   "codemirror_mode": {
    "name": "ipython",
    "version": 3
   },
   "file_extension": ".py",
   "mimetype": "text/x-python",
   "name": "python",
   "nbconvert_exporter": "python",
   "pygments_lexer": "ipython3",
   "version": "3.5.2"
  }
 },
 "nbformat": 4,
 "nbformat_minor": 0
}
