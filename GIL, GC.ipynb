{
 "cells": [
  {
   "cell_type": "markdown",
   "metadata": {},
   "source": [
    "# Dive into Python: GIL and GC"
   ]
  },
  {
   "cell_type": "markdown",
   "metadata": {},
   "source": [
    "## Эксперимент с CPU-bound функцией"
   ]
  },
  {
   "cell_type": "code",
   "execution_count": 1,
   "metadata": {
    "collapsed": true
   },
   "outputs": [],
   "source": [
    "def factorize_naive(n):\n",
    "    \"\"\" A naive factorization method. Take integer 'n', return list of\n",
    "        factors.\n",
    "    \"\"\"\n",
    "    if n < 2:\n",
    "        return []\n",
    "    factors = []\n",
    "    p = 2\n",
    "\n",
    "    while True:\n",
    "        if n == 1:\n",
    "            return factors\n",
    "\n",
    "        r = n % p\n",
    "        if r == 0:\n",
    "            factors.append(p)\n",
    "            n = n / p\n",
    "        elif p * p >= n:\n",
    "            factors.append(n)\n",
    "            return factors\n",
    "        elif p > 2:\n",
    "            # Advance in steps of 2 over odd numbers\n",
    "            p += 2\n",
    "        else:\n",
    "            # If p == 2, get to 3\n",
    "            p += 1\n",
    "    assert False, \"unreachable\""
   ]
  },
  {
   "cell_type": "code",
   "execution_count": 2,
   "metadata": {
    "collapsed": true
   },
   "outputs": [],
   "source": [
    "def serial_factorizer(count):\n",
    "    return {n: factorize_naive(n) for n in range(1, count + 1)}"
   ]
  },
  {
   "cell_type": "code",
   "execution_count": 3,
   "metadata": {
    "collapsed": false
   },
   "outputs": [
    {
     "name": "stdout",
     "output_type": "stream",
     "text": [
      "CPU times: user 1min 22s, sys: 168 ms, total: 1min 22s\n",
      "Wall time: 1min 22s\n"
     ]
    }
   ],
   "source": [
    "%time results = serial_factorizer(2000000)"
   ]
  },
  {
   "cell_type": "code",
   "execution_count": 4,
   "metadata": {
    "collapsed": true
   },
   "outputs": [],
   "source": [
    "import threading\n",
    "import math\n",
    "\n",
    "def threaded_factorizer(count, nthreads):\n",
    "    def worker(nums, outdict):\n",
    "        \"\"\" The worker function, invoked in a thread. 'nums' is a\n",
    "            list of numbers to factor. The results are placed in\n",
    "            outdict.\n",
    "        \"\"\"\n",
    "        for n in nums:\n",
    "            outdict[n] = factorize_naive(n)\n",
    "\n",
    "    # Each thread will get 'chunksize' nums and its own output dict\n",
    "    chunksize = int(math.ceil(count / float(nthreads)))\n",
    "    threads = []\n",
    "    outs = [{} for i in range(nthreads)]\n",
    "\n",
    "    for i in range(nthreads):\n",
    "        # Create each thread, passing it its chunk of numbers to factor\n",
    "        # and output dict.\n",
    "        t = threading.Thread(\n",
    "                target=worker,\n",
    "                args=(range(chunksize * i + 1, chunksize * (i + 1) + 1),\n",
    "                      outs[i]))\n",
    "        threads.append(t)\n",
    "        t.start()\n",
    "\n",
    "    # Wait for all threads to finish\n",
    "    for t in threads:\n",
    "        t.join()\n",
    "\n",
    "    # Merge all partial output dicts into a single dict and return it\n",
    "    return {k: v for out_d in outs for k, v in out_d.items()}"
   ]
  },
  {
   "cell_type": "code",
   "execution_count": 5,
   "metadata": {
    "collapsed": false
   },
   "outputs": [
    {
     "name": "stdout",
     "output_type": "stream",
     "text": [
      "CPU times: user 1min 24s, sys: 424 ms, total: 1min 25s\n",
      "Wall time: 1min 25s\n"
     ]
    }
   ],
   "source": [
    "%time results = threaded_factorizer(2000000, 2)"
   ]
  },
  {
   "cell_type": "code",
   "execution_count": 6,
   "metadata": {
    "collapsed": false
   },
   "outputs": [
    {
     "name": "stdout",
     "output_type": "stream",
     "text": [
      "CPU times: user 1min 27s, sys: 544 ms, total: 1min 28s\n",
      "Wall time: 1min 28s\n"
     ]
    }
   ],
   "source": [
    "%time results = threaded_factorizer(2000000, 4)"
   ]
  },
  {
   "cell_type": "code",
   "execution_count": 7,
   "metadata": {
    "collapsed": false
   },
   "outputs": [
    {
     "name": "stdout",
     "output_type": "stream",
     "text": [
      "CPU times: user 1min 23s, sys: 636 ms, total: 1min 24s\n",
      "Wall time: 1min 23s\n"
     ]
    }
   ],
   "source": [
    "%time results = threaded_factorizer(2000000, 8)"
   ]
  },
  {
   "cell_type": "markdown",
   "metadata": {},
   "source": [
    "## Python threads"
   ]
  },
  {
   "cell_type": "markdown",
   "metadata": {},
   "source": [
    "* Потоки в Python это реальные потоки в операционной системе\n",
    "    * POSIX threads (pthreads)\n",
    "    * Windows threads\n",
    "* Управляются операционной системой\n",
    "* Представляют собой исполнение потока выполнения кода в процессе интерпретатора (кода на C)"
   ]
  },
  {
   "cell_type": "markdown",
   "metadata": {},
   "source": [
    "# GIL"
   ]
  },
  {
   "cell_type": "markdown",
   "metadata": {},
   "source": [
    "* Параллельное исполнение потоков запрещено\n",
    "* Используется сущность \"global interpreter lock\" (GIL) - \"глобальный лок интерпретатора\"\n",
    "* GIL обеспечивает, что в любой момент времени есть не более одного исполняющегося потока\n",
    "* Сильно упрощает код самого интерпретатора (управление памятью, вызов C-extensions и т.д.)"
   ]
  },
  {
   "cell_type": "markdown",
   "metadata": {},
   "source": [
    "## Модель исполнения потоков"
   ]
  },
  {
   "cell_type": "markdown",
   "metadata": {},
   "source": [
    "* Когда поток исполняется, он захватывает GIL\n",
    "* GIL отпускает на I/O операциях (read/write/send/recv и т.д.)\n",
    "* C GIL получается cooperative multitasking\n",
    "\n",
    "<img src=\"https://i.imgur.com/EPXn5sz.png\">"
   ]
  },
  {
   "cell_type": "markdown",
   "metadata": {},
   "source": [
    "## Thread scheduling в \"старом\" GIL"
   ]
  },
  {
   "cell_type": "markdown",
   "metadata": {},
   "source": [
    "Каждые N тиков (выполнения N инструкций виртуальной машины Python) каждый исполняющийся поток делал:\n",
    "* Посылал сигнал спящим потокам\n",
    "* Отпускал GIL\n",
    "* Пытался получить GIL\n",
    "\n",
    "<img src=\"https://i.imgur.com/GXU4eCX.png\">"
   ]
  },
  {
   "cell_type": "markdown",
   "metadata": {},
   "source": [
    "\n",
    "## \"Драка\" за GIL"
   ]
  },
  {
   "cell_type": "markdown",
   "metadata": {},
   "source": [
    "* На многоядерных процессорах, CPU-bound потоки шедулятся ОС одновременно на разные ядра и начинают \"драться за GIL\"\n",
    "\n",
    "<img src=\"https://i.imgur.com/GYD8V0q.png\">"
   ]
  },
  {
   "cell_type": "markdown",
   "metadata": {},
   "source": [
    "* Может занять пару сотен попыток для потока получить GIL\n",
    "\n",
    "<img src=\"https://i.imgur.com/B8iTN92.png\">"
   ]
  },
  {
   "cell_type": "markdown",
   "metadata": {},
   "source": [
    "## \"Новый\" GIL (c версии 3.2)\n",
    "\n",
    "* GIL никуда не исчез - была улучшена его реализация\n",
    "* Новая реализация стремилась получить более консистентное поведения потоков в рантайме интерпретатора за счет сокращения накладных расходов таких \"драк\""
   ]
  },
  {
   "cell_type": "markdown",
   "metadata": {},
   "source": [
    "* Прошлая версия была основана на подсчете тиков, т.е. выполненных инструкций, и посылании сигналов на пробуждение спящим потокам каждые N тиков, чтобы у них появилась возможность захватить лок.\n",
    "* В новой версии никаких тиков нет и применяется time-based подход."
   ]
  },
  {
   "cell_type": "markdown",
   "metadata": {},
   "source": [
    "* Решение провести switch исполняющегося потока привязано к глобальной переменной\n",
    "```\n",
    "/* Python/ceval.c */\n",
    "...\n",
    "static volatile int gil_drop_request = 0;\n",
    "```\n",
    "* Поток исполняется \"вечно\" до того момента, пока эта переменная не установлена в 1.\n",
    "* В этот момент поток должен отпустить GIL."
   ]
  },
  {
   "cell_type": "markdown",
   "metadata": {},
   "source": [
    "# Случай одного потока\n",
    "\n",
    "<img src=\"https://i.imgur.com/eW5Vayb.png\">\n",
    "\n",
    "Он исполняется вечно и никогда не отпускает GIL."
   ]
  },
  {
   "cell_type": "markdown",
   "metadata": {},
   "source": [
    "# Случай двух потоков\n",
    "\n",
    "<img src=\"https://i.imgur.com/dPepqSZ.png\">\n",
    "\n",
    "* Легкий случай: второй поток будет ждать того момента, пока первый поток добровольно отпустит GIL, к примеру, если первому потоку нужно будет произвести I/O-операцию или \"заснуть\" на некоторое время."
   ]
  },
  {
   "cell_type": "markdown",
   "metadata": {},
   "source": [
    "<img src=\"https://i.imgur.com/ZBRxbwe.png\">\n",
    "\n",
    "* Сложный случай: поток 2 ждет некоторого таймаута, после которого установливает `gil_drop_request` в `1` и снова переходит в режим ожидания.\n",
    "* В этом случае поток 1 вынужден отпустить GIL: он завершает выполнение последней инструкции, отпускает GIL и сигнализирует потоку 2, что он отпустил его.\n",
    "* Поток 2, захватив GIL, оповещает об этом поток 1 и далее уже поток 1 переходит в режим ожидания.\n",
    "* Никакой драки за GIL не происходит."
   ]
  },
  {
   "cell_type": "markdown",
   "metadata": {},
   "source": [
    "Эти действия повторяются все время исполнения процесса.\n",
    "\n",
    "<img src=\"https://i.imgur.com/NBTBApi.png\">\n",
    "\n",
    "* Дефолтное значение таймаута 5 миллисекунд.\n",
    "* Можно поменять с помощью `sys.setswitchinterval()`"
   ]
  },
  {
   "cell_type": "markdown",
   "metadata": {},
   "source": [
    "## Случай многих потоков\n",
    "\n",
    "* По истечении таймаута на получение GIL для некоторого потока `gil_drop_request` устанавливается лишь в том случае, если за этот таймаут не происходило никакого thread-switch каким-либо другим потоком.\n",
    "\n",
    "<img src=\"https://i.imgur.com/1wRop1Y.png\">"
   ]
  },
  {
   "cell_type": "markdown",
   "metadata": {},
   "source": [
    "* GIL может получить не обязательно тот поток, который установил `gil_drop_request`. Во многом это зависит от планировщика ОС.\n",
    "\n",
    "<img src=\"https://i.imgur.com/bD4Kgbp.png\">"
   ]
  },
  {
   "cell_type": "markdown",
   "metadata": {},
   "source": [
    "## Интересные свойства\n",
    "\n",
    "* GIL позволяет одному потоку исполняться непрерывно на протяжении 5 мс в независимости от других потоков или приоритетов ОС.\n",
    "* На это время CPU-bound может заблокировать IO-bound поток, что может ухудшить характеристики времен ответа для веб-серверов и т.д., т.е. в этом случае стоит \"подкрутить\" этот интервал.\n",
    "* Вызов C/С++-extensions может заблокировать thread-switch на неопределенный период.\n",
    "* thread-switсh не является preemptive"
   ]
  },
  {
   "cell_type": "markdown",
   "metadata": {},
   "source": [
    "# Garbage collection"
   ]
  },
  {
   "cell_type": "markdown",
   "metadata": {},
   "source": [
    "* Обычно программисту не нужно заботиться об управлении памятью в Python.\n",
    "* Когда объекта становятся не нужны, Python автоматически освобождает память из-под них.\n",
    "* Но есть особенности :)"
   ]
  },
  {
   "cell_type": "markdown",
   "metadata": {},
   "source": [
    "## Memory management\n",
    "\n",
    "* Python не сразу возвращает свободную память операционной системе.\n",
    "* Он имеет специальный аллокатор для маленьких объектов (меньше 512 байт), который хранит \"свободные\", полученные от ОС, чанки памяти для использования в будущем."
   ]
  },
  {
   "cell_type": "markdown",
   "metadata": {},
   "source": [
    "СPython реализация garbage collector-а имеет два компонента:\n",
    "* счетчик ссылок (reference counter)\n",
    "* genarational cyclic garbage collector, известный как модуль `gc`\n",
    "\n",
    "Счетчик ссылок очень простой и эффективный, но он не может удалять циклы ссылок, тогда вступает в игру generational cyclic gc."
   ]
  },
  {
   "cell_type": "markdown",
   "metadata": {},
   "source": [
    "# Reference counting\n",
    "\n",
    "* Объекты удаляются, когда на них не остается ссылок.\n",
    "* Каждый объект имеет дополнительное поле reference count, когда инкрементится или декрементится, когда ссылка на объет добавляется или удаляется.\n",
    "* Когда счетчик становится равным нулю, объект автоматически удаляется. Если он содержит ссылки на другие объекты, то их счетчики декрементятся и если счетчик вложенного объекта становится равным нулю, то происходит уже его удаление. И так далее по цепочке.\n",
    "* Переменные, объявленные глобально, живут до конца программы, если их не удалить вручную.\n",
    "* Счетчики на переменные, объявленные в локальном скоупе, декрементятся, когда происходит выход из этого скоупа."
   ]
  },
  {
   "cell_type": "code",
   "execution_count": 8,
   "metadata": {
    "collapsed": false
   },
   "outputs": [
    {
     "name": "stdout",
     "output_type": "stream",
     "text": [
      "2\n",
      "4\n",
      "2\n"
     ]
    }
   ],
   "source": [
    "import sys\n",
    "\n",
    "foo = []\n",
    "\n",
    "# 2 references, 1 from the foo var and 1 from getrefcount\n",
    "print(sys.getrefcount(foo))\n",
    "\n",
    "def bar(a):\n",
    "    # 4 references\n",
    "    # from the foo var, function argument, getrefcount and Python's function stack\n",
    "    print(sys.getrefcount(a))\n",
    "\n",
    "bar(foo)\n",
    "# 2 references, the function scope is destroyed\n",
    "print(sys.getrefcount(foo))"
   ]
  },
  {
   "cell_type": "markdown",
   "metadata": {},
   "source": [
    "## Generational garbage collector\n",
    "\n",
    "У подхода, основанного на подсчете ссылок, есть один фундаментальный недостаток: неспособность обрабатывать циклические зависимости.\n",
    "\n",
    "<img src=\"https://rushter.com/static/uploads/img/circularref.svg\">"
   ]
  },
  {
   "cell_type": "code",
   "execution_count": 10,
   "metadata": {
    "collapsed": false
   },
   "outputs": [
    {
     "name": "stdout",
     "output_type": "stream",
     "text": [
      "1\n",
      "1\n"
     ]
    }
   ],
   "source": [
    "import gc\n",
    "import ctypes\n",
    "\n",
    "# We are using ctypes to access our unreachable objects by memory address.\n",
    "class PyObject(ctypes.Structure):\n",
    "    _fields_ = [(\"refcnt\", ctypes.c_long)]\n",
    "\n",
    "\n",
    "# gc.disable()  # Disable generational gc\n",
    "\n",
    "lst = []\n",
    "lst.append(lst)\n",
    "\n",
    "# Store address of the list\n",
    "lst_address = id(lst)\n",
    "\n",
    "# Destroy the lst reference\n",
    "del lst\n",
    "\n",
    "object_1 = {}\n",
    "object_2 = {}\n",
    "object_1['obj2'] = object_2\n",
    "object_2['obj1'] = object_1\n",
    "\n",
    "obj_address = id(object_1)\n",
    "\n",
    "# Destroy references\n",
    "del object_1, object_2\n",
    "\n",
    "# Uncomment if you want to manually run garbage collection process \n",
    "# gc.collect()\n",
    "\n",
    "# Check the reference count\n",
    "print(PyObject.from_address(obj_address).refcnt)\n",
    "print(PyObject.from_address(lst_address).refcnt)"
   ]
  },
  {
   "cell_type": "markdown",
   "metadata": {},
   "source": [
    "* Для решения проблемы циклических ссылок, был реализован специальный алгоритм, призванный детектировать циклические ссылки, доступный через модуль `gc`."
   ]
  },
  {
   "cell_type": "markdown",
   "metadata": {},
   "source": [
    "## Устройство generational garbage collector"
   ]
  },
  {
   "cell_type": "markdown",
   "metadata": {},
   "source": [
    "* Не работает в realtime, в отличие от reference count, запускается периодически.\n",
    "* Есть 3 поколения. Каждый новый объект-контейнер помещается в первое поколение. Если объект остаесть после какой-либо итерации `gc`, он двигается на поколение вверх, если возможно.\n",
    "* Каждое поколение имеет свой счетчик и величину порога. В счетчике хранится разница между количеством аллокаций и деаллокаций с последней итерации `gc`. Если этот счетчик превысит определенный порог для первого поколения, запустится новая итерация.\n",
    "* Если есть несколько поколений с превышенным порогам, то итерация `gc` запускается на более старшем.\n",
    "* Стандартные пороги `(700, 10, 10)`, можно проверить через `gc.get_threshold`."
   ]
  },
  {
   "cell_type": "markdown",
   "metadata": {},
   "source": [
    "## Как находить циклы\n",
    "\n",
    "* Идея: пытаемся для каждого объекта в поколении убрать ссылки на объекты, на которые он ссылается. Пройдя по всем объектам, удаляем те, на которые осталось меньше двух ссылок.\n",
    "* Больше подробностей здесь https://pythoninternal.wordpress.com/2014/08/04/the-garbage-collector/\n",
    "\n",
    "<img src=\"https://pythoninternal.files.wordpress.com/2014/07/python-cyclic-gc-1-new-page.png\">\n",
    "<img src=\"https://pythoninternal.files.wordpress.com/2014/07/python-cyclic-gc-2-new-page.png\">\n",
    "<img src=\"https://pythoninternal.files.wordpress.com/2014/07/python-cyclic-gc-3-new-page.png\">\n",
    "<img src=\"https://pythoninternal.files.wordpress.com/2014/07/python-cyclic-gc-4-new-page.png\">\n",
    "<img src=\"https://pythoninternal.files.wordpress.com/2014/07/python-cyclic-gc-5-new-page.png\">"
   ]
  },
  {
   "cell_type": "markdown",
   "metadata": {},
   "source": [
    "## Советы по оптимизации\n",
    "\n",
    "* Использовать `weakref` модуль. `weakref.ref` не инкрементит счетчик ссылок на объект и возвращает `None`, если объект удалили.\n",
    "* `gc.disable()` и `gc.collect()` для ручного управления."
   ]
  },
  {
   "cell_type": "markdown",
   "metadata": {},
   "source": [
    "## Дебаг циклических ссылок"
   ]
  },
  {
   "cell_type": "code",
   "execution_count": null,
   "metadata": {
    "collapsed": true
   },
   "outputs": [],
   "source": [
    "import gc\n",
    "\n",
    "gc.set_debug(gc.DEBUG_SAVEALL)\n",
    "\n",
    "print(gc.get_count())\n",
    "lst = []\n",
    "lst.append(lst)\n",
    "print(id(lst))\n",
    "del lst\n",
    "gc.collect()\n",
    "for item in gc.garbage:\n",
    "    print(id(item))"
   ]
  },
  {
   "cell_type": "code",
   "execution_count": null,
   "metadata": {
    "collapsed": true
   },
   "outputs": [],
   "source": []
  }
 ],
 "metadata": {
  "kernelspec": {
   "display_name": "Python [Root]",
   "language": "python",
   "name": "Python [Root]"
  },
  "language_info": {
   "codemirror_mode": {
    "name": "ipython",
    "version": 3
   },
   "file_extension": ".py",
   "mimetype": "text/x-python",
   "name": "python",
   "nbconvert_exporter": "python",
   "pygments_lexer": "ipython3",
   "version": "3.5.2"
  }
 },
 "nbformat": 4,
 "nbformat_minor": 2
}
