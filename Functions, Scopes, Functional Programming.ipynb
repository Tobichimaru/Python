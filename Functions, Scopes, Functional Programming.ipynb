{
 "cells": [
  {
   "cell_type": "markdown",
   "metadata": {},
   "source": [
    "## Функции\n",
    "**return** использовать не обязательно, функция по умолчанию вернет **None**"
   ]
  },
  {
   "cell_type": "code",
   "execution_count": 1,
   "metadata": {
    "collapsed": false
   },
   "outputs": [
    {
     "name": "stdout",
     "output_type": "stream",
     "text": [
      "None\n"
     ]
    }
   ],
   "source": [
    "def foo():\n",
    "    x = 42\n",
    "    \n",
    "print(foo())    "
   ]
  },
  {
   "cell_type": "markdown",
   "metadata": {},
   "source": [
    "Функции можно документировать: "
   ]
  },
  {
   "cell_type": "code",
   "execution_count": 4,
   "metadata": {
    "collapsed": false
   },
   "outputs": [],
   "source": [
    "def foo():\n",
    "    \"\"\"Some doc\"\"\"\n",
    "    \n",
    "foo.__doc__    \n",
    "foo?"
   ]
  },
  {
   "cell_type": "code",
   "execution_count": 6,
   "metadata": {
    "collapsed": false
   },
   "outputs": [
    {
     "data": {
      "text/plain": [
       "1"
      ]
     },
     "execution_count": 6,
     "metadata": {},
     "output_type": "execute_result"
    }
   ],
   "source": [
    "def min(x, y):\n",
    "    return x if x < y else y\n",
    "\n",
    "# min(x = -5, z = 3)\n",
    "min(1, 2)"
   ]
  },
  {
   "cell_type": "markdown",
   "metadata": {},
   "source": [
    "Функция может принимать произвольное число аргументов:"
   ]
  },
  {
   "cell_type": "code",
   "execution_count": 12,
   "metadata": {
    "collapsed": false
   },
   "outputs": [
    {
     "name": "stdout",
     "output_type": "stream",
     "text": [
      "-1\n",
      "inf\n"
     ]
    }
   ],
   "source": [
    "def min(*args): #type(args) == tuple\n",
    "    res = float('inf') #!!!!!!\n",
    "    for arg in args:\n",
    "        if arg < res:\n",
    "            res = arg\n",
    "    return res\n",
    "\n",
    "print(min(1,2,-1))\n",
    "print(min())"
   ]
  },
  {
   "cell_type": "markdown",
   "metadata": {},
   "source": [
    "Можно применять функции к коллекции:"
   ]
  },
  {
   "cell_type": "code",
   "execution_count": 15,
   "metadata": {
    "collapsed": false
   },
   "outputs": [
    {
     "name": "stdout",
     "output_type": "stream",
     "text": [
      "-5\n",
      "1\n",
      "1\n"
     ]
    }
   ],
   "source": [
    "xs = {-5, 1, 2}\n",
    "print(min(*xs))\n",
    "print(min(*[1, 2, 3]))\n",
    "print(min(*(1,2,3)))"
   ]
  },
  {
   "cell_type": "markdown",
   "metadata": {},
   "source": [
    "Значения по умолчанию: вычисляются и ассоциируются только один раз – в момент объявления функции.\n",
    "* рекомендация -- не использовать изменяемые типы для значений по умолчанию"
   ]
  },
  {
   "cell_type": "code",
   "execution_count": 16,
   "metadata": {
    "collapsed": false
   },
   "outputs": [
    {
     "data": {
      "text/plain": [
       "12"
      ]
     },
     "execution_count": 16,
     "metadata": {},
     "output_type": "execute_result"
    }
   ],
   "source": [
    "def bounded_min(first, *args, lo = float('-inf'), hi = float('inf')):\n",
    "    res = hi\n",
    "    for arg in (first, ) + args:\n",
    "        if arg < res and lo < arg < hi:\n",
    "            res = arg\n",
    "    return max(res, lo)\n",
    "\n",
    "bounded_min(-5, 12, 13, lo=0, hi=255)"
   ]
  },
  {
   "cell_type": "code",
   "execution_count": 23,
   "metadata": {
    "collapsed": false
   },
   "outputs": [
    {
     "name": "stdout",
     "output_type": "stream",
     "text": [
      "[1, 2, 3]\n",
      "[]\n",
      "({1, 2, 3},)\n",
      "[1, 2, 3]\n",
      "[1, 2, 3]\n",
      "(None,)\n",
      "{1, 2}\n",
      "[]\n"
     ]
    }
   ],
   "source": [
    "def unique(iterable, seen = set()):\n",
    "    acc = []\n",
    "    for item in iterable:\n",
    "        if item not in seen:\n",
    "            seen.add(item)\n",
    "            acc.append(item)\n",
    "    return acc\n",
    "\n",
    "xs = [1, 1, 2, 3]\n",
    "print(unique(xs))\n",
    "print(unique(xs))\n",
    "print(unique.__defaults__)\n",
    "\n",
    "# вариант исправления\n",
    "def unique(iterable, seen = None):\n",
    "    seen = set(seen or []) #None - falsy value\n",
    "    acc = []\n",
    "    for item in iterable:\n",
    "        if item not in seen:\n",
    "            seen.add(item)\n",
    "            acc.append(item)\n",
    "    return acc\n",
    "\n",
    "xs = [1, 1, 2, 3]\n",
    "print(unique(xs))\n",
    "print(unique(xs))\n",
    "print(unique.__defaults__)\n",
    "\n",
    "print({1, 2} or [])\n",
    "print(None or [])"
   ]
  },
  {
   "cell_type": "markdown",
   "metadata": {},
   "source": [
    "Можно потребовать, чтобы часть аргументов **всегда** передавалась как ключевые:"
   ]
  },
  {
   "cell_type": "code",
   "execution_count": 29,
   "metadata": {
    "collapsed": false
   },
   "outputs": [
    {
     "name": "stdout",
     "output_type": "stream",
     "text": [
      "None\n"
     ]
    },
    {
     "ename": "TypeError",
     "evalue": "flatten() takes 1 positional argument but 2 were given",
     "output_type": "error",
     "traceback": [
      "\u001b[0;31m---------------------------------------------------------------------------\u001b[0m",
      "\u001b[0;31mTypeError\u001b[0m                                 Traceback (most recent call last)",
      "\u001b[0;32m<ipython-input-29-52a75a10f621>\u001b[0m in \u001b[0;36m<module>\u001b[0;34m()\u001b[0m\n\u001b[1;32m      3\u001b[0m \u001b[0;34m\u001b[0m\u001b[0m\n\u001b[1;32m      4\u001b[0m \u001b[0mprint\u001b[0m\u001b[0;34m(\u001b[0m\u001b[0mflatten\u001b[0m\u001b[0;34m(\u001b[0m\u001b[0;34m[\u001b[0m\u001b[0;36m1\u001b[0m\u001b[0;34m,\u001b[0m\u001b[0;36m2\u001b[0m\u001b[0;34m,\u001b[0m\u001b[0;34m[\u001b[0m\u001b[0;36m3\u001b[0m\u001b[0;34m]\u001b[0m\u001b[0;34m,\u001b[0m\u001b[0;34m[\u001b[0m\u001b[0;36m3\u001b[0m\u001b[0;34m,\u001b[0m\u001b[0;34m[\u001b[0m\u001b[0;36m4\u001b[0m\u001b[0;34m]\u001b[0m\u001b[0;34m,\u001b[0m\u001b[0;36m5\u001b[0m\u001b[0;34m]\u001b[0m\u001b[0;34m]\u001b[0m\u001b[0;34m,\u001b[0m \u001b[0mdepth\u001b[0m \u001b[0;34m=\u001b[0m \u001b[0;36m1\u001b[0m\u001b[0;34m)\u001b[0m\u001b[0;34m)\u001b[0m\u001b[0;34m\u001b[0m\u001b[0m\n\u001b[0;32m----> 5\u001b[0;31m \u001b[0mprint\u001b[0m\u001b[0;34m(\u001b[0m\u001b[0mflatten\u001b[0m\u001b[0;34m(\u001b[0m\u001b[0;34m[\u001b[0m\u001b[0;36m1\u001b[0m\u001b[0;34m,\u001b[0m\u001b[0;36m2\u001b[0m\u001b[0;34m,\u001b[0m\u001b[0;34m[\u001b[0m\u001b[0;36m3\u001b[0m\u001b[0;34m]\u001b[0m\u001b[0;34m]\u001b[0m\u001b[0;34m,\u001b[0m \u001b[0;36m2\u001b[0m\u001b[0;34m)\u001b[0m\u001b[0;34m)\u001b[0m \u001b[0;31m#flatten() takes 1 positional argument but 2 were given\u001b[0m\u001b[0;34m\u001b[0m\u001b[0m\n\u001b[0m",
      "\u001b[0;31mTypeError\u001b[0m: flatten() takes 1 positional argument but 2 were given"
     ]
    }
   ],
   "source": [
    "def flatten(xs, *, depth = None):\n",
    "    pass\n",
    "\n",
    "print(flatten([1,2,[3],[3,[4],5]], depth = 1))\n",
    "print(flatten([1,2,[3]], 2)) #flatten() takes 1 positional argument but 2 were given"
   ]
  },
  {
   "cell_type": "code",
   "execution_count": 31,
   "metadata": {
    "collapsed": true
   },
   "outputs": [],
   "source": [
    "def runner(cmd, **kwargs):\n",
    "    pass\n",
    "\n",
    "runner('abc', limit=42)\n",
    "runner('abc', **{'limit': False})\n",
    "options = {'abc' : 1}\n",
    "runner('abc', **options)"
   ]
  },
  {
   "cell_type": "markdown",
   "metadata": {},
   "source": [
    "## Упаковка и распаковка"
   ]
  },
  {
   "cell_type": "code",
   "execution_count": 36,
   "metadata": {
    "collapsed": false
   },
   "outputs": [
    {
     "name": "stdout",
     "output_type": "stream",
     "text": [
      "1 2 3\n",
      "1 2 3\n",
      "x y z\n"
     ]
    }
   ],
   "source": [
    "acc = []\n",
    "seen = set()\n",
    "(acc, seen) = ([], set())\n",
    "\n",
    "x, y, z = [1, 2, 3]\n",
    "print('%s %s %s' % (x, y, z))\n",
    "x, y, z = {3, 1, 2}\n",
    "print('%s %s %s' % (x, y, z))\n",
    "x, y, z = 'xyz'\n",
    "print('%s %s %s' % (x, y, z))\n",
    "\n",
    "\n",
    "#можно и со скобочками\n",
    "rectangle = (0, 0), (4, 4)\n",
    "(x1, y1), (x2, y2) = rectangle"
   ]
  },
  {
   "cell_type": "code",
   "execution_count": 37,
   "metadata": {
    "collapsed": false
   },
   "outputs": [
    {
     "data": {
      "text/plain": [
       "(1, [2, 3, 4])"
      ]
     },
     "execution_count": 37,
     "metadata": {},
     "output_type": "execute_result"
    }
   ],
   "source": [
    "#можно распоковать только часть\n",
    "first, *rest = range(1, 5)\n",
    "first, rest"
   ]
  },
  {
   "cell_type": "code",
   "execution_count": 39,
   "metadata": {
    "collapsed": false
   },
   "outputs": [
    {
     "data": {
      "text/plain": [
       "(1, [2, 3], 4)"
      ]
     },
     "execution_count": 39,
     "metadata": {},
     "output_type": "execute_result"
    }
   ],
   "source": [
    "first, *rest, last = range(1, 5)\n",
    "first, rest, last"
   ]
  },
  {
   "cell_type": "code",
   "execution_count": 40,
   "metadata": {
    "collapsed": false
   },
   "outputs": [
    {
     "ename": "ValueError",
     "evalue": "not enough values to unpack (expected at least 2, got 1)",
     "output_type": "error",
     "traceback": [
      "\u001b[0;31m---------------------------------------------------------------------------\u001b[0m",
      "\u001b[0;31mValueError\u001b[0m                                Traceback (most recent call last)",
      "\u001b[0;32m<ipython-input-40-d0ae67d894e5>\u001b[0m in \u001b[0;36m<module>\u001b[0;34m()\u001b[0m\n\u001b[0;32m----> 1\u001b[0;31m \u001b[0mfirst\u001b[0m\u001b[0;34m,\u001b[0m \u001b[0;34m*\u001b[0m\u001b[0mrest\u001b[0m\u001b[0;34m,\u001b[0m \u001b[0mlast\u001b[0m \u001b[0;34m=\u001b[0m \u001b[0;34m[\u001b[0m\u001b[0;36m42\u001b[0m\u001b[0;34m]\u001b[0m\u001b[0;34m\u001b[0m\u001b[0m\n\u001b[0m",
      "\u001b[0;31mValueError\u001b[0m: not enough values to unpack (expected at least 2, got 1)"
     ]
    }
   ],
   "source": [
    "first, *rest, last = [42]"
   ]
  },
  {
   "cell_type": "code",
   "execution_count": 44,
   "metadata": {
    "collapsed": false
   },
   "outputs": [
    {
     "name": "stdout",
     "output_type": "stream",
     "text": [
      "[range(1, 5), range(1, 5), range(1, 5), range(1, 5), range(1, 5)]\n",
      "1 [2, 3, 4]\n"
     ]
    }
   ],
   "source": [
    "*_, (first, *rest) = [range(1, 5)] * 5\n",
    "print([range(1, 5)] * 5)\n",
    "print(first, rest)"
   ]
  },
  {
   "cell_type": "code",
   "execution_count": 46,
   "metadata": {
    "collapsed": false
   },
   "outputs": [
    {
     "name": "stdout",
     "output_type": "stream",
     "text": [
      "[range(0, 4), range(0, 2)]\n",
      "[1, 2, 3]\n",
      "[1]\n"
     ]
    }
   ],
   "source": [
    "print([range(4), range(2)])\n",
    "for a, *b in [range(4), range(2)]:\n",
    "    print(b)"
   ]
  },
  {
   "cell_type": "markdown",
   "metadata": {},
   "source": [
    "### Распаковка в байткод"
   ]
  },
  {
   "cell_type": "code",
   "execution_count": 47,
   "metadata": {
    "collapsed": false
   },
   "outputs": [
    {
     "name": "stdout",
     "output_type": "stream",
     "text": [
      "  1           0 LOAD_CONST               4 (('a', 'b', 'c'))\n",
      "              3 UNPACK_EX              257\n",
      "              6 STORE_NAME               0 (first)\n",
      "              9 STORE_NAME               1 (rest)\n",
      "             12 STORE_NAME               2 (last)\n",
      "             15 LOAD_CONST               3 (None)\n",
      "             18 RETURN_VALUE\n"
     ]
    }
   ],
   "source": [
    "import dis\n",
    "dis.dis(\"first, *rest, last = ('a', 'b', 'c')\")"
   ]
  },
  {
   "cell_type": "code",
   "execution_count": 48,
   "metadata": {
    "collapsed": false
   },
   "outputs": [
    {
     "data": {
      "text/plain": [
       "2"
      ]
     },
     "execution_count": 48,
     "metadata": {},
     "output_type": "execute_result"
    }
   ],
   "source": [
    "x, (x, y) = 1, (2, 3)\n",
    "x"
   ]
  },
  {
   "cell_type": "markdown",
   "metadata": {},
   "source": [
    "Синтаксически схожие конструкции могут иметь различную семантику времени исполнения"
   ]
  },
  {
   "cell_type": "code",
   "execution_count": 49,
   "metadata": {
    "collapsed": false
   },
   "outputs": [
    {
     "name": "stdout",
     "output_type": "stream",
     "text": [
      "  1           0 LOAD_CONST               0 ('a')\n",
      "              3 LOAD_CONST               1 ('b')\n",
      "              6 LOAD_CONST               2 ('c')\n",
      "              9 BUILD_LIST               3\n",
      "             12 UNPACK_EX              257\n",
      "             15 STORE_NAME               0 (first)\n",
      "             18 STORE_NAME               1 (rest)\n",
      "             21 STORE_NAME               2 (last)\n",
      "             24 LOAD_CONST               3 (None)\n",
      "             27 RETURN_VALUE\n"
     ]
    }
   ],
   "source": [
    "dis.dis(\"first, *rest, last = ['a', 'b', 'c']\")"
   ]
  },
  {
   "cell_type": "markdown",
   "metadata": {},
   "source": [
    "## Scopes (области видимости)\n",
    "Функции в Python -- это объекты первого класса (first class citizens), т.е. с ними можно делать все то, что и с другими значениями"
   ]
  },
  {
   "cell_type": "code",
   "execution_count": 51,
   "metadata": {
    "collapsed": false
   },
   "outputs": [
    {
     "data": {
      "text/plain": [
       "42"
      ]
     },
     "execution_count": 51,
     "metadata": {},
     "output_type": "execute_result"
    }
   ],
   "source": [
    "def wrapper():\n",
    "    def identity(x):\n",
    "        return x\n",
    "    return identity\n",
    "\n",
    "f = wrapper()\n",
    "f(42)"
   ]
  },
  {
   "cell_type": "code",
   "execution_count": 52,
   "metadata": {
    "collapsed": false
   },
   "outputs": [
    {
     "data": {
      "text/plain": [
       "12"
      ]
     },
     "execution_count": 52,
     "metadata": {},
     "output_type": "execute_result"
    }
   ],
   "source": [
    "def make_min(*, lo, hi):\n",
    "    def inner(first, *args):\n",
    "        res = hi\n",
    "        for arg in (first, ) + args:\n",
    "            if arg < res and lo < arg < hi:\n",
    "                res = arg\n",
    "        return max(res, lo)\n",
    "    return inner\n",
    "\n",
    "bounded_min = make_min(lo = 0, hi = 255)\n",
    "bounded_min(-5, 12 ,13)"
   ]
  },
  {
   "cell_type": "markdown",
   "metadata": {},
   "source": [
    "Всего существует 4 области видимости (**LEGB**): поиск от локальной к встроеннной\n",
    "   * local\n",
    "   * enclosing\n",
    "   * global\n",
    "   * built-in"
   ]
  },
  {
   "cell_type": "code",
   "execution_count": 57,
   "metadata": {
    "collapsed": false
   },
   "outputs": [],
   "source": [
    "min #built-in\n",
    "min = 42 # global\n",
    "#print(globals())\n",
    "def f(*args):\n",
    "    min = 2\n",
    "    def g(): #enclosing\n",
    "        min = 4 #local\n",
    "        print(min)\n",
    "        print(locals())\n",
    "        \n",
    "f(1)        "
   ]
  },
  {
   "cell_type": "markdown",
   "metadata": {},
   "source": [
    "Можно использовать переменные, определенные во внешних областях видимости.\n",
    "\n",
    "Это работает, так как поиск переменных осуществляется во время исполнения функции, а не во время объявления."
   ]
  },
  {
   "cell_type": "code",
   "execution_count": 58,
   "metadata": {
    "collapsed": false
   },
   "outputs": [
    {
     "name": "stdout",
     "output_type": "stream",
     "text": [
      "0\n",
      "1\n",
      "2\n",
      "3\n"
     ]
    }
   ],
   "source": [
    "def f():\n",
    "    print(i)\n",
    "    \n",
    "for i in range(4):\n",
    "    f()"
   ]
  },
  {
   "cell_type": "markdown",
   "metadata": {},
   "source": [
    "Для присваивания правило LEGB не работает.\n",
    "\n",
    "Для изменения этого поведения можно использовать операторы **global** и **nonlocal**"
   ]
  },
  {
   "cell_type": "code",
   "execution_count": 67,
   "metadata": {
    "collapsed": false
   },
   "outputs": [
    {
     "ename": "UnboundLocalError",
     "evalue": "local variable 'min' referenced before assignment",
     "output_type": "error",
     "traceback": [
      "\u001b[0;31m---------------------------------------------------------------------------\u001b[0m",
      "\u001b[0;31mUnboundLocalError\u001b[0m                         Traceback (most recent call last)",
      "\u001b[0;32m<ipython-input-67-e690e68c4836>\u001b[0m in \u001b[0;36m<module>\u001b[0;34m()\u001b[0m\n\u001b[1;32m      4\u001b[0m     \u001b[0;32mreturn\u001b[0m \u001b[0mmin\u001b[0m\u001b[0;34m\u001b[0m\u001b[0m\n\u001b[1;32m      5\u001b[0m \u001b[0;34m\u001b[0m\u001b[0m\n\u001b[0;32m----> 6\u001b[0;31m \u001b[0mf\u001b[0m\u001b[0;34m(\u001b[0m\u001b[0;34m)\u001b[0m\u001b[0;34m\u001b[0m\u001b[0m\n\u001b[0m",
      "\u001b[0;32m<ipython-input-67-e690e68c4836>\u001b[0m in \u001b[0;36mf\u001b[0;34m()\u001b[0m\n\u001b[1;32m      1\u001b[0m \u001b[0mmin\u001b[0m \u001b[0;34m=\u001b[0m \u001b[0;36m42\u001b[0m\u001b[0;34m\u001b[0m\u001b[0m\n\u001b[1;32m      2\u001b[0m \u001b[0;32mdef\u001b[0m \u001b[0mf\u001b[0m\u001b[0;34m(\u001b[0m\u001b[0;34m)\u001b[0m\u001b[0;34m:\u001b[0m\u001b[0;34m\u001b[0m\u001b[0m\n\u001b[0;32m----> 3\u001b[0;31m     \u001b[0mmin\u001b[0m \u001b[0;34m+=\u001b[0m \u001b[0;36m1\u001b[0m \u001b[0;31m#имя будет создано в локальной области видимости\u001b[0m\u001b[0;34m\u001b[0m\u001b[0m\n\u001b[0m\u001b[1;32m      4\u001b[0m     \u001b[0;32mreturn\u001b[0m \u001b[0mmin\u001b[0m\u001b[0;34m\u001b[0m\u001b[0m\n\u001b[1;32m      5\u001b[0m \u001b[0;34m\u001b[0m\u001b[0m\n",
      "\u001b[0;31mUnboundLocalError\u001b[0m: local variable 'min' referenced before assignment"
     ]
    }
   ],
   "source": [
    "min = 42\n",
    "def f():\n",
    "    min += 1 #имя будет создано в локальной области видимости\n",
    "    return min\n",
    "\n",
    "f()"
   ]
  },
  {
   "cell_type": "code",
   "execution_count": 65,
   "metadata": {
    "collapsed": false
   },
   "outputs": [
    {
     "data": {
      "text/plain": [
       "43"
      ]
     },
     "execution_count": 65,
     "metadata": {},
     "output_type": "execute_result"
    }
   ],
   "source": [
    "min = 42\n",
    "def f():\n",
    "    global min \n",
    "    min += 1 #будет использована глобальная переменная\n",
    "    return min\n",
    "\n",
    "f()"
   ]
  },
  {
   "cell_type": "code",
   "execution_count": 68,
   "metadata": {
    "collapsed": false
   },
   "outputs": [
    {
     "data": {
      "text/plain": [
       "42"
      ]
     },
     "execution_count": 68,
     "metadata": {},
     "output_type": "execute_result"
    }
   ],
   "source": [
    "def cell(value = None):\n",
    "    def get():\n",
    "        return value\n",
    "    def set(update):\n",
    "        nonlocal value\n",
    "        value = update\n",
    "    return get, set\n",
    "\n",
    "get, set = cell()\n",
    "set(42)\n",
    "get()"
   ]
  },
  {
   "cell_type": "markdown",
   "metadata": {},
   "source": [
    "# Правила поиска переменных\n",
    "``\n",
    "LEGB(Local -> Enclosed -> Global -> Built-in):\n",
    "    Local can be inside a function or class method, for example.\n",
    "    Enclosed can be its enclosing function, e.g., if a function is wrapped inside another function.\n",
    "    Global refers to the uppermost level of the executing script itself, and\n",
    "    Built-in are special names that Python reserves for itself.\n",
    "``"
   ]
  },
  {
   "cell_type": "markdown",
   "metadata": {},
   "source": [
    "## Элементы функционального программирования\n",
    "* Python -- не функциональный язык, но в нем есть элементы функционального программирования\n",
    "* Можно объявлять анонимные функции (lambda)"
   ]
  },
  {
   "cell_type": "code",
   "execution_count": 77,
   "metadata": {
    "collapsed": false
   },
   "outputs": [
    {
     "name": "stdout",
     "output_type": "stream",
     "text": [
      "[0, 2, 4, 6]\n"
     ]
    }
   ],
   "source": [
    "square = lambda x : x * 2\n",
    "map(square, range(4))\n",
    "print(list(map(square, range(4))))"
   ]
  },
  {
   "cell_type": "code",
   "execution_count": 80,
   "metadata": {
    "collapsed": false
   },
   "outputs": [
    {
     "data": {
      "text/plain": [
       "[1, 3, 5, 7, 9]"
      ]
     },
     "execution_count": 80,
     "metadata": {},
     "output_type": "execute_result"
    }
   ],
   "source": [
    "filter(lambda x: x % 2 != 0, range(10))\n",
    "list(filter(lambda x: x % 2 != 0, range(10)))"
   ]
  },
  {
   "cell_type": "markdown",
   "metadata": {},
   "source": [
    "Вместо предиката можно передать None, в этом случае в последовательности останутся только truthy значения"
   ]
  },
  {
   "cell_type": "code",
   "execution_count": 82,
   "metadata": {
    "collapsed": false
   },
   "outputs": [
    {
     "data": {
      "text/plain": [
       "[42]"
      ]
     },
     "execution_count": 82,
     "metadata": {},
     "output_type": "execute_result"
    }
   ],
   "source": [
    "xs = [0, None, [], {}, \"\", 42]\n",
    "list(filter(None, xs))"
   ]
  },
  {
   "cell_type": "markdown",
   "metadata": {},
   "source": [
    "### zip \n",
    "* строит последовательность кортежей элементов нескольких последовательностей\n",
    "* поведение в случае последовательностей различной длины аналогично **map**"
   ]
  },
  {
   "cell_type": "code",
   "execution_count": 84,
   "metadata": {
    "collapsed": false
   },
   "outputs": [
    {
     "data": {
      "text/plain": [
       "[('a', 0), ('b', 1), ('c', 2)]"
      ]
     },
     "execution_count": 84,
     "metadata": {},
     "output_type": "execute_result"
    }
   ],
   "source": [
    "list(zip('abc', range(10)))"
   ]
  },
  {
   "cell_type": "code",
   "execution_count": 85,
   "metadata": {
    "collapsed": false
   },
   "outputs": [
    {
     "data": {
      "text/plain": [
       "[('a', 0, 42j), ('b', 1, 42j), ('c', 2, 42j)]"
      ]
     },
     "execution_count": 85,
     "metadata": {},
     "output_type": "execute_result"
    }
   ],
   "source": [
    "list(zip('abc', range(3), [42j, 42j, 42j]))"
   ]
  },
  {
   "cell_type": "code",
   "execution_count": 87,
   "metadata": {
    "collapsed": false
   },
   "outputs": [
    {
     "data": {
      "text/plain": [
       "[1, 9, 25, 49, 81]"
      ]
     },
     "execution_count": 87,
     "metadata": {},
     "output_type": "execute_result"
    }
   ],
   "source": [
    "[x ** 2 for x in range(10) if x % 2 == 1]"
   ]
  },
  {
   "cell_type": "code",
   "execution_count": 88,
   "metadata": {
    "collapsed": false
   },
   "outputs": [
    {
     "data": {
      "text/plain": [
       "<generator object <genexpr> at 0x105c3a570>"
      ]
     },
     "execution_count": 88,
     "metadata": {},
     "output_type": "execute_result"
    }
   ],
   "source": [
    "(x ** 2 for x in range(10) if x % 2 == 1)"
   ]
  },
  {
   "cell_type": "markdown",
   "metadata": {},
   "source": [
    "### сравнения\n",
    "* объекты == и !=\n",
    "* singleton (**None**) - **is** или **is not**\n",
    "* для bool используйте сам объект или оператор **not**\n",
    "* отсутствие элемента в словаре с помощью оператора **not in**"
   ]
  },
  {
   "cell_type": "code",
   "execution_count": null,
   "metadata": {
    "collapsed": true
   },
   "outputs": [],
   "source": []
  }
 ],
 "metadata": {
  "anaconda-cloud": {},
  "kernelspec": {
   "display_name": "Python [Root]",
   "language": "python",
   "name": "Python [Root]"
  },
  "language_info": {
   "codemirror_mode": {
    "name": "ipython",
    "version": 3
   },
   "file_extension": ".py",
   "mimetype": "text/x-python",
   "name": "python",
   "nbconvert_exporter": "python",
   "pygments_lexer": "ipython3",
   "version": "3.5.2"
  }
 },
 "nbformat": 4,
 "nbformat_minor": 0
}
