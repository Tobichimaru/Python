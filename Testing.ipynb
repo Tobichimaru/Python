{
 "cells": [
  {
   "cell_type": "markdown",
   "metadata": {},
   "source": [
    "# Тестирование в Python"
   ]
  },
  {
   "cell_type": "markdown",
   "metadata": {},
   "source": [
    "## Некоторые общие правила юнит-тестирования:\n",
    "* Каждый юнит тестов должен фокусироваться на маленьком кусочке функциональности и проверять ее корректность.\n",
    "* Каждый тестовый юнит должен быть независимым.\n",
    "* По возможности, тесты должны быть быстрыми. \"Тяжелые\" тесты стоит выносить в отдельные тестовые контуры, которые запускать, например, регулярно по расписанию.\n",
    "* Нужно прогонять тесты перед коммитом и стараться не коммитить код, если он их не проходит.\n",
    "* Если вы находите баг в вашем коде, то вместе с его починкой нужно добавлять тест на этот баг.\n",
    "* Имена тестов должны быть выразительными, чтобы по ним можно было понять, какую функциональность они проверяют."
   ]
  },
  {
   "cell_type": "markdown",
   "metadata": {},
   "source": [
    "## Библиотека unittest"
   ]
  },
  {
   "cell_type": "markdown",
   "metadata": {},
   "source": [
    "## возможности unittest\n",
    "* автоматизация запуска тестов и механизм их обнаружения\n",
    "* поддержка инициализации и освобождения ресурсов для запуска тестов\n",
    "* группировка тестов в группы"
   ]
  },
  {
   "cell_type": "markdown",
   "metadata": {},
   "source": [
    "## концепты unittest\n",
    "\n",
    "* test fixture - описывает необходимые подготовительные действия для запуска тестов (создание директорий, создание тестовой базы данных, старт сервера и т.д.)\n",
    "* test case - наименьший юнит тестирования. Для создания test case-ов есть базовый класс TestCase.\n",
    "* test suite - коллекция из test case или более мелких test suite. Нужна для совместного запуска многих тестов. Для создания test suite-ов есть базовый класс TestSuite.\n",
    "* test runner - отвечает за выполнение тестов и показ результатов пользователю в нужном виде."
   ]
  },
  {
   "cell_type": "markdown",
   "metadata": {},
   "source": [
    "## Простейший пример создания теста"
   ]
  },
  {
   "cell_type": "code",
   "execution_count": null,
   "metadata": {},
   "outputs": [],
   "source": [
    "import unittest\n",
    "\n",
    "def add(x,y):\n",
    "    return x + y\n",
    "   \n",
    "class SimpleTest(unittest.TestCase):\n",
    "    def test_add1(self):\n",
    "        self.assertEqual(add(4,5), 9)\n",
    "\n",
    "if __name__ == '__main__':\n",
    "    unittest.main()"
   ]
  },
  {
   "cell_type": "markdown",
   "metadata": {},
   "source": [
    "## Запуск\n",
    "\n",
    "\n",
    "```\n",
    "(shad-env) kolina93@kolina93-Latitude-E7440:~/Downloads$ python3 simple_test.py \n",
    ".\n",
    "----------------------------------------------------------------------\n",
    "Ran 1 test in 0.000s\n",
    "\n",
    "OK\n",
    "```"
   ]
  },
  {
   "cell_type": "markdown",
   "metadata": {},
   "source": [
    "## Возможные результаты запуска теста\n",
    "\n",
    "* OK - тест прошел\n",
    "* FAIL - тест не прошел и выбросил AssertionError при запуске\n",
    "* ERROR - тест выбросил исключение, отличное от AssertionError"
   ]
  },
  {
   "cell_type": "markdown",
   "metadata": {},
   "source": [
    "## Запуск отдельных тестов\n",
    "\n",
    "```\n",
    "python -m unittest test1\n",
    "python -m unittest test_module.TestClass\n",
    "python -m unittest test_module.TestClass.test_method\n",
    "```"
   ]
  },
  {
   "cell_type": "markdown",
   "metadata": {},
   "source": [
    "## Fixtures\n",
    "\n",
    "Внутри TestCase может быть много тестов. Все эти тесты могут требовать соединения с базой данных, каких-нибудь файлов или чего-либо еще. Такие ресурсы называются fixture. Для их инициализации и освобождения, нужно переопределить методы setUp и tearDown в своем классе-наследнике TestCase."
   ]
  },
  {
   "cell_type": "code",
   "execution_count": null,
   "metadata": {},
   "outputs": [],
   "source": [
    "import unittest\n",
    "\n",
    "class SimpleTest2(unittest.TestCase):\n",
    "    def setUp(self):\n",
    "        self.a = 10\n",
    "        self.b = 20\n",
    "        name = self.shortDescription()\n",
    "        \n",
    "        if name == \"Add\":\n",
    "            self.a = 10\n",
    "            self.b = 20\n",
    "            print(name, self.a, self.b)\n",
    "\n",
    "        if name == \"sub\":\n",
    "            self.a = 50\n",
    "            self.b = 60\n",
    "            print(name, self.a, self.b)\n",
    "   \n",
    "    def tearDown(self):\n",
    "        print('\\nend of test', self.shortDescription())\n",
    "\n",
    "    def test_add(self):\n",
    "        \"\"\"Add\"\"\"\n",
    "        result = self.a + self.b\n",
    "        self.assertTrue(result == 100)\n",
    "    \n",
    "    def test_sub(self):\n",
    "        \"\"\"sub\"\"\"\n",
    "        result = self.a - self.b\n",
    "        self.assertTrue(result == -10)\n",
    "\n",
    "if __name__ == '__main__':\n",
    "    unittest.main()"
   ]
  },
  {
   "cell_type": "markdown",
   "metadata": {},
   "source": [
    "```\n",
    "(shad-env) kolina93@kolina93-Latitude-E7440:~/Downloads$ python simple_test_2.py \n",
    "Add 10 20\n",
    "\n",
    "end of test Add\n",
    "Fsub 50 60\n",
    "\n",
    "end of test sub\n",
    ".\n",
    "======================================================================\n",
    "FAIL: test_add (__main__.SimpleTest2)\n",
    "Add\n",
    "----------------------------------------------------------------------\n",
    "Traceback (most recent call last):\n",
    "  File \"simple_test_2.py\", line 26, in test_add\n",
    "    self.assertTrue(result == 100)\n",
    "AssertionError: False is not true\n",
    "\n",
    "----------------------------------------------------------------------\n",
    "Ran 2 tests in 0.000s\n",
    "\n",
    "FAILED (failures=1)\n",
    "```"
   ]
  },
  {
   "cell_type": "markdown",
   "metadata": {},
   "source": [
    "## Class fixture\n",
    "\n",
    "* setUpClass - вызывается перед выполнением тестов\n",
    "* tearDownClass - вызывается после отработки всех тестов"
   ]
  },
  {
   "cell_type": "code",
   "execution_count": null,
   "metadata": {},
   "outputs": [],
   "source": [
    "import unittest\n",
    "\n",
    "class TestFixtures(unittest.TestCase):\n",
    "    @classmethod\n",
    "    def setUpClass(cls):\n",
    "        print('called once before any tests in class')\n",
    "\n",
    "    @classmethod\n",
    "    def tearDownClass(cls):\n",
    "        print('\\ncalled once after all tests in class')\n",
    "\n",
    "    def setUp(self):\n",
    "        self.a = 10\n",
    "        self.b = 20\n",
    "        name = self.shortDescription()\n",
    "        print('\\n', name)\n",
    "\n",
    "    def tearDown(self):\n",
    "        print('\\nend of test', self.shortDescription())\n",
    "\n",
    "    def test1(self):\n",
    "        \"\"\"One\"\"\"\n",
    "        result = self.a + self.b\n",
    "        self.assertTrue(True)\n",
    "    \n",
    "    def test2(self):\n",
    "        \"\"\"Two\"\"\"\n",
    "        result = self.a - self.b\n",
    "        self.assertTrue(False)\n",
    "        \n",
    "if __name__ == '__main__':\n",
    "    unittest.main()"
   ]
  },
  {
   "cell_type": "markdown",
   "metadata": {},
   "source": [
    "## TestSuite\n",
    "\n",
    "Нужен для группировки TestCase-ов по функциональности, которую они проверяют"
   ]
  },
  {
   "cell_type": "code",
   "execution_count": null,
   "metadata": {},
   "outputs": [],
   "source": [
    "import unittest\n",
    "\n",
    "def add(a, b):\n",
    "    return a + b\n",
    "    \n",
    "def sub(a, b):\n",
    "    return a - b\n",
    " \n",
    "def mul(a, b):\n",
    "    return a * b\n",
    " \n",
    "def div(a, b):\n",
    "    return a / b\n",
    "\n",
    "def sqrt(a):\n",
    "    return a ** 0.5\n",
    "\n",
    "def pow(a, b):\n",
    "    return a ** b\n",
    "\n",
    "class CalcBasicTests(unittest.TestCase):\n",
    "    def test_add(self):\n",
    "        self.assertEqual(add(1, 2), 3)\n",
    "        \n",
    "    def test_sub(self):\n",
    "        self.assertEqual(sub(4, 2), 2)\n",
    "        \n",
    "    def test_mul(self):\n",
    "        self.assertEqual(mul(2, 5), 10)\n",
    "        \n",
    "    def test_div(self):\n",
    "        self.assertEqual(div(8, 4), 2)\n",
    "\n",
    "\n",
    "class CalcExTests(unittest.TestCase):\n",
    "    def test_sqrt(self):\n",
    "        self.assertEqual(sqrt(4), 2)\n",
    "        \n",
    "    def test_pow(self):\n",
    "        self.assertEqual(pow(3, 3), 27)\n",
    "\n",
    "calcTestSuite = unittest.TestSuite()\n",
    "calcTestSuite.addTest(unittest.makeSuite(CalcBasicTests))\n",
    "calcTestSuite.addTest(unittest.makeSuite(CalcExTests))\n",
    "print(\"count of tests: \" + str(calcTestSuite.countTestCases()) + \"\\n\")\n",
    "\n",
    "runner = unittest.TextTestRunner(verbosity=2)\n",
    "runner.run(calcTestSuite)"
   ]
  },
  {
   "cell_type": "markdown",
   "metadata": {},
   "source": [
    "## Ассерты в unittest"
   ]
  },
  {
   "cell_type": "code",
   "execution_count": null,
   "metadata": {},
   "outputs": [],
   "source": [
    "import unittest\n",
    "\n",
    "class SimpleTest(unittest.TestCase):\n",
    "    def test1(self):\n",
    "        self.assertEqual(4 + 5,9)\n",
    "    def test2(self):\n",
    "        self.assertNotEqual(5 * 2,10)\n",
    "    def test3(self):\n",
    "        self.assertTrue(4 + 5 == 9,\"The result is False\")\n",
    "    def test4(self):\n",
    "        self.assertTrue(4 + 5 == 10,\"assertion fails\")\n",
    "    def test5(self):\n",
    "        self.assertIn(3,[1,2,3])\n",
    "    def test6(self):\n",
    "        self.assertNotIn(3, range(5))\n",
    "\n",
    "if __name__ == '__main__':\n",
    "    unittest.main()"
   ]
  },
  {
   "cell_type": "code",
   "execution_count": null,
   "metadata": {},
   "outputs": [],
   "source": [
    "import unittest\n",
    "import math\n",
    "import re\n",
    "\n",
    "class SimpleTest(unittest.TestCase):\n",
    "    def test1(self):\n",
    "        self.assertAlmostEqual(22.0 / 7, 3.14)\n",
    "    def test2(self):\n",
    "        self.assertNotAlmostEqual(10.0 / 3, 3)\n",
    "    def test3(self):\n",
    "        self.assertGreater(math.pi, 3)\n",
    "    def test4(self):\n",
    "        self.assertNotRegexpMatches(\"Tutorials Point (I) Private Limited\",\"Point\")\n",
    "\n",
    "if __name__ == '__main__':\n",
    "    unittest.main()"
   ]
  },
  {
   "cell_type": "code",
   "execution_count": null,
   "metadata": {},
   "outputs": [],
   "source": [
    "import unittest\n",
    "\n",
    "class SimpleTest(unittest.TestCase):\n",
    "    def test1(self):\n",
    "        self.assertListEqual([2, 3, 4], [1, 2, 3, 4, 5])\n",
    "    def test2(self):\n",
    "        self.assertTupleEqual((1*2, 2*2, 3*2), (2, 4, 6))\n",
    "    def test3(self):\n",
    "        self.assertDictEqual({1:11, 2:22},{3:33, 2:22, 1:11})\n",
    "\n",
    "if __name__ == '__main__':\n",
    "    unittest.main()"
   ]
  },
  {
   "cell_type": "markdown",
   "metadata": {},
   "source": [
    "## Пропуск тестов"
   ]
  },
  {
   "cell_type": "code",
   "execution_count": null,
   "metadata": {},
   "outputs": [],
   "source": [
    "import unittest\n",
    "\n",
    "def add(x,y):\n",
    "    return x + y\n",
    "\n",
    "class SimpleTest(unittest.TestCase):\n",
    "    @unittest.skip(\"demonstrating skipping\")\n",
    "    def testadd1(self):\n",
    "        self.assertEquals(add(4,5),9)\n",
    "\n",
    "if __name__ == '__main__':\n",
    "    unittest.main()"
   ]
  },
  {
   "cell_type": "markdown",
   "metadata": {},
   "source": [
    "## Проверка выбрасывания исключений"
   ]
  },
  {
   "cell_type": "code",
   "execution_count": null,
   "metadata": {},
   "outputs": [],
   "source": [
    "import unittest\n",
    "\n",
    "def div(a,b):\n",
    "    return a / b\n",
    "\n",
    "class raiseTest(unittest.TestCase):\n",
    "    def testraise(self):\n",
    "        self.assertRaises(ZeroDivisionError, div, 1,0)\n",
    "\n",
    "if __name__ == '__main__':\n",
    "    unittest.main()"
   ]
  },
  {
   "cell_type": "markdown",
   "metadata": {},
   "source": [
    "## Библиотека doctest"
   ]
  },
  {
   "cell_type": "markdown",
   "metadata": {},
   "source": [
    "Модуль стандартной библиотеки для поддержания актуальности примеров в doc-стрингах. Он умеет роверять, что все примеры в doc-стрингах не устарели и работают, как написано."
   ]
  },
  {
   "cell_type": "code",
   "execution_count": null,
   "metadata": {},
   "outputs": [],
   "source": [
    "\"\"\"\n",
    "This is the \"example\" module.\n",
    "\n",
    "The example module supplies one function, factorial(). For example,\n",
    "\n",
    ">>> factorial(5)\n",
    "120\n",
    "\"\"\"\n",
    "\n",
    "def factorial(x):\n",
    "    \"\"\"Return the factorial of n, an exact integer >= 0.\n",
    "    >>> factorial(-1)\n",
    "    Traceback (most recent call last):\n",
    "       ...\n",
    "    ValueError: x must be >= 0\n",
    "    \"\"\"\n",
    "   \n",
    "    if not x >= 0:\n",
    "        raise ValueError(\"x must be >= 0\")\n",
    "    f = 1\n",
    "    for i in range(1, x + 1):\n",
    "        f = f * i\n",
    "    return f\n",
    "   \n",
    "if __name__ == \"__main__\":\n",
    "    import doctest\n",
    "    doctest.testmod()"
   ]
  },
  {
   "cell_type": "markdown",
   "metadata": {},
   "source": [
    "# pytest\n",
    "\n",
    "\n",
    "_“Eveybody is using py.test anyway...”_\n",
    "\n",
    "Guido van Rossum"
   ]
  },
  {
   "cell_type": "markdown",
   "metadata": {},
   "source": [
    "Библиотека py.test - это де-факто стандарт для тестирования кода на Python, написанная в Python-идиоматичном стиле, позволив описывать тесты в гораздо более компактном стиле."
   ]
  },
  {
   "cell_type": "code",
   "execution_count": null,
   "metadata": {},
   "outputs": [],
   "source": [
    "# content of test_sample.py\n",
    "import pytest\n",
    "\n",
    "def setup_module(module):\n",
    "    #init_something()\n",
    "    pass\n",
    "\n",
    "def teardown_module(module):\n",
    "    #teardown_something()\n",
    "    pass\n",
    "\n",
    "def test_upper():\n",
    "    assert 'foo'.upper() == 'FOO'\n",
    "    \n",
    "def test_isupper():\n",
    "    assert 'FOO'.isupper()\n",
    "    \n",
    "def test_failed_upper():\n",
    "    assert 'foo'.upper() == 'FOo'"
   ]
  },
  {
   "cell_type": "markdown",
   "metadata": {},
   "source": [
    "```\n",
    "(shad-env) kolina93@kolina93-Latitude-E7440:~/Downloads$ pytest test_sample.py \n",
    "================================================================================= test session starts ==================================================================================\n",
    "platform linux -- Python 3.5.2, pytest-3.2.5, py-1.5.2, pluggy-0.4.0\n",
    "rootdir: /home/kolina93/Downloads, inifile:\n",
    "collected 3 items                                                                                                                                                                       \n",
    "\n",
    "test_sample.py ..F\n",
    "\n",
    "======================================================================================= FAILURES =======================================================================================\n",
    "__________________________________________________________________________________ test_failed_upper ___________________________________________________________________________________\n",
    "\n",
    "    def test_failed_upper():\n",
    ">       assert 'foo'.upper() == 'FOo'\n",
    "E       AssertionError: assert 'FOO' == 'FOo'\n",
    "E         - FOO\n",
    "E         + FOo\n",
    "\n",
    "test_sample.py:18: AssertionError\n",
    "========================================================================== 1 failed, 2 passed in 0.03 seconds ==========================================================================\n",
    "(shad-env) kolina93@kolina93-Latitude-E7440:~/Downloads$ \n",
    "```"
   ]
  },
  {
   "cell_type": "markdown",
   "metadata": {},
   "source": [
    "## Исключения"
   ]
  },
  {
   "cell_type": "code",
   "execution_count": null,
   "metadata": {},
   "outputs": [],
   "source": [
    "# test_capitalize.py\n",
    "\n",
    "import pytest\n",
    "\n",
    "def capital_case(x):\n",
    "    if not isinstance(x, str):\n",
    "        raise TypeError('Please provide a string argument')\n",
    "    return x.capitalize()\n",
    "\n",
    "def test_capital_case():\n",
    "    assert capital_case('semaphore') == 'Semaphore'\n",
    "\n",
    "def test_raises_exception_on_non_string_arguments():\n",
    "    with pytest.raises(TypeError):\n",
    "        capital_case(9)"
   ]
  },
  {
   "cell_type": "markdown",
   "metadata": {},
   "source": [
    "## Фикстуры"
   ]
  },
  {
   "cell_type": "code",
   "execution_count": null,
   "metadata": {},
   "outputs": [],
   "source": [
    "# wallet.py\n",
    "\n",
    "class InsufficientAmount(Exception):\n",
    "    pass\n",
    "\n",
    "\n",
    "class Wallet(object):\n",
    "\n",
    "    def __init__(self, initial_amount=0):\n",
    "        self.balance = initial_amount\n",
    "\n",
    "    def spend_cash(self, amount):\n",
    "        if self.balance < amount:\n",
    "            raise InsufficientAmount('Not enough available to spend {}'.format(amount))\n",
    "        self.balance -= amount\n",
    "\n",
    "    def add_cash(self, amount):\n",
    "        self.balance += amount"
   ]
  },
  {
   "cell_type": "code",
   "execution_count": null,
   "metadata": {},
   "outputs": [],
   "source": [
    "# test_wallet.py\n",
    "\n",
    "import pytest\n",
    "from wallet import Wallet, InsufficientAmount\n",
    "\n",
    "@pytest.fixture\n",
    "def empty_wallet():\n",
    "    '''Returns a Wallet instance with a zero balance'''\n",
    "    return Wallet()\n",
    "\n",
    "@pytest.fixture\n",
    "def wallet():\n",
    "    '''Returns a Wallet instance with a balance of 20'''\n",
    "    return Wallet(20)\n",
    "\n",
    "def test_default_initial_amount(empty_wallet):\n",
    "    assert empty_wallet.balance == 0\n",
    "\n",
    "def test_setting_initial_amount(wallet):\n",
    "    assert wallet.balance == 20\n",
    "\n",
    "def test_wallet_add_cash(wallet):\n",
    "    wallet.add_cash(80)\n",
    "    assert wallet.balance == 100\n",
    "\n",
    "def test_wallet_spend_cash(wallet):\n",
    "    wallet.spend_cash(10)\n",
    "    assert wallet.balance == 10\n",
    "\n",
    "def test_wallet_spend_cash_raises_exception_on_insufficient_amount(empty_wallet):\n",
    "    with pytest.raises(InsufficientAmount):\n",
    "        empty_wallet.spend_cash(100)"
   ]
  },
  {
   "cell_type": "markdown",
   "metadata": {},
   "source": [
    "## Параметризация тестовых функций\n",
    "\n",
    "Позволяет запускать тестовую функцию несколько раз с разными параметрами."
   ]
  },
  {
   "cell_type": "code",
   "execution_count": null,
   "metadata": {},
   "outputs": [],
   "source": [
    "# test_wallet.py\n",
    "\n",
    "import pytest\n",
    "\n",
    "from wallet import Wallet\n",
    "\n",
    "@pytest.mark.parametrize(\"earned,spent,expected\", [\n",
    "    (30, 10, 20),\n",
    "    (20, 2, 18),\n",
    "])\n",
    "def test_transactions(earned, spent, expected):\n",
    "    my_wallet = Wallet()\n",
    "    my_wallet.add_cash(earned)\n",
    "    my_wallet.spend_cash(spent)\n",
    "    assert my_wallet.balance == expected"
   ]
  },
  {
   "cell_type": "markdown",
   "metadata": {},
   "source": [
    "```\n",
    "(shad-env) kolina93@kolina93-Latitude-E7440:~/Downloads$ pytest -s -v test_wallet.py \n",
    "================================================================================= test session starts ==================================================================================\n",
    "platform linux -- Python 3.5.2, pytest-3.2.5, py-1.5.2, pluggy-0.4.0 -- /home/kolina93/shad-env/bin/python3\n",
    "cachedir: .cache\n",
    "rootdir: /home/kolina93/Downloads, inifile:\n",
    "collected 2 items                                                                                                                                                                       \n",
    "\n",
    "test_wallet.py::test_transactions[30-10-20] PASSED\n",
    "test_wallet.py::test_transactions[20-2-18] PASSED\n",
    "\n",
    "=============================================================================== 2 passed in 0.01 seconds ===============================================================================\n",
    "(shad-env) kolina93@kolina93-Latitude-E7440:~/Downloads$ \n",
    "```"
   ]
  },
  {
   "cell_type": "markdown",
   "metadata": {},
   "source": [
    "## Комбинирование фикстур и параметризации"
   ]
  },
  {
   "cell_type": "code",
   "execution_count": null,
   "metadata": {},
   "outputs": [],
   "source": [
    "# test_wallet.py\n",
    "\n",
    "import pytest\n",
    "\n",
    "from wallet import Wallet\n",
    "\n",
    "@pytest.fixture\n",
    "def my_wallet():\n",
    "    '''Returns a Wallet instance with a zero balance'''\n",
    "    return Wallet()\n",
    "\n",
    "@pytest.mark.parametrize(\"earned,spent,expected\", [\n",
    "    (30, 10, 20),\n",
    "    (20, 2, 18),\n",
    "])\n",
    "def test_transactions(my_wallet, earned, spent, expected):\n",
    "    my_wallet.add_cash(earned)\n",
    "    my_wallet.spend_cash(spent)\n",
    "    assert my_wallet.balance == expected"
   ]
  },
  {
   "cell_type": "markdown",
   "metadata": {},
   "source": [
    "## Полезные ключи запуска\n",
    "\n",
    "```\n",
    "# запустить все тесты c featu в названии\n",
    "$ pytest -k featu\n",
    "\n",
    "# выводить stdout для всех тестов (не только пофейлившихся)\n",
    "$ pytest -s \n",
    "```"
   ]
  },
  {
   "cell_type": "markdown",
   "metadata": {},
   "source": [
    "## pytest vs unittest\n",
    "\n",
    "Преимущества pytest:\n",
    "- лапидарность (не нужно писать классы, инструкции assert достаточно для всех видов проверок)\n",
    "- удобный test runner \n",
    "- расширяемость (плагины pep8, doctest, xdist, coverage, etc)\n",
    "- совместимость с unittest и nose (test  runner подхватит такие тесты тоже)\n",
    "\n",
    "Преимущества unittest:\n",
    "- поставляется с дистрибутивом  python"
   ]
  },
  {
   "cell_type": "code",
   "execution_count": null,
   "metadata": {},
   "outputs": [],
   "source": []
  }
 ],
 "metadata": {
  "kernelspec": {
   "display_name": "Python 3",
   "language": "python",
   "name": "python3"
  },
  "language_info": {
   "codemirror_mode": {
    "name": "ipython",
    "version": 3
   },
   "file_extension": ".py",
   "mimetype": "text/x-python",
   "name": "python",
   "nbconvert_exporter": "python",
   "pygments_lexer": "ipython3",
   "version": "3.5.2"
  }
 },
 "nbformat": 4,
 "nbformat_minor": 2
}
