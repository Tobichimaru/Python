{
 "cells": [
  {
   "cell_type": "markdown",
   "metadata": {},
   "source": [
    "# Futures"
   ]
  },
  {
   "cell_type": "markdown",
   "metadata": {},
   "source": [
    "При помощи Future обычно описывается объект, к которому можно обратиться за результатом,но вычисление которого может быть не завершено на данный момент."
   ]
  },
  {
   "cell_type": "markdown",
   "metadata": {},
   "source": [
    "В питоне Future инкапсулирует выполнение некоторого callable обьекта. Имеет следующий интерфейс: \n",
    "```python\n",
    "class concurrent.futures.Future:\n",
    "  def done()  \n",
    "  def running()  \n",
    "  def cancelled()  \n",
    "```  \n",
    "Фактически позволяют проверить состояние Future, кроме трёх состояний выше, Future ещё может находится в очереди на выполнение.\n",
    "```python\n",
    " def cancel()\n",
    "```\n",
    "Позволяет отменить Future, выполнение которого ещё не началось\n",
    "```python\n",
    " def result(timeout=None)\n",
    " def exception(timeout=None)\n",
    "```\n",
    "Два метода позволяющие получить результат Future, если вы зовёте result,  а внутри было брошено исключение, то оно будет брошено повторно. Если Future было отменено, будет брошено CancelledError, если время ожидания достигнуто, будет брошено concurrent.futures.TimeoutError\n",
    "```python\n",
    "  def add_done_callback(fn)\n",
    "```\n",
    " Добавляет callback к Future, callback-и зовуться в той же очерёдности, что и были добавлены. Exception-ы брошеные callback-ом, логируются и игнорируются.Если Future завершено, то callback будет вызван немедленно."
   ]
  },
  {
   "cell_type": "code",
   "execution_count": 9,
   "metadata": {},
   "outputs": [
    {
     "name": "stdout",
     "output_type": "stream",
     "text": [
      "<class 'concurrent.futures._base.Future'>\n",
      "False\n",
      "True\n",
      "hello\n",
      "True\n"
     ]
    }
   ],
   "source": [
    "from concurrent.futures import ThreadPoolExecutor\n",
    "from time import sleep\n",
    " \n",
    "def return_after_5_secs(message):\n",
    "    sleep(5)\n",
    "    return message\n",
    " \n",
    "pool = ThreadPoolExecutor(3)\n",
    " \n",
    "future = pool.submit(return_after_5_secs, (\"hello\"))\n",
    "print(type(future))\n",
    "print(future.done())\n",
    "sleep(5)\n",
    "print(future.done())\n",
    "print(future.result())\n",
    "print(future.done())"
   ]
  },
  {
   "cell_type": "markdown",
   "metadata": {},
   "source": [
    "#### Executors\n",
    "Как видно из примера выше, чтобы исполнить Future нам необходим некоторый \"исполнитель\" в стандартной поставке таких исполнителей два ThreadPoolExecutor и ProcessPoolExecutor. Интерфейс: \n",
    "```python\n",
    "     def submit(fn, *args, **kwargs)\n",
    "```   \n",
    " Добавляет в очередь исполнения fn(\\*args, \\**kwargs), возвращает future.\n",
    "```python\n",
    "     def map(func, *iterables, timeout=None, chunksize=1)\n",
    "```   \n",
    "  Ждёт результаты\n",
    "```python\n",
    "     def shutdown(wait=True)\n",
    "```"
   ]
  },
  {
   "cell_type": "code",
   "execution_count": 10,
   "metadata": {},
   "outputs": [
    {
     "name": "stdout",
     "output_type": "stream",
     "text": [
      "False\n",
      "False\n",
      "Result: hello\n"
     ]
    },
    {
     "ename": "RuntimeError",
     "evalue": "cannot schedule new futures after shutdown",
     "output_type": "error",
     "traceback": [
      "\u001b[0;31m---------------------------------------------------------------------------\u001b[0m",
      "\u001b[0;31mRuntimeError\u001b[0m                              Traceback (most recent call last)",
      "\u001b[0;32m<ipython-input-10-dcaef6381f2f>\u001b[0m in \u001b[0;36m<module>\u001b[0;34m()\u001b[0m\n\u001b[1;32m      9\u001b[0m     \u001b[0mprint\u001b[0m\u001b[0;34m(\u001b[0m\u001b[0;34m\"Result: \"\u001b[0m \u001b[0;34m+\u001b[0m \u001b[0mfuture\u001b[0m\u001b[0;34m.\u001b[0m\u001b[0mresult\u001b[0m\u001b[0;34m(\u001b[0m\u001b[0;34m)\u001b[0m\u001b[0;34m)\u001b[0m\u001b[0;34m\u001b[0m\u001b[0m\n\u001b[1;32m     10\u001b[0m     \u001b[0mpool\u001b[0m\u001b[0;34m.\u001b[0m\u001b[0mshutdown\u001b[0m\u001b[0;34m(\u001b[0m\u001b[0;34m)\u001b[0m\u001b[0;34m\u001b[0m\u001b[0m\n\u001b[0;32m---> 11\u001b[0;31m     \u001b[0mpool\u001b[0m\u001b[0;34m.\u001b[0m\u001b[0msubmit\u001b[0m\u001b[0;34m(\u001b[0m\u001b[0mreturn_after_5_secs\u001b[0m\u001b[0;34m,\u001b[0m \u001b[0;34m(\u001b[0m\u001b[0;34m\"hello\"\u001b[0m\u001b[0;34m)\u001b[0m\u001b[0;34m)\u001b[0m\u001b[0;34m\u001b[0m\u001b[0m\n\u001b[0m",
      "\u001b[0;32m/usr/lib/python3.6/concurrent/futures/process.py\u001b[0m in \u001b[0;36msubmit\u001b[0;34m(self, fn, *args, **kwargs)\u001b[0m\n\u001b[1;32m    441\u001b[0m                     'abruptly, the process pool is not usable anymore')\n\u001b[1;32m    442\u001b[0m             \u001b[0;32mif\u001b[0m \u001b[0mself\u001b[0m\u001b[0;34m.\u001b[0m\u001b[0m_shutdown_thread\u001b[0m\u001b[0;34m:\u001b[0m\u001b[0;34m\u001b[0m\u001b[0m\n\u001b[0;32m--> 443\u001b[0;31m                 \u001b[0;32mraise\u001b[0m \u001b[0mRuntimeError\u001b[0m\u001b[0;34m(\u001b[0m\u001b[0;34m'cannot schedule new futures after shutdown'\u001b[0m\u001b[0;34m)\u001b[0m\u001b[0;34m\u001b[0m\u001b[0m\n\u001b[0m\u001b[1;32m    444\u001b[0m \u001b[0;34m\u001b[0m\u001b[0m\n\u001b[1;32m    445\u001b[0m             \u001b[0mf\u001b[0m \u001b[0;34m=\u001b[0m \u001b[0m_base\u001b[0m\u001b[0;34m.\u001b[0m\u001b[0mFuture\u001b[0m\u001b[0;34m(\u001b[0m\u001b[0;34m)\u001b[0m\u001b[0;34m\u001b[0m\u001b[0m\n",
      "\u001b[0;31mRuntimeError\u001b[0m: cannot schedule new futures after shutdown"
     ]
    }
   ],
   "source": [
    "from concurrent.futures import ProcessPoolExecutor\n",
    "from time import sleep\n",
    " \n",
    "with ProcessPoolExecutor(3) as pool: \n",
    "    future = pool.submit(return_after_5_secs, (\"hello\"))\n",
    "    print(future.done())\n",
    "    sleep(5)\n",
    "    print(future.done())\n",
    "    print(\"Result: \" + future.result())\n",
    "    pool.shutdown()\n",
    "    pool.submit(return_after_5_secs, (\"hello\"))\n"
   ]
  },
  {
   "cell_type": "markdown",
   "metadata": {},
   "source": [
    "#### Полезные методы модуля\n",
    "```python\n",
    "concurrent.futures.wait(fs, timeout=None, return_when=ALL_COMPLETED)\n",
    "```\n",
    " Разделяет fs на два списка - done/not_done, return_when может принимать значения: FIRST_COMPLETED/FIRST_EXCEPTION/ALL_COMPLETED\n",
    "\n",
    "```python\n",
    "concurrent.futures.as_completed(fs, timeout=None)\n",
    "```\n",
    " позволяет просто проитерироваться по законченым Future\n"
   ]
  },
  {
   "cell_type": "markdown",
   "metadata": {},
   "source": [
    "# Многозадачность"
   ]
  },
  {
   "cell_type": "markdown",
   "metadata": {},
   "source": [
    "**Вытесняющая**  \n",
    "Вид многозадачности, в котором операционная система сама передает управление от одной выполняемой программы другой в случае завершения операций ввода-вывода, возникновения событий в аппаратуре компьютера, истечения таймеров и квантов времени, или же поступлений тех или иных сигналов от одной программы к другой. В этом виде многозадачности процессор может быть переключен с исполнения одной программы на исполнение другой без всякого пожелания первой программы и буквально между любыми двумя инструкциями в её коде. Распределение процессорного времени осуществляется планировщиком процессов. К тому же каждой задаче может быть назначен пользователем или самой операционной системой определенный приоритет, что обеспечивает гибкое управление распределением процессорного времени между задачами (например, можно снизить приоритет ресурсоёмкой программе, снизив тем самым скорость её работы, но повысив производительность фоновых процессов)\n",
    "\n",
    "**Кооперативная многозадачность**  \n",
    "Тип многозадачности, при котором следующая задача выполняется только после того, как текущая задача явно объявит себя готовой отдать процессорное время другим задачам. "
   ]
  },
  {
   "cell_type": "code",
   "execution_count": 9,
   "metadata": {},
   "outputs": [
    {
     "data": {
      "text/plain": [
       "[0, 1, 2]"
      ]
     },
     "execution_count": 9,
     "metadata": {},
     "output_type": "execute_result"
    }
   ],
   "source": [
    "from time import sleep\n",
    "def gen(): \n",
    "    for i in range(3): \n",
    "        sleep(0.5)\n",
    "        yield i\n",
    "g = gen()    \n",
    "v_1 = next(g)\n",
    "# some work\n",
    "v_2 = next(g)\n",
    "#list(gen())"
   ]
  },
  {
   "cell_type": "code",
   "execution_count": 2,
   "metadata": {},
   "outputs": [
    {
     "name": "stdout",
     "output_type": "stream",
     "text": [
      "2017-11-08 19:37:56.308961\n",
      "2017-11-08 19:37:57.310241\n",
      "2017-11-08 19:37:58.311930\n",
      "2017-11-08 19:37:59.314594\n",
      "2017-11-08 19:38:00.316820\n"
     ]
    }
   ],
   "source": [
    "import asyncio\n",
    "import datetime\n",
    "\n",
    "async def display_date(loop):\n",
    "    end_time = loop.time() + 5.0\n",
    "    while True:\n",
    "        print(datetime.datetime.now())\n",
    "        if (loop.time() + 1.0) >= end_time:\n",
    "            break\n",
    "        await asyncio.sleep(1)\n",
    "\n",
    "loop = asyncio.get_event_loop()\n",
    "# Blocking call which returns when the display_date() coroutine is done\n",
    "loop.run_until_complete(display_date(loop))\n",
    "loop.close()"
   ]
  },
  {
   "cell_type": "code",
   "execution_count": null,
   "metadata": {
    "collapsed": true
   },
   "outputs": [],
   "source": [
    "import asyncio\n",
    "import asyncio_redis\n",
    "\n",
    "@asyncio.coroutine\n",
    "def my_subscriber(channels):\n",
    "    # Create connection\n",
    "    connection = yield from asyncio_redis.Connection.create(host='localhost', port=6379)\n",
    "    # Create subscriber.\n",
    "    subscriber = yield from connection.start_subscribe()\n",
    "    # Subscribe to channel.\n",
    "    yield from subscriber.subscribe(channels)\n",
    "    # Wait for incoming events.\n",
    "    while True:\n",
    "        reply = yield from subscriber.next_published()\n",
    "        print('Received: ', repr(reply.value), 'on channel', reply.channel)\n",
    "\n",
    "loop = asyncio.get_event_loop()\n",
    "asyncio.async(my_subscriber('channel-1'))\n",
    "asyncio.async(my_subscriber('channel-2'))\n",
    "loop.run_forever()"
   ]
  },
  {
   "cell_type": "markdown",
   "metadata": {},
   "source": [
    "Как же работает магия."
   ]
  },
  {
   "cell_type": "code",
   "execution_count": 2,
   "metadata": {
    "collapsed": true
   },
   "outputs": [],
   "source": [
    "def replacement_socket_recv(the_socket):\n",
    "    loop = asyncio.get_event_loop()\n",
    "    loop.register_my_interest_in(the_socket,\n",
    "                    for_the_operation='recv')\n",
    "    yield  # wait for the event loop to resume me\n",
    "    return the_socket.recv()  # (2)\n",
    "# then monkey-patch this into the right place"
   ]
  },
  {
   "cell_type": "markdown",
   "metadata": {},
   "source": [
    "Что может корутина:  \n",
    "\n",
    "* **result = await future or result = yield from future** -\n",
    "  приостанавливает корутину, пока Future не будет выполнено.\n",
    "\n",
    "* **result = await coroutine or result = yield from coroutine**- ожидать результата другой корутины\n",
    "* **return expression **-вернуть результат в ждущую корутину\n",
    "* **raise exception**- бросить исключение, в ждущей корутине"
   ]
  },
  {
   "cell_type": "markdown",
   "metadata": {},
   "source": [
    "### Альтернативы\n",
    "Gevent/eventlet/twisted monkey-patch + implicit"
   ]
  },
  {
   "cell_type": "code",
   "execution_count": null,
   "metadata": {
    "collapsed": true
   },
   "outputs": [],
   "source": [
    "# Implicit\n",
    "result = self.make_rpc_call() # implicit switch here\n",
    "# Explicit\n",
    "result = yield from self.make_rpc_call()"
   ]
  },
  {
   "cell_type": "markdown",
   "metadata": {},
   "source": [
    "# Акторы\n",
    "Это ещё один механизм организации параллелизма, в питоне особо не прижились. Но давайте кратко остановимся. \n",
    "\n",
    "В акторной модели, все компоненты являются акторами(как в обьектно-ориентированной всё - обьекты.). Акторы общаются через механизм сообщений. В ответ на получение сообщения актор может: \n",
    "* создать конечное число других акторов\n",
    "* отправить конечное число сообщений другим акторам\n",
    "* изменить своё состояние так, чтобы по другому реагировать на следующией сообщения\n",
    "\n",
    "В модели интересно то, что она отделяет посылающую сторону, от стороны получения сообщений, что позволяет реализовать ассинхронную коммуникацию."
   ]
  },
  {
   "cell_type": "code",
   "execution_count": null,
   "metadata": {
    "collapsed": true
   },
   "outputs": [],
   "source": [
    "# https://github.com/kquick/Thespian/blob/master/examples/hellogoodbye.py\n",
    "# does not work in notebook( \n",
    "import logging\n",
    "from logsetup import logcfg\n",
    "from datetime import timedelta\n",
    "from thespian.actors import *\n",
    "\n",
    "class Hello(Actor):\n",
    "    def receiveMessage(self, message, sender):\n",
    "        logging.info('Hello got: %s', message)\n",
    "        if message == 'are you there?':\n",
    "            world = self.createActor(World)\n",
    "            worldmsg = (sender, 'Hello,')\n",
    "            self.send(world, worldmsg)\n",
    "\n",
    "class World(Actor):\n",
    "    def receiveMessage(self, message, sender):\n",
    "        if isinstance(message, tuple):\n",
    "            orig_sender, pre_world = message\n",
    "            self.send(orig_sender, pre_world + ' world!')\n",
    "\n",
    "class Goodbye(Actor):\n",
    "    def receiveMessage(self, message, sender):\n",
    "        self.send(sender, 'Goodbye')\n",
    "\n",
    "\n",
    "def run_example(systembase=None):\n",
    "    asys = ActorSystem(systembase, logDefs=logcfg)\n",
    "    hello = ActorSystem().createActor(Hello)\n",
    "    goodbye = ActorSystem().createActor(Goodbye)\n",
    "    greeting = ActorSystem().ask(hello, 'are you there?', timedelta(seconds=1.5))\n",
    "    print(greeting + '\\n' + ActorSystem().ask(goodbye, None,\n",
    "                                              timedelta(milliseconds=100)))\n",
    "    ActorSystem().shutdown()\n",
    "\n",
    "if __name__ == \"__main__\":\n",
    "    import sys\n",
    "    run_example(sys.argv[1] if len(sys.argv) > 1 else None)"
   ]
  }
 ],
 "metadata": {
  "kernelspec": {
   "display_name": "Python 3",
   "language": "python",
   "name": "python3"
  },
  "language_info": {
   "codemirror_mode": {
    "name": "ipython",
    "version": 3
   },
   "file_extension": ".py",
   "mimetype": "text/x-python",
   "name": "python",
   "nbconvert_exporter": "python",
   "pygments_lexer": "ipython3",
   "version": "3.6.1"
  }
 },
 "nbformat": 4,
 "nbformat_minor": 2
}
