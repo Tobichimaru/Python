{
 "cells": [
  {
   "cell_type": "markdown",
   "metadata": {},
   "source": [
    "Нужны для определения в вашем классе семантики\n",
    "* арифметических операций (add, radd, iadd, mul, div ...)\n",
    "* сравнения (eq, neq, le, lt, gt, ge)\n",
    "* преобразования типов (int, str, bool, ...)\n",
    "* управления отображением в интерпретаторе (repr)\n",
    "* доступа к элементам (getitem, setitem, len ...)\n",
    "* доступа к аттрибутам (getattr, setattr, getattribute )\n",
    "* хеширования (hash)\n",
    "* вызова (call)"
   ]
  },
  {
   "cell_type": "markdown",
   "metadata": {},
   "source": [
    "Обзор всех методов тут http://minhhh.github.io/posts/a-guide-to-pythons-magic-methods#user-content-numeric-magic-methods."
   ]
  },
  {
   "cell_type": "code",
   "execution_count": 1,
   "metadata": {
    "collapsed": true
   },
   "outputs": [],
   "source": [
    "from os.path import join\n",
    "\n",
    "class FileObject:\n",
    "    '''Wrapper for file objects to make sure the file gets closed on deletion.'''\n",
    "    \n",
    "    def __init__(self, filepath='~', filename='sample.txt'):\n",
    "        self.file = open(join(filepath, filename), 'r+')\n",
    "\n",
    "    def __del__(self):\n",
    "        self.file.close()\n",
    "        del self.file"
   ]
  },
  {
   "cell_type": "code",
   "execution_count": 2,
   "metadata": {
    "collapsed": true
   },
   "outputs": [],
   "source": [
    "class Word(str):\n",
    "    '''Class for words, defining comparison based on word length.'''\n",
    "\n",
    "    def __new__(cls, word):\n",
    "        if ' ' in word:\n",
    "            print(\"Value contains spaces. Truncating to first space.\")\n",
    "            word = word[:word.index(' ')]\n",
    "        return str.__new__(cls, word)\n",
    "\n",
    "    def __gt__(self, other):\n",
    "        return len(self) > len(other)\n",
    "    def __lt__(self, other):\n",
    "        return len(self) < len(other)\n",
    "    def __ge__(self, other):\n",
    "        return lean(self) >= len(other)\n",
    "    def __le__(self, other):\n",
    "        return len(self) <= len(other)"
   ]
  },
  {
   "cell_type": "code",
   "execution_count": 3,
   "metadata": {
    "collapsed": true
   },
   "outputs": [],
   "source": [
    "class Vector2D:\n",
    "    def __init__(self, x, y):\n",
    "        self.x = x\n",
    "        self.y = y\n",
    "    \n",
    "    def __add__(self, other):\n",
    "        return Vector2D(self.x + other.x, self.y + other.y)\n",
    "    \n",
    "    def __iadd__(self, other):\n",
    "        self.x += other.x\n",
    "        self.y += other.y\n",
    "    \n",
    "    def __mul__(self, scalar):\n",
    "        return Vector2D(self.x * scalar, self.y * scalar)\n",
    "    \n",
    "    def __imul__(self, scalar):\n",
    "        self.x *= scalar\n",
    "        self.y *= scalar"
   ]
  },
  {
   "cell_type": "code",
   "execution_count": 4,
   "metadata": {
    "collapsed": true
   },
   "outputs": [],
   "source": [
    "class Car(object):\n",
    "    def __init__(self, brand, buy_year):\n",
    "        self.brand = brand\n",
    "        self.buy_year = buy_year\n",
    "\n",
    "    def __repr__(self):\n",
    "        return \"Car('\" + self.brand + \"', \" +  str(self.buy_year) +  \")\"\n",
    "\n",
    "    def __str__(self):\n",
    "        return \"Brand: \" + self.brand + \", Buy Year: \" +  str(self.buy_year)"
   ]
  },
  {
   "cell_type": "code",
   "execution_count": 5,
   "metadata": {
    "collapsed": true
   },
   "outputs": [],
   "source": [
    "class AccessCounter(object):\n",
    "        '''A class that contains a value and implements an access counter.\n",
    "        The counter increments each time the value is changed.'''\n",
    "\n",
    "        def __init__(self, val):\n",
    "            super(AccessCounter, self).__setattr__('counter', 0)\n",
    "            super(AccessCounter, self).__setattr__('value', val)\n",
    "\n",
    "        def __setattr__(self, name, value):\n",
    "            if name == 'value':\n",
    "                super(AccessCounter, self).__setattr__('counter', self.counter + 1)\n",
    "            super(AccessCounter, self).__setattr__(name, value)\n",
    "\n",
    "        def __delattr__(self, name):\n",
    "            if name == 'value':\n",
    "                super(AccessCounter, self).__setattr__('counter', self.counter + 1)\n",
    "            super(AccessCounter, self).__delattr__(name)"
   ]
  },
  {
   "cell_type": "code",
   "execution_count": 6,
   "metadata": {
    "collapsed": true
   },
   "outputs": [],
   "source": [
    "class FunctionalList:\n",
    "    '''A class wrapping a list with some extra functional magic, like head,\n",
    "    tail, init, last, drop, and take.'''\n",
    "\n",
    "    def __init__(self, values=None):\n",
    "        if values is None:\n",
    "            self.values = []\n",
    "        else:\n",
    "            self.values = values\n",
    "\n",
    "    def __len__(self):\n",
    "        return len(self.values)\n",
    "\n",
    "    def __getitem__(self, key):\n",
    "        # if key is of invalid type or value, the list values will raise the error\n",
    "        return self.values[key]\n",
    "\n",
    "    def __setitem__(self, key, value):\n",
    "        self.values[key] = value\n",
    "\n",
    "    def __delitem__(self, key):\n",
    "        del self.values[key]\n",
    "\n",
    "    def __iter__(self):\n",
    "        return iter(self.values)\n",
    "\n",
    "    def __reversed__(self):\n",
    "        return FunctionalList(reversed(self.values))\n",
    "\n",
    "    def append(self, value):\n",
    "        self.values.append(value)\n",
    "    def head(self):\n",
    "        # get the first element\n",
    "        return self.values[0]\n",
    "    def tail(self):\n",
    "        # get all elements after the first\n",
    "        return self.values[1:]\n",
    "    def init(self):\n",
    "        # get elements up to the last\n",
    "        return self.values[:-1]\n",
    "    def last(self):\n",
    "        # get last element\n",
    "        return self.values[-1]\n",
    "    def drop(self, n):\n",
    "        # get all elements except first n\n",
    "        return self.values[n:]\n",
    "    def take(self, n):\n",
    "        # get first n elements\n",
    "        return self.values[:n]"
   ]
  },
  {
   "cell_type": "code",
   "execution_count": 7,
   "metadata": {
    "collapsed": true
   },
   "outputs": [],
   "source": [
    "class Entity:\n",
    "    '''Class to represent an entity. Callable to update the entity's position.'''\n",
    "\n",
    "    def __init__(self, size, x, y):\n",
    "        self.x, self.y = x, y\n",
    "        self.size = size\n",
    "\n",
    "    def __call__(self, x, y):\n",
    "        '''Change the position of the entity.'''\n",
    "        self.x, self.y = x, y"
   ]
  },
  {
   "cell_type": "code",
   "execution_count": 8,
   "metadata": {
    "collapsed": true
   },
   "outputs": [],
   "source": [
    "class Closer:\n",
    "    '''A context manager to automatically close an object with a close method\n",
    "    in a with statement.'''\n",
    "\n",
    "    def __init__(self, obj):\n",
    "        self.obj = obj\n",
    "\n",
    "    def __enter__(self):\n",
    "        return self.obj # bound to target\n",
    "\n",
    "    def __exit__(self, exception_type, exception_val, trace):\n",
    "        try:\n",
    "           self.obj.close()\n",
    "        except AttributeError: # obj isn't closable\n",
    "           print('Not closable.')\n",
    "           return True # exception handled successfully"
   ]
  },
  {
   "cell_type": "markdown",
   "metadata": {},
   "source": [
    "### Magic methods\n",
    "* getattr, setattr, delattr\n",
    "* Паттерн Bunch()\n",
    "* functools.total_ordering -- позволяет перегрузить только 2 magic methods для сравнения (eq, lt)\n",
    "* call -- перегрузка вызова (скобочки)\n",
    "* repr, str -- преобразовать в строку\n",
    "* format -- изменяет спецификацию формата\n",
    "* hash -- хеш функция\n",
    "* bool -- проверка для проверки значения на истинность, например, в условии оператора if. "
   ]
  },
  {
   "cell_type": "code",
   "execution_count": null,
   "metadata": {
    "collapsed": true
   },
   "outputs": [],
   "source": []
  }
 ],
 "metadata": {
  "kernelspec": {
   "display_name": "Python [Root]",
   "language": "python",
   "name": "Python [Root]"
  },
  "language_info": {
   "codemirror_mode": {
    "name": "ipython",
    "version": 3
   },
   "file_extension": ".py",
   "mimetype": "text/x-python",
   "name": "python",
   "nbconvert_exporter": "python",
   "pygments_lexer": "ipython3",
   "version": "3.5.2"
  }
 },
 "nbformat": 4,
 "nbformat_minor": 0
}
